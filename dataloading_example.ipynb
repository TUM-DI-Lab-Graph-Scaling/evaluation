{
 "cells": [
  {
   "cell_type": "markdown",
   "source": [
    "# Dataloading Example\n",
    "\n",
    "This notebook shows how to load `_resource.csv` and `_runtimes.csv` files from `/data`"
   ],
   "metadata": {
    "collapsed": false,
    "pycharm": {
     "name": "#%% md\n"
    }
   }
  },
  {
   "cell_type": "code",
   "execution_count": 1,
   "outputs": [],
   "source": [
    "import pandas as pd"
   ],
   "metadata": {
    "collapsed": false,
    "pycharm": {
     "name": "#%%\n"
    }
   }
  },
  {
   "cell_type": "markdown",
   "source": [
    "## Read resource files\n",
    "\n",
    "Resource files have the following structure:\n",
    "\n",
    "- _datetime_: Timestamp when the resource snapshot was taken\n",
    "- _epoch_: Current epoch of the trainer\n",
    "- _memory\\_used_: (CPU-)RAM used\n",
    "- _memory\\_free_: (CPU-)RAM available\n",
    "\n",
    "<code>for i in number_of_gpus:</code>\n",
    "- _gpu\\_{i}\\_memory\\_used_: VRAM of GPU i used\n",
    "- _gpu\\_{i}\\_memory\\_free_: VRAM of GPU i available"
   ],
   "metadata": {
    "collapsed": false,
    "pycharm": {
     "name": "#%% md\n"
    }
   }
  },
  {
   "cell_type": "code",
   "execution_count": 2,
   "outputs": [
    {
     "data": {
      "text/plain": "                       datetime  epoch  memory_used  memory_free  \\\n0    2022-07-18 10:05:02.496490      0  42750967808  98423980032   \n1    2022-07-18 10:08:02.598793      0  43498582016  97660993536   \n2    2022-07-18 10:11:02.700742      0  44104036352  97040134144   \n3    2022-07-18 10:14:02.802194      0  44610613248  96521674752   \n4    2022-07-18 10:17:02.903738      0  45281861632  95820500992   \n..                          ...    ...          ...          ...   \n138  2022-07-18 16:59:13.254287      4  48534450176  91633631232   \n139  2022-07-18 17:02:13.353563      4  49754624000  90403942400   \n140  2022-07-18 17:05:13.454855      4  49903726592  90247999488   \n141  2022-07-18 17:08:13.553549      4  50011889664  90137124864   \n142  2022-07-18 17:11:13.654725      4  50094977024  90056749056   \n\n     gpu_0_memory_used  gpu_0_memory_free  gpu_1_memory_used  \\\n0           47173.4375          1966.5625         37352.4375   \n1           48789.4375           350.5625         37352.4375   \n2           31115.4375         18024.5625         39758.4375   \n3           39507.4375          9632.5625         39758.4375   \n4           39507.4375          9632.5625         40630.4375   \n..                 ...                ...                ...   \n138         33625.4375         15514.5625         41666.4375   \n139         33625.4375         15514.5625         41666.4375   \n140         33625.4375         15514.5625         41666.4375   \n141         33625.4375         15514.5625         41666.4375   \n142         33625.4375         15514.5625         41666.4375   \n\n     gpu_1_memory_free  gpu_2_memory_used  gpu_2_memory_free  \\\n0           11787.5625         38978.4375         10161.5625   \n1           11787.5625         39856.4375          9283.5625   \n2            9381.5625         39856.4375          9283.5625   \n3            9381.5625         39856.4375          9283.5625   \n4            8509.5625         40740.4375          8399.5625   \n..                 ...                ...                ...   \n138          7473.5625         41156.4375          7983.5625   \n139          7473.5625         41156.4375          7983.5625   \n140          7473.5625         41156.4375          7983.5625   \n141          7473.5625         43010.4375          6129.5625   \n142          7473.5625         43010.4375          6129.5625   \n\n     gpu_3_memory_used  gpu_3_memory_free  gpu_4_memory_used  \\\n0           39392.4375          9747.5625         35242.4375   \n1           41604.4375          7535.5625         36906.4375   \n2           41604.4375          7535.5625         37760.4375   \n3           41604.4375          7535.5625         37760.4375   \n4           41604.4375          7535.5625         37760.4375   \n..                 ...                ...                ...   \n138         41892.4375          7247.5625         43210.4375   \n139         41892.4375          7247.5625         43210.4375   \n140         41892.4375          7247.5625         43210.4375   \n141         41892.4375          7247.5625         43210.4375   \n142         41892.4375          7247.5625         43210.4375   \n\n     gpu_4_memory_free  gpu_5_memory_used  gpu_5_memory_free  \\\n0           13897.5625         39146.4375          9993.5625   \n1           12233.5625         39970.4375          9169.5625   \n2           11379.5625         40804.4375          8335.5625   \n3           11379.5625         42618.4375          6521.5625   \n4           11379.5625         42618.4375          6521.5625   \n..                 ...                ...                ...   \n138          5929.5625         45428.4375          3711.5625   \n139          5929.5625         45428.4375          3711.5625   \n140          5929.5625         45428.4375          3711.5625   \n141          5929.5625         45428.4375          3711.5625   \n142          5929.5625         45428.4375          3711.5625   \n\n     gpu_6_memory_used  gpu_6_memory_free  gpu_7_memory_used  \\\n0           36578.4375         12561.5625         39018.4375   \n1           38246.4375         10893.5625         39018.4375   \n2           38246.4375         10893.5625         39018.4375   \n3           40002.4375          9137.5625         40836.4375   \n4           40002.4375          9137.5625         40836.4375   \n..                 ...                ...                ...   \n138         39498.4375          9641.5625         40082.4375   \n139         39498.4375          9641.5625         40082.4375   \n140         39498.4375          9641.5625         40082.4375   \n141         39498.4375          9641.5625         40082.4375   \n142         39498.4375          9641.5625         40082.4375   \n\n     gpu_7_memory_free  \n0           10121.5625  \n1           10121.5625  \n2           10121.5625  \n3            8303.5625  \n4            8303.5625  \n..                 ...  \n138          9057.5625  \n139          9057.5625  \n140          9057.5625  \n141          9057.5625  \n142          9057.5625  \n\n[143 rows x 20 columns]",
      "text/html": "<div>\n<style scoped>\n    .dataframe tbody tr th:only-of-type {\n        vertical-align: middle;\n    }\n\n    .dataframe tbody tr th {\n        vertical-align: top;\n    }\n\n    .dataframe thead th {\n        text-align: right;\n    }\n</style>\n<table border=\"1\" class=\"dataframe\">\n  <thead>\n    <tr style=\"text-align: right;\">\n      <th></th>\n      <th>datetime</th>\n      <th>epoch</th>\n      <th>memory_used</th>\n      <th>memory_free</th>\n      <th>gpu_0_memory_used</th>\n      <th>gpu_0_memory_free</th>\n      <th>gpu_1_memory_used</th>\n      <th>gpu_1_memory_free</th>\n      <th>gpu_2_memory_used</th>\n      <th>gpu_2_memory_free</th>\n      <th>gpu_3_memory_used</th>\n      <th>gpu_3_memory_free</th>\n      <th>gpu_4_memory_used</th>\n      <th>gpu_4_memory_free</th>\n      <th>gpu_5_memory_used</th>\n      <th>gpu_5_memory_free</th>\n      <th>gpu_6_memory_used</th>\n      <th>gpu_6_memory_free</th>\n      <th>gpu_7_memory_used</th>\n      <th>gpu_7_memory_free</th>\n    </tr>\n  </thead>\n  <tbody>\n    <tr>\n      <th>0</th>\n      <td>2022-07-18 10:05:02.496490</td>\n      <td>0</td>\n      <td>42750967808</td>\n      <td>98423980032</td>\n      <td>47173.4375</td>\n      <td>1966.5625</td>\n      <td>37352.4375</td>\n      <td>11787.5625</td>\n      <td>38978.4375</td>\n      <td>10161.5625</td>\n      <td>39392.4375</td>\n      <td>9747.5625</td>\n      <td>35242.4375</td>\n      <td>13897.5625</td>\n      <td>39146.4375</td>\n      <td>9993.5625</td>\n      <td>36578.4375</td>\n      <td>12561.5625</td>\n      <td>39018.4375</td>\n      <td>10121.5625</td>\n    </tr>\n    <tr>\n      <th>1</th>\n      <td>2022-07-18 10:08:02.598793</td>\n      <td>0</td>\n      <td>43498582016</td>\n      <td>97660993536</td>\n      <td>48789.4375</td>\n      <td>350.5625</td>\n      <td>37352.4375</td>\n      <td>11787.5625</td>\n      <td>39856.4375</td>\n      <td>9283.5625</td>\n      <td>41604.4375</td>\n      <td>7535.5625</td>\n      <td>36906.4375</td>\n      <td>12233.5625</td>\n      <td>39970.4375</td>\n      <td>9169.5625</td>\n      <td>38246.4375</td>\n      <td>10893.5625</td>\n      <td>39018.4375</td>\n      <td>10121.5625</td>\n    </tr>\n    <tr>\n      <th>2</th>\n      <td>2022-07-18 10:11:02.700742</td>\n      <td>0</td>\n      <td>44104036352</td>\n      <td>97040134144</td>\n      <td>31115.4375</td>\n      <td>18024.5625</td>\n      <td>39758.4375</td>\n      <td>9381.5625</td>\n      <td>39856.4375</td>\n      <td>9283.5625</td>\n      <td>41604.4375</td>\n      <td>7535.5625</td>\n      <td>37760.4375</td>\n      <td>11379.5625</td>\n      <td>40804.4375</td>\n      <td>8335.5625</td>\n      <td>38246.4375</td>\n      <td>10893.5625</td>\n      <td>39018.4375</td>\n      <td>10121.5625</td>\n    </tr>\n    <tr>\n      <th>3</th>\n      <td>2022-07-18 10:14:02.802194</td>\n      <td>0</td>\n      <td>44610613248</td>\n      <td>96521674752</td>\n      <td>39507.4375</td>\n      <td>9632.5625</td>\n      <td>39758.4375</td>\n      <td>9381.5625</td>\n      <td>39856.4375</td>\n      <td>9283.5625</td>\n      <td>41604.4375</td>\n      <td>7535.5625</td>\n      <td>37760.4375</td>\n      <td>11379.5625</td>\n      <td>42618.4375</td>\n      <td>6521.5625</td>\n      <td>40002.4375</td>\n      <td>9137.5625</td>\n      <td>40836.4375</td>\n      <td>8303.5625</td>\n    </tr>\n    <tr>\n      <th>4</th>\n      <td>2022-07-18 10:17:02.903738</td>\n      <td>0</td>\n      <td>45281861632</td>\n      <td>95820500992</td>\n      <td>39507.4375</td>\n      <td>9632.5625</td>\n      <td>40630.4375</td>\n      <td>8509.5625</td>\n      <td>40740.4375</td>\n      <td>8399.5625</td>\n      <td>41604.4375</td>\n      <td>7535.5625</td>\n      <td>37760.4375</td>\n      <td>11379.5625</td>\n      <td>42618.4375</td>\n      <td>6521.5625</td>\n      <td>40002.4375</td>\n      <td>9137.5625</td>\n      <td>40836.4375</td>\n      <td>8303.5625</td>\n    </tr>\n    <tr>\n      <th>...</th>\n      <td>...</td>\n      <td>...</td>\n      <td>...</td>\n      <td>...</td>\n      <td>...</td>\n      <td>...</td>\n      <td>...</td>\n      <td>...</td>\n      <td>...</td>\n      <td>...</td>\n      <td>...</td>\n      <td>...</td>\n      <td>...</td>\n      <td>...</td>\n      <td>...</td>\n      <td>...</td>\n      <td>...</td>\n      <td>...</td>\n      <td>...</td>\n      <td>...</td>\n    </tr>\n    <tr>\n      <th>138</th>\n      <td>2022-07-18 16:59:13.254287</td>\n      <td>4</td>\n      <td>48534450176</td>\n      <td>91633631232</td>\n      <td>33625.4375</td>\n      <td>15514.5625</td>\n      <td>41666.4375</td>\n      <td>7473.5625</td>\n      <td>41156.4375</td>\n      <td>7983.5625</td>\n      <td>41892.4375</td>\n      <td>7247.5625</td>\n      <td>43210.4375</td>\n      <td>5929.5625</td>\n      <td>45428.4375</td>\n      <td>3711.5625</td>\n      <td>39498.4375</td>\n      <td>9641.5625</td>\n      <td>40082.4375</td>\n      <td>9057.5625</td>\n    </tr>\n    <tr>\n      <th>139</th>\n      <td>2022-07-18 17:02:13.353563</td>\n      <td>4</td>\n      <td>49754624000</td>\n      <td>90403942400</td>\n      <td>33625.4375</td>\n      <td>15514.5625</td>\n      <td>41666.4375</td>\n      <td>7473.5625</td>\n      <td>41156.4375</td>\n      <td>7983.5625</td>\n      <td>41892.4375</td>\n      <td>7247.5625</td>\n      <td>43210.4375</td>\n      <td>5929.5625</td>\n      <td>45428.4375</td>\n      <td>3711.5625</td>\n      <td>39498.4375</td>\n      <td>9641.5625</td>\n      <td>40082.4375</td>\n      <td>9057.5625</td>\n    </tr>\n    <tr>\n      <th>140</th>\n      <td>2022-07-18 17:05:13.454855</td>\n      <td>4</td>\n      <td>49903726592</td>\n      <td>90247999488</td>\n      <td>33625.4375</td>\n      <td>15514.5625</td>\n      <td>41666.4375</td>\n      <td>7473.5625</td>\n      <td>41156.4375</td>\n      <td>7983.5625</td>\n      <td>41892.4375</td>\n      <td>7247.5625</td>\n      <td>43210.4375</td>\n      <td>5929.5625</td>\n      <td>45428.4375</td>\n      <td>3711.5625</td>\n      <td>39498.4375</td>\n      <td>9641.5625</td>\n      <td>40082.4375</td>\n      <td>9057.5625</td>\n    </tr>\n    <tr>\n      <th>141</th>\n      <td>2022-07-18 17:08:13.553549</td>\n      <td>4</td>\n      <td>50011889664</td>\n      <td>90137124864</td>\n      <td>33625.4375</td>\n      <td>15514.5625</td>\n      <td>41666.4375</td>\n      <td>7473.5625</td>\n      <td>43010.4375</td>\n      <td>6129.5625</td>\n      <td>41892.4375</td>\n      <td>7247.5625</td>\n      <td>43210.4375</td>\n      <td>5929.5625</td>\n      <td>45428.4375</td>\n      <td>3711.5625</td>\n      <td>39498.4375</td>\n      <td>9641.5625</td>\n      <td>40082.4375</td>\n      <td>9057.5625</td>\n    </tr>\n    <tr>\n      <th>142</th>\n      <td>2022-07-18 17:11:13.654725</td>\n      <td>4</td>\n      <td>50094977024</td>\n      <td>90056749056</td>\n      <td>33625.4375</td>\n      <td>15514.5625</td>\n      <td>41666.4375</td>\n      <td>7473.5625</td>\n      <td>43010.4375</td>\n      <td>6129.5625</td>\n      <td>41892.4375</td>\n      <td>7247.5625</td>\n      <td>43210.4375</td>\n      <td>5929.5625</td>\n      <td>45428.4375</td>\n      <td>3711.5625</td>\n      <td>39498.4375</td>\n      <td>9641.5625</td>\n      <td>40082.4375</td>\n      <td>9057.5625</td>\n    </tr>\n  </tbody>\n</table>\n<p>143 rows × 20 columns</p>\n</div>"
     },
     "execution_count": 2,
     "metadata": {},
     "output_type": "execute_result"
    }
   ],
   "source": [
    "import itertools\n",
    "\n",
    "num_gpus = 8\n",
    "gpu_headers = list(itertools.chain.from_iterable([[f\"gpu_{i}_memory_used\", f\"gpu_{i}_memory_free\"] for i in range(num_gpus)]))\n",
    "\n",
    "resources = pd.read_csv(\"ocp-metrics/s2ef/gemnet_t/1658138522_stage1_8gpus_resources.csv\",\n",
    "                        header=None,\n",
    "                        names=[\n",
    "                            \"datetime\",\n",
    "                            \"epoch\",\n",
    "                            \"memory_used\",\n",
    "                            \"memory_free\"\n",
    "                        ] + gpu_headers)\n",
    "\n",
    "resources"
   ],
   "metadata": {
    "collapsed": false,
    "pycharm": {
     "name": "#%%\n"
    }
   }
  },
  {
   "cell_type": "markdown",
   "source": [
    "## Read runtime files\n",
    "\n",
    "Runtime files have the following structure:\n",
    "\n",
    "- _rank_: Rank of device (=GPU)\n",
    "- _epoch_: Current epoch of the trainer\n",
    "- _epoch\\_time_: Total time of epoch (in s)\n",
    "- _dataloading\\_time_: Time spend during dataloading (in s)\n",
    "- _forward\\_time_: Time spend during forward pass (in s)\n",
    "- _backward\\_time_: Time spend during backward pass (in s)"
   ],
   "metadata": {
    "collapsed": false,
    "pycharm": {
     "name": "#%% md\n"
    }
   }
  },
  {
   "cell_type": "code",
   "execution_count": 3,
   "outputs": [
    {
     "data": {
      "text/plain": "    rank  epoch   epoch_time  dataloading_time  forward_time  backward_time\n0      0      0  4831.628426          2.502689   2029.771993    2305.274723\n1      6      0  4831.838826          3.137321   2029.729852    2306.256300\n2      7      0  4831.991909          2.420488   2012.909939    2305.317963\n3      4      0  4831.998671          2.444411   2029.129666    2305.356793\n4      3      0  4832.032114          2.464529   2016.577881    2304.924315\n5      5      0  4832.042439          2.252492   2012.139287    2304.625425\n6      2      0  4832.046059          2.442905   2025.135091    2304.629135\n7      1      0  4832.072531          2.356498   2004.619684    2304.765459\n8      0      1  5637.699811          2.422401   2698.231861    2305.291131\n9      7      1  5637.507586          2.320783   2683.775887    2305.674166\n10     3      1  5637.544804          2.424414   2684.504913    2305.532411\n11     6      1  5637.740159          2.598678   2708.289949    2305.997719\n12     4      1  5637.582091          2.418443   2700.187313    2305.428679\n13     2      1  5637.541139          2.774790   2703.166896    2304.372642\n14     5      1  5637.554196          2.305731   2677.511042    2304.995698\n15     1      1  5637.550283          2.758900   2671.904317    2304.449231\n16     0      2  4833.309604          2.425753   2025.365989    2304.990817\n17     4      2  4833.627369          2.384682   2030.832889    2305.585733\n18     3      2  4833.640861          2.378802   2017.245053    2305.212221\n19     2      2  4833.649904          2.431948   2029.481203    2304.227342\n20     5      2  4833.679094          2.407386   2011.600127    2304.811671\n21     7      2  4833.786877          2.217740   2012.717669    2305.819822\n22     6      2  4833.708603          2.382431   2026.923937    2306.149390\n23     1      2  4833.684765          2.287923   2007.136524    2304.484057\n24     0      3  5642.762739          2.410346   2701.550983    2306.190392\n25     1      3  5642.773554          2.396191   2675.649651    2306.434489\n26     2      3  5642.861376          2.241670   2703.087985    2305.680124\n27     5      3  5642.864461          2.356214   2683.746968    2306.989714\n28     6      3  5642.852387          2.424814   2705.050301    2307.349887\n29     7      3  5642.859679          2.251688   2687.719157    2307.304250\n30     4      3  5642.971490          2.401196   2703.722714    2307.138167\n31     3      3  5642.963850          2.447568   2692.221024    2306.398358\n32     0      4  4839.103227          2.406576   2029.149352    2306.041126\n33     3      4  4838.901954          2.422270   2015.664901    2306.687143\n34     1      4  4839.031676          2.383926   2004.981511    2305.937453\n35     2      4  4839.014428          2.417718   2031.914758    2305.836406\n36     7      4  4838.967797          2.251511   2014.796950    2306.773212\n37     4      4  4838.952610          2.508442   2028.134966    2306.817678\n38     6      4  4838.997321          2.393220   2033.435762    2307.178683\n39     5      4  4839.000523          2.371402   2015.649456    2306.484051",
      "text/html": "<div>\n<style scoped>\n    .dataframe tbody tr th:only-of-type {\n        vertical-align: middle;\n    }\n\n    .dataframe tbody tr th {\n        vertical-align: top;\n    }\n\n    .dataframe thead th {\n        text-align: right;\n    }\n</style>\n<table border=\"1\" class=\"dataframe\">\n  <thead>\n    <tr style=\"text-align: right;\">\n      <th></th>\n      <th>rank</th>\n      <th>epoch</th>\n      <th>epoch_time</th>\n      <th>dataloading_time</th>\n      <th>forward_time</th>\n      <th>backward_time</th>\n    </tr>\n  </thead>\n  <tbody>\n    <tr>\n      <th>0</th>\n      <td>0</td>\n      <td>0</td>\n      <td>4831.628426</td>\n      <td>2.502689</td>\n      <td>2029.771993</td>\n      <td>2305.274723</td>\n    </tr>\n    <tr>\n      <th>1</th>\n      <td>6</td>\n      <td>0</td>\n      <td>4831.838826</td>\n      <td>3.137321</td>\n      <td>2029.729852</td>\n      <td>2306.256300</td>\n    </tr>\n    <tr>\n      <th>2</th>\n      <td>7</td>\n      <td>0</td>\n      <td>4831.991909</td>\n      <td>2.420488</td>\n      <td>2012.909939</td>\n      <td>2305.317963</td>\n    </tr>\n    <tr>\n      <th>3</th>\n      <td>4</td>\n      <td>0</td>\n      <td>4831.998671</td>\n      <td>2.444411</td>\n      <td>2029.129666</td>\n      <td>2305.356793</td>\n    </tr>\n    <tr>\n      <th>4</th>\n      <td>3</td>\n      <td>0</td>\n      <td>4832.032114</td>\n      <td>2.464529</td>\n      <td>2016.577881</td>\n      <td>2304.924315</td>\n    </tr>\n    <tr>\n      <th>5</th>\n      <td>5</td>\n      <td>0</td>\n      <td>4832.042439</td>\n      <td>2.252492</td>\n      <td>2012.139287</td>\n      <td>2304.625425</td>\n    </tr>\n    <tr>\n      <th>6</th>\n      <td>2</td>\n      <td>0</td>\n      <td>4832.046059</td>\n      <td>2.442905</td>\n      <td>2025.135091</td>\n      <td>2304.629135</td>\n    </tr>\n    <tr>\n      <th>7</th>\n      <td>1</td>\n      <td>0</td>\n      <td>4832.072531</td>\n      <td>2.356498</td>\n      <td>2004.619684</td>\n      <td>2304.765459</td>\n    </tr>\n    <tr>\n      <th>8</th>\n      <td>0</td>\n      <td>1</td>\n      <td>5637.699811</td>\n      <td>2.422401</td>\n      <td>2698.231861</td>\n      <td>2305.291131</td>\n    </tr>\n    <tr>\n      <th>9</th>\n      <td>7</td>\n      <td>1</td>\n      <td>5637.507586</td>\n      <td>2.320783</td>\n      <td>2683.775887</td>\n      <td>2305.674166</td>\n    </tr>\n    <tr>\n      <th>10</th>\n      <td>3</td>\n      <td>1</td>\n      <td>5637.544804</td>\n      <td>2.424414</td>\n      <td>2684.504913</td>\n      <td>2305.532411</td>\n    </tr>\n    <tr>\n      <th>11</th>\n      <td>6</td>\n      <td>1</td>\n      <td>5637.740159</td>\n      <td>2.598678</td>\n      <td>2708.289949</td>\n      <td>2305.997719</td>\n    </tr>\n    <tr>\n      <th>12</th>\n      <td>4</td>\n      <td>1</td>\n      <td>5637.582091</td>\n      <td>2.418443</td>\n      <td>2700.187313</td>\n      <td>2305.428679</td>\n    </tr>\n    <tr>\n      <th>13</th>\n      <td>2</td>\n      <td>1</td>\n      <td>5637.541139</td>\n      <td>2.774790</td>\n      <td>2703.166896</td>\n      <td>2304.372642</td>\n    </tr>\n    <tr>\n      <th>14</th>\n      <td>5</td>\n      <td>1</td>\n      <td>5637.554196</td>\n      <td>2.305731</td>\n      <td>2677.511042</td>\n      <td>2304.995698</td>\n    </tr>\n    <tr>\n      <th>15</th>\n      <td>1</td>\n      <td>1</td>\n      <td>5637.550283</td>\n      <td>2.758900</td>\n      <td>2671.904317</td>\n      <td>2304.449231</td>\n    </tr>\n    <tr>\n      <th>16</th>\n      <td>0</td>\n      <td>2</td>\n      <td>4833.309604</td>\n      <td>2.425753</td>\n      <td>2025.365989</td>\n      <td>2304.990817</td>\n    </tr>\n    <tr>\n      <th>17</th>\n      <td>4</td>\n      <td>2</td>\n      <td>4833.627369</td>\n      <td>2.384682</td>\n      <td>2030.832889</td>\n      <td>2305.585733</td>\n    </tr>\n    <tr>\n      <th>18</th>\n      <td>3</td>\n      <td>2</td>\n      <td>4833.640861</td>\n      <td>2.378802</td>\n      <td>2017.245053</td>\n      <td>2305.212221</td>\n    </tr>\n    <tr>\n      <th>19</th>\n      <td>2</td>\n      <td>2</td>\n      <td>4833.649904</td>\n      <td>2.431948</td>\n      <td>2029.481203</td>\n      <td>2304.227342</td>\n    </tr>\n    <tr>\n      <th>20</th>\n      <td>5</td>\n      <td>2</td>\n      <td>4833.679094</td>\n      <td>2.407386</td>\n      <td>2011.600127</td>\n      <td>2304.811671</td>\n    </tr>\n    <tr>\n      <th>21</th>\n      <td>7</td>\n      <td>2</td>\n      <td>4833.786877</td>\n      <td>2.217740</td>\n      <td>2012.717669</td>\n      <td>2305.819822</td>\n    </tr>\n    <tr>\n      <th>22</th>\n      <td>6</td>\n      <td>2</td>\n      <td>4833.708603</td>\n      <td>2.382431</td>\n      <td>2026.923937</td>\n      <td>2306.149390</td>\n    </tr>\n    <tr>\n      <th>23</th>\n      <td>1</td>\n      <td>2</td>\n      <td>4833.684765</td>\n      <td>2.287923</td>\n      <td>2007.136524</td>\n      <td>2304.484057</td>\n    </tr>\n    <tr>\n      <th>24</th>\n      <td>0</td>\n      <td>3</td>\n      <td>5642.762739</td>\n      <td>2.410346</td>\n      <td>2701.550983</td>\n      <td>2306.190392</td>\n    </tr>\n    <tr>\n      <th>25</th>\n      <td>1</td>\n      <td>3</td>\n      <td>5642.773554</td>\n      <td>2.396191</td>\n      <td>2675.649651</td>\n      <td>2306.434489</td>\n    </tr>\n    <tr>\n      <th>26</th>\n      <td>2</td>\n      <td>3</td>\n      <td>5642.861376</td>\n      <td>2.241670</td>\n      <td>2703.087985</td>\n      <td>2305.680124</td>\n    </tr>\n    <tr>\n      <th>27</th>\n      <td>5</td>\n      <td>3</td>\n      <td>5642.864461</td>\n      <td>2.356214</td>\n      <td>2683.746968</td>\n      <td>2306.989714</td>\n    </tr>\n    <tr>\n      <th>28</th>\n      <td>6</td>\n      <td>3</td>\n      <td>5642.852387</td>\n      <td>2.424814</td>\n      <td>2705.050301</td>\n      <td>2307.349887</td>\n    </tr>\n    <tr>\n      <th>29</th>\n      <td>7</td>\n      <td>3</td>\n      <td>5642.859679</td>\n      <td>2.251688</td>\n      <td>2687.719157</td>\n      <td>2307.304250</td>\n    </tr>\n    <tr>\n      <th>30</th>\n      <td>4</td>\n      <td>3</td>\n      <td>5642.971490</td>\n      <td>2.401196</td>\n      <td>2703.722714</td>\n      <td>2307.138167</td>\n    </tr>\n    <tr>\n      <th>31</th>\n      <td>3</td>\n      <td>3</td>\n      <td>5642.963850</td>\n      <td>2.447568</td>\n      <td>2692.221024</td>\n      <td>2306.398358</td>\n    </tr>\n    <tr>\n      <th>32</th>\n      <td>0</td>\n      <td>4</td>\n      <td>4839.103227</td>\n      <td>2.406576</td>\n      <td>2029.149352</td>\n      <td>2306.041126</td>\n    </tr>\n    <tr>\n      <th>33</th>\n      <td>3</td>\n      <td>4</td>\n      <td>4838.901954</td>\n      <td>2.422270</td>\n      <td>2015.664901</td>\n      <td>2306.687143</td>\n    </tr>\n    <tr>\n      <th>34</th>\n      <td>1</td>\n      <td>4</td>\n      <td>4839.031676</td>\n      <td>2.383926</td>\n      <td>2004.981511</td>\n      <td>2305.937453</td>\n    </tr>\n    <tr>\n      <th>35</th>\n      <td>2</td>\n      <td>4</td>\n      <td>4839.014428</td>\n      <td>2.417718</td>\n      <td>2031.914758</td>\n      <td>2305.836406</td>\n    </tr>\n    <tr>\n      <th>36</th>\n      <td>7</td>\n      <td>4</td>\n      <td>4838.967797</td>\n      <td>2.251511</td>\n      <td>2014.796950</td>\n      <td>2306.773212</td>\n    </tr>\n    <tr>\n      <th>37</th>\n      <td>4</td>\n      <td>4</td>\n      <td>4838.952610</td>\n      <td>2.508442</td>\n      <td>2028.134966</td>\n      <td>2306.817678</td>\n    </tr>\n    <tr>\n      <th>38</th>\n      <td>6</td>\n      <td>4</td>\n      <td>4838.997321</td>\n      <td>2.393220</td>\n      <td>2033.435762</td>\n      <td>2307.178683</td>\n    </tr>\n    <tr>\n      <th>39</th>\n      <td>5</td>\n      <td>4</td>\n      <td>4839.000523</td>\n      <td>2.371402</td>\n      <td>2015.649456</td>\n      <td>2306.484051</td>\n    </tr>\n  </tbody>\n</table>\n</div>"
     },
     "execution_count": 3,
     "metadata": {},
     "output_type": "execute_result"
    }
   ],
   "source": [
    "runtimes = pd.read_csv(\"ocp-metrics/s2ef/gemnet_t/1658138522_stage1_8gpus_runtimes.csv\",\n",
    "                        header=None,\n",
    "                        names=[\n",
    "                            \"rank\",\n",
    "                            \"epoch\",\n",
    "                            \"epoch_time\",\n",
    "                            \"dataloading_time\",\n",
    "                            \"forward_time\",\n",
    "                            \"backward_time\"\n",
    "                        ])\n",
    "\n",
    "runtimes"
   ],
   "metadata": {
    "collapsed": false,
    "pycharm": {
     "name": "#%%\n"
    }
   }
  }
 ],
 "metadata": {
  "kernelspec": {
   "display_name": "Python 3",
   "language": "python",
   "name": "python3"
  },
  "language_info": {
   "codemirror_mode": {
    "name": "ipython",
    "version": 2
   },
   "file_extension": ".py",
   "mimetype": "text/x-python",
   "name": "python",
   "nbconvert_exporter": "python",
   "pygments_lexer": "ipython2",
   "version": "2.7.6"
  }
 },
 "nbformat": 4,
 "nbformat_minor": 0
}