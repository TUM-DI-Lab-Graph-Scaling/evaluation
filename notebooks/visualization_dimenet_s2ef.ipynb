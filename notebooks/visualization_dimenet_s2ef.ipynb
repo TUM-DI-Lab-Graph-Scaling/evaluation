{
 "cells": [
  {
   "cell_type": "markdown",
   "metadata": {},
   "source": [
    "# Evaluation of GPU memory consumption for CUDA Tensors"
   ]
  },
  {
   "cell_type": "code",
   "execution_count": 1,
   "metadata": {},
   "outputs": [],
   "source": [
    "import sys\n",
    "sys.path.append(\"/Users/danielherbst/Desktop/evaluation\")"
   ]
  },
  {
   "cell_type": "code",
   "execution_count": 2,
   "metadata": {},
   "outputs": [],
   "source": [
    "from evaluation_routines.data_loading import OCPDataFrameLoader\n",
    "from evaluation_routines.cuda_memory import CUDAMemory\n",
    "from evaluation_routines.runtimes import Runtimes"
   ]
  },
  {
   "cell_type": "markdown",
   "metadata": {},
   "source": [
    "## Data loading\n",
    "\n",
    "At first, we specify the paths necessary for evaluation. This includes:\n",
    "- the ocp metrics directory stored in `ocp_metrics_path`\n",
    "- the directory `directory` for the specific model/series of runs we would like to consider\n",
    "- the runs `runs` as a `dict` with shorter name as key and the respective csv filenames without \"_resources/...\" extensions"
   ]
  },
  {
   "cell_type": "code",
   "execution_count": 3,
   "metadata": {},
   "outputs": [],
   "source": [
    "ocp_metrics_path = \"/Users/danielherbst/Desktop/ocp-metrics\"\n",
    "directory = \"s2ef/dimenetplusplus_xl/batch_size_2\"\n",
    "\n",
    "runs = {\n",
    "    \"S0\":           \"1659012218_stage0_8gpus\",\n",
    "    \"S0+fp16\":      \"1659026432_stage0_8gpus\",\n",
    "    \"S1\":           \"1659081619_stage1_8gpus\",\n",
    "    \"S1+OC\":        \"1659044604_stage1_8gpus\",\n",
    "    \"S2+OC\":        \"1659081620_stage2_8gpus\",\n",
    "    \"S2+OO+OC\":     \"1659081621_stage2_8gpus\",\n",
    "    \"S3+OC\":        \"1659059295_stage3_8gpus\",\n",
    "    \"S3+PO+OO+OC\":  \"1659068622_stage3_8gpus_offloadOptimizer[cpu]_offloadParam[cpu]\"\n",
    "}\n",
    "formatted_run_names_1 = [\n",
    "    r\"\\textbf{S0}\",\n",
    "    r\"\\textbf{S0}\" + \"+fp16\",\n",
    "    r\"\\textbf{S1}\",\n",
    "    r\"\\textbf{S1}\" + \"+OC\",\n",
    "    r\"\\textbf{S2}\" + \"+OC\",\n",
    "    r\"\\textbf{S2}\" + \"+OO+OC\",\n",
    "    r\"\\textbf{S3}\" + \"+OC\",\n",
    "    r\"\\textbf{S3}\" + \"+PO+OO+OC\"\n",
    "]\n",
    "formatted_run_names_2 = [\n",
    "    r\"\\textbf{S0}\",\n",
    "    r\"\\textbf{S0}\" + \"+fp16\",\n",
    "    r\"\\textbf{S1}\",\n",
    "    r\"\\textbf{S1}\" + \"+OC\",\n",
    "    r\"\\textbf{S2}\" + \"+OC\",\n",
    "    r\"\\textbf{S2}\" + \"+OO\\n+OC\",\n",
    "    r\"\\textbf{S3}\" + \"+OC\",\n",
    "    r\"\\textbf{S3}\" + \"+PO\\n+OO+OC\"\n",
    "]\n",
    "tick_colors = [\n",
    "    \"black\",\n",
    "    \"black\",\n",
    "    \"black\",\n",
    "    \"black\",\n",
    "    \"red\",\n",
    "    \"red\",\n",
    "    \"black\",\n",
    "    \"black\",\n",
    "]\n",
    "\n",
    "data_loader = OCPDataFrameLoader(ocp_metrics_path, directory, runs)\n",
    "cuda_memory, runtimes = CUDAMemory(data_loader), Runtimes(data_loader)"
   ]
  },
  {
   "cell_type": "code",
   "execution_count": 4,
   "metadata": {},
   "outputs": [],
   "source": [
    "resources_paths, torch_cuda_paths, runtimes_paths = data_loader.get_paths()"
   ]
  },
  {
   "cell_type": "markdown",
   "metadata": {},
   "source": [
    "## Inspection of a single run\n",
    "\n",
    "At first, we inspect single runs with a set DeepSpeed configuration. We look at statistical summaries of the allocated and reserved memory as well as runtimes."
   ]
  },
  {
   "cell_type": "code",
   "execution_count": 5,
   "metadata": {},
   "outputs": [
    {
     "data": {
      "text/html": [
       "<div>\n",
       "<style scoped>\n",
       "    .dataframe tbody tr th:only-of-type {\n",
       "        vertical-align: middle;\n",
       "    }\n",
       "\n",
       "    .dataframe tbody tr th {\n",
       "        vertical-align: top;\n",
       "    }\n",
       "\n",
       "    .dataframe thead th {\n",
       "        text-align: right;\n",
       "    }\n",
       "</style>\n",
       "<table border=\"1\" class=\"dataframe\">\n",
       "  <thead>\n",
       "    <tr style=\"text-align: right;\">\n",
       "      <th></th>\n",
       "      <th>datetime</th>\n",
       "      <th>epoch</th>\n",
       "      <th>rank</th>\n",
       "      <th>gpu_memory_allocated</th>\n",
       "      <th>gpu_memory_reserved</th>\n",
       "    </tr>\n",
       "  </thead>\n",
       "  <tbody>\n",
       "    <tr>\n",
       "      <th>0</th>\n",
       "      <td>2022-07-28 12:43:40.539547</td>\n",
       "      <td>0</td>\n",
       "      <td>7</td>\n",
       "      <td>864.797184</td>\n",
       "      <td>891.289600</td>\n",
       "    </tr>\n",
       "    <tr>\n",
       "      <th>1</th>\n",
       "      <td>2022-07-28 12:43:40.539541</td>\n",
       "      <td>0</td>\n",
       "      <td>3</td>\n",
       "      <td>864.797184</td>\n",
       "      <td>891.289600</td>\n",
       "    </tr>\n",
       "    <tr>\n",
       "      <th>2</th>\n",
       "      <td>2022-07-28 12:43:40.539609</td>\n",
       "      <td>0</td>\n",
       "      <td>4</td>\n",
       "      <td>864.797184</td>\n",
       "      <td>891.289600</td>\n",
       "    </tr>\n",
       "    <tr>\n",
       "      <th>3</th>\n",
       "      <td>2022-07-28 12:43:40.539627</td>\n",
       "      <td>0</td>\n",
       "      <td>1</td>\n",
       "      <td>864.797184</td>\n",
       "      <td>891.289600</td>\n",
       "    </tr>\n",
       "    <tr>\n",
       "      <th>4</th>\n",
       "      <td>2022-07-28 12:43:40.539668</td>\n",
       "      <td>0</td>\n",
       "      <td>2</td>\n",
       "      <td>864.797184</td>\n",
       "      <td>891.289600</td>\n",
       "    </tr>\n",
       "    <tr>\n",
       "      <th>...</th>\n",
       "      <td>...</td>\n",
       "      <td>...</td>\n",
       "      <td>...</td>\n",
       "      <td>...</td>\n",
       "      <td>...</td>\n",
       "    </tr>\n",
       "    <tr>\n",
       "      <th>199995</th>\n",
       "      <td>2022-07-28 16:38:29.144254</td>\n",
       "      <td>0</td>\n",
       "      <td>5</td>\n",
       "      <td>3461.210624</td>\n",
       "      <td>35571.892224</td>\n",
       "    </tr>\n",
       "    <tr>\n",
       "      <th>199996</th>\n",
       "      <td>2022-07-28 16:38:29.144538</td>\n",
       "      <td>0</td>\n",
       "      <td>1</td>\n",
       "      <td>3459.441152</td>\n",
       "      <td>46074.429440</td>\n",
       "    </tr>\n",
       "    <tr>\n",
       "      <th>199997</th>\n",
       "      <td>2022-07-28 16:38:29.144554</td>\n",
       "      <td>0</td>\n",
       "      <td>6</td>\n",
       "      <td>3488.278528</td>\n",
       "      <td>33231.470592</td>\n",
       "    </tr>\n",
       "    <tr>\n",
       "      <th>199998</th>\n",
       "      <td>2022-07-28 16:38:29.144985</td>\n",
       "      <td>0</td>\n",
       "      <td>7</td>\n",
       "      <td>3461.513728</td>\n",
       "      <td>32247.906304</td>\n",
       "    </tr>\n",
       "    <tr>\n",
       "      <th>199999</th>\n",
       "      <td>2022-07-28 16:38:29.144998</td>\n",
       "      <td>0</td>\n",
       "      <td>0</td>\n",
       "      <td>3465.184256</td>\n",
       "      <td>30949.769216</td>\n",
       "    </tr>\n",
       "  </tbody>\n",
       "</table>\n",
       "<p>200000 rows × 5 columns</p>\n",
       "</div>"
      ],
      "text/plain": [
       "                          datetime  epoch  rank  gpu_memory_allocated  \\\n",
       "0       2022-07-28 12:43:40.539547      0     7            864.797184   \n",
       "1       2022-07-28 12:43:40.539541      0     3            864.797184   \n",
       "2       2022-07-28 12:43:40.539609      0     4            864.797184   \n",
       "3       2022-07-28 12:43:40.539627      0     1            864.797184   \n",
       "4       2022-07-28 12:43:40.539668      0     2            864.797184   \n",
       "...                            ...    ...   ...                   ...   \n",
       "199995  2022-07-28 16:38:29.144254      0     5           3461.210624   \n",
       "199996  2022-07-28 16:38:29.144538      0     1           3459.441152   \n",
       "199997  2022-07-28 16:38:29.144554      0     6           3488.278528   \n",
       "199998  2022-07-28 16:38:29.144985      0     7           3461.513728   \n",
       "199999  2022-07-28 16:38:29.144998      0     0           3465.184256   \n",
       "\n",
       "        gpu_memory_reserved  \n",
       "0                891.289600  \n",
       "1                891.289600  \n",
       "2                891.289600  \n",
       "3                891.289600  \n",
       "4                891.289600  \n",
       "...                     ...  \n",
       "199995         35571.892224  \n",
       "199996         46074.429440  \n",
       "199997         33231.470592  \n",
       "199998         32247.906304  \n",
       "199999         30949.769216  \n",
       "\n",
       "[200000 rows x 5 columns]"
      ]
     },
     "execution_count": 5,
     "metadata": {},
     "output_type": "execute_result"
    }
   ],
   "source": [
    "cuda_df = data_loader.get_metrics_csv(torch_cuda_paths[\"S0\"], csv_type=\"torch_cuda\")\n",
    "cuda_df"
   ]
  },
  {
   "cell_type": "code",
   "execution_count": 6,
   "metadata": {},
   "outputs": [
    {
     "data": {
      "text/html": [
       "<div>\n",
       "<style scoped>\n",
       "    .dataframe tbody tr th:only-of-type {\n",
       "        vertical-align: middle;\n",
       "    }\n",
       "\n",
       "    .dataframe tbody tr th {\n",
       "        vertical-align: top;\n",
       "    }\n",
       "\n",
       "    .dataframe thead th {\n",
       "        text-align: right;\n",
       "    }\n",
       "</style>\n",
       "<table border=\"1\" class=\"dataframe\">\n",
       "  <thead>\n",
       "    <tr style=\"text-align: right;\">\n",
       "      <th></th>\n",
       "      <th>rank</th>\n",
       "      <th>epoch</th>\n",
       "      <th>epoch_time</th>\n",
       "      <th>dataloading_time</th>\n",
       "      <th>forward_time</th>\n",
       "      <th>backward_time</th>\n",
       "      <th>rest</th>\n",
       "    </tr>\n",
       "  </thead>\n",
       "  <tbody>\n",
       "    <tr>\n",
       "      <th>0</th>\n",
       "      <td>7</td>\n",
       "      <td>0</td>\n",
       "      <td>14092.071324</td>\n",
       "      <td>20.233304</td>\n",
       "      <td>2504.550513</td>\n",
       "      <td>10574.917258</td>\n",
       "      <td>992.370250</td>\n",
       "    </tr>\n",
       "    <tr>\n",
       "      <th>1</th>\n",
       "      <td>6</td>\n",
       "      <td>0</td>\n",
       "      <td>14092.081328</td>\n",
       "      <td>25.443232</td>\n",
       "      <td>2407.960369</td>\n",
       "      <td>10597.217847</td>\n",
       "      <td>1061.459880</td>\n",
       "    </tr>\n",
       "    <tr>\n",
       "      <th>2</th>\n",
       "      <td>4</td>\n",
       "      <td>0</td>\n",
       "      <td>14092.083254</td>\n",
       "      <td>34.216081</td>\n",
       "      <td>2647.383901</td>\n",
       "      <td>10587.450639</td>\n",
       "      <td>823.032633</td>\n",
       "    </tr>\n",
       "    <tr>\n",
       "      <th>3</th>\n",
       "      <td>5</td>\n",
       "      <td>0</td>\n",
       "      <td>14092.087242</td>\n",
       "      <td>29.775443</td>\n",
       "      <td>2467.182092</td>\n",
       "      <td>10591.958102</td>\n",
       "      <td>1003.171605</td>\n",
       "    </tr>\n",
       "    <tr>\n",
       "      <th>4</th>\n",
       "      <td>1</td>\n",
       "      <td>0</td>\n",
       "      <td>14092.325961</td>\n",
       "      <td>26.103835</td>\n",
       "      <td>2278.226043</td>\n",
       "      <td>10589.281422</td>\n",
       "      <td>1198.714661</td>\n",
       "    </tr>\n",
       "    <tr>\n",
       "      <th>5</th>\n",
       "      <td>3</td>\n",
       "      <td>0</td>\n",
       "      <td>14092.344434</td>\n",
       "      <td>34.647751</td>\n",
       "      <td>2359.024093</td>\n",
       "      <td>10587.580763</td>\n",
       "      <td>1111.091826</td>\n",
       "    </tr>\n",
       "    <tr>\n",
       "      <th>6</th>\n",
       "      <td>2</td>\n",
       "      <td>0</td>\n",
       "      <td>14092.381621</td>\n",
       "      <td>29.902864</td>\n",
       "      <td>2371.277560</td>\n",
       "      <td>10565.018292</td>\n",
       "      <td>1126.182905</td>\n",
       "    </tr>\n",
       "    <tr>\n",
       "      <th>7</th>\n",
       "      <td>0</td>\n",
       "      <td>0</td>\n",
       "      <td>14094.136906</td>\n",
       "      <td>14.884475</td>\n",
       "      <td>2238.799556</td>\n",
       "      <td>10599.464740</td>\n",
       "      <td>1240.988135</td>\n",
       "    </tr>\n",
       "  </tbody>\n",
       "</table>\n",
       "</div>"
      ],
      "text/plain": [
       "   rank  epoch    epoch_time  dataloading_time  forward_time  backward_time  \\\n",
       "0     7      0  14092.071324         20.233304   2504.550513   10574.917258   \n",
       "1     6      0  14092.081328         25.443232   2407.960369   10597.217847   \n",
       "2     4      0  14092.083254         34.216081   2647.383901   10587.450639   \n",
       "3     5      0  14092.087242         29.775443   2467.182092   10591.958102   \n",
       "4     1      0  14092.325961         26.103835   2278.226043   10589.281422   \n",
       "5     3      0  14092.344434         34.647751   2359.024093   10587.580763   \n",
       "6     2      0  14092.381621         29.902864   2371.277560   10565.018292   \n",
       "7     0      0  14094.136906         14.884475   2238.799556   10599.464740   \n",
       "\n",
       "          rest  \n",
       "0   992.370250  \n",
       "1  1061.459880  \n",
       "2   823.032633  \n",
       "3  1003.171605  \n",
       "4  1198.714661  \n",
       "5  1111.091826  \n",
       "6  1126.182905  \n",
       "7  1240.988135  "
      ]
     },
     "execution_count": 6,
     "metadata": {},
     "output_type": "execute_result"
    }
   ],
   "source": [
    "runtimes_df = data_loader.get_metrics_csv(runtimes_paths[\"S0\"], csv_type=\"runtimes\")\n",
    "runtimes_df"
   ]
  },
  {
   "cell_type": "code",
   "execution_count": 7,
   "metadata": {},
   "outputs": [
    {
     "data": {
      "text/plain": [
       "epoch_time          03:54:52\n",
       "dataloading_time    00:00:26\n",
       "forward_time        00:40:09\n",
       "backward_time       02:56:26\n",
       "rest                00:17:49\n",
       "dtype: object"
      ]
     },
     "execution_count": 7,
     "metadata": {},
     "output_type": "execute_result"
    }
   ],
   "source": [
    "runtimes.means(\"S0\")"
   ]
  },
  {
   "cell_type": "code",
   "execution_count": 8,
   "metadata": {},
   "outputs": [
    {
     "data": {
      "text/html": [
       "<div>\n",
       "<style scoped>\n",
       "    .dataframe tbody tr th:only-of-type {\n",
       "        vertical-align: middle;\n",
       "    }\n",
       "\n",
       "    .dataframe tbody tr th {\n",
       "        vertical-align: top;\n",
       "    }\n",
       "\n",
       "    .dataframe thead tr th {\n",
       "        text-align: left;\n",
       "    }\n",
       "\n",
       "    .dataframe thead tr:last-of-type th {\n",
       "        text-align: right;\n",
       "    }\n",
       "</style>\n",
       "<table border=\"1\" class=\"dataframe\">\n",
       "  <thead>\n",
       "    <tr>\n",
       "      <th></th>\n",
       "      <th colspan=\"8\" halign=\"left\">gpu_memory_allocated</th>\n",
       "      <th colspan=\"8\" halign=\"left\">gpu_memory_reserved</th>\n",
       "    </tr>\n",
       "    <tr>\n",
       "      <th></th>\n",
       "      <th>count</th>\n",
       "      <th>mean</th>\n",
       "      <th>std</th>\n",
       "      <th>min</th>\n",
       "      <th>25%</th>\n",
       "      <th>50%</th>\n",
       "      <th>75%</th>\n",
       "      <th>max</th>\n",
       "      <th>count</th>\n",
       "      <th>mean</th>\n",
       "      <th>std</th>\n",
       "      <th>min</th>\n",
       "      <th>25%</th>\n",
       "      <th>50%</th>\n",
       "      <th>75%</th>\n",
       "      <th>max</th>\n",
       "    </tr>\n",
       "    <tr>\n",
       "      <th>rank</th>\n",
       "      <th></th>\n",
       "      <th></th>\n",
       "      <th></th>\n",
       "      <th></th>\n",
       "      <th></th>\n",
       "      <th></th>\n",
       "      <th></th>\n",
       "      <th></th>\n",
       "      <th></th>\n",
       "      <th></th>\n",
       "      <th></th>\n",
       "      <th></th>\n",
       "      <th></th>\n",
       "      <th></th>\n",
       "      <th></th>\n",
       "      <th></th>\n",
       "    </tr>\n",
       "  </thead>\n",
       "  <tbody>\n",
       "    <tr>\n",
       "      <th>0</th>\n",
       "      <td>25000.0</td>\n",
       "      <td>3464.967040</td>\n",
       "      <td>16.445642</td>\n",
       "      <td>864.797184</td>\n",
       "      <td>3465.038336</td>\n",
       "      <td>3465.070592</td>\n",
       "      <td>3465.103360</td>\n",
       "      <td>3465.276928</td>\n",
       "      <td>25000.0</td>\n",
       "      <td>31246.247369</td>\n",
       "      <td>3951.523388</td>\n",
       "      <td>891.2896</td>\n",
       "      <td>28265.414656</td>\n",
       "      <td>30949.769216</td>\n",
       "      <td>35420.897280</td>\n",
       "      <td>37931.188224</td>\n",
       "    </tr>\n",
       "    <tr>\n",
       "      <th>1</th>\n",
       "      <td>25000.0</td>\n",
       "      <td>3459.322595</td>\n",
       "      <td>16.409948</td>\n",
       "      <td>864.797184</td>\n",
       "      <td>3459.390976</td>\n",
       "      <td>3459.425792</td>\n",
       "      <td>3459.460096</td>\n",
       "      <td>3459.624448</td>\n",
       "      <td>25000.0</td>\n",
       "      <td>37091.091866</td>\n",
       "      <td>7997.460161</td>\n",
       "      <td>891.2896</td>\n",
       "      <td>29695.672320</td>\n",
       "      <td>36641.439744</td>\n",
       "      <td>46074.429440</td>\n",
       "      <td>46074.429440</td>\n",
       "    </tr>\n",
       "    <tr>\n",
       "      <th>2</th>\n",
       "      <td>25000.0</td>\n",
       "      <td>3460.548656</td>\n",
       "      <td>16.417700</td>\n",
       "      <td>864.797184</td>\n",
       "      <td>3460.618752</td>\n",
       "      <td>3460.651008</td>\n",
       "      <td>3460.685312</td>\n",
       "      <td>3460.825088</td>\n",
       "      <td>25000.0</td>\n",
       "      <td>39744.701339</td>\n",
       "      <td>8231.159654</td>\n",
       "      <td>891.2896</td>\n",
       "      <td>29546.774528</td>\n",
       "      <td>46036.680704</td>\n",
       "      <td>46036.680704</td>\n",
       "      <td>48771.366912</td>\n",
       "    </tr>\n",
       "    <tr>\n",
       "      <th>3</th>\n",
       "      <td>25000.0</td>\n",
       "      <td>3460.471172</td>\n",
       "      <td>16.417219</td>\n",
       "      <td>864.797184</td>\n",
       "      <td>3460.537344</td>\n",
       "      <td>3460.576768</td>\n",
       "      <td>3460.610048</td>\n",
       "      <td>3460.790784</td>\n",
       "      <td>25000.0</td>\n",
       "      <td>39874.391483</td>\n",
       "      <td>9001.173129</td>\n",
       "      <td>891.2896</td>\n",
       "      <td>31266.439168</td>\n",
       "      <td>44879.052800</td>\n",
       "      <td>48731.521024</td>\n",
       "      <td>48731.521024</td>\n",
       "    </tr>\n",
       "    <tr>\n",
       "      <th>4</th>\n",
       "      <td>25000.0</td>\n",
       "      <td>3460.163031</td>\n",
       "      <td>16.415327</td>\n",
       "      <td>864.797184</td>\n",
       "      <td>3460.218880</td>\n",
       "      <td>3460.261888</td>\n",
       "      <td>3460.308480</td>\n",
       "      <td>3460.493824</td>\n",
       "      <td>25000.0</td>\n",
       "      <td>36285.963924</td>\n",
       "      <td>1004.809224</td>\n",
       "      <td>891.2896</td>\n",
       "      <td>35724.984320</td>\n",
       "      <td>36769.366016</td>\n",
       "      <td>36769.366016</td>\n",
       "      <td>36769.366016</td>\n",
       "    </tr>\n",
       "    <tr>\n",
       "      <th>5</th>\n",
       "      <td>25000.0</td>\n",
       "      <td>3461.080949</td>\n",
       "      <td>16.421086</td>\n",
       "      <td>864.797184</td>\n",
       "      <td>3461.146624</td>\n",
       "      <td>3461.182464</td>\n",
       "      <td>3461.220352</td>\n",
       "      <td>3461.424640</td>\n",
       "      <td>25000.0</td>\n",
       "      <td>34235.806164</td>\n",
       "      <td>2012.266493</td>\n",
       "      <td>891.2896</td>\n",
       "      <td>33254.539264</td>\n",
       "      <td>34728.837120</td>\n",
       "      <td>35947.282432</td>\n",
       "      <td>44061.163520</td>\n",
       "    </tr>\n",
       "    <tr>\n",
       "      <th>6</th>\n",
       "      <td>25000.0</td>\n",
       "      <td>3488.168774</td>\n",
       "      <td>16.592397</td>\n",
       "      <td>864.797184</td>\n",
       "      <td>3488.238080</td>\n",
       "      <td>3488.273408</td>\n",
       "      <td>3488.309248</td>\n",
       "      <td>3488.483840</td>\n",
       "      <td>25000.0</td>\n",
       "      <td>35578.450186</td>\n",
       "      <td>4632.829993</td>\n",
       "      <td>891.2896</td>\n",
       "      <td>33231.470592</td>\n",
       "      <td>33231.470592</td>\n",
       "      <td>33231.470592</td>\n",
       "      <td>44405.096448</td>\n",
       "    </tr>\n",
       "    <tr>\n",
       "      <th>7</th>\n",
       "      <td>25000.0</td>\n",
       "      <td>3461.398698</td>\n",
       "      <td>16.423093</td>\n",
       "      <td>864.797184</td>\n",
       "      <td>3461.464064</td>\n",
       "      <td>3461.502464</td>\n",
       "      <td>3461.539328</td>\n",
       "      <td>3461.711872</td>\n",
       "      <td>25000.0</td>\n",
       "      <td>32527.112229</td>\n",
       "      <td>2554.379534</td>\n",
       "      <td>891.2896</td>\n",
       "      <td>32237.420544</td>\n",
       "      <td>32237.420544</td>\n",
       "      <td>32237.420544</td>\n",
       "      <td>46972.010496</td>\n",
       "    </tr>\n",
       "  </tbody>\n",
       "</table>\n",
       "</div>"
      ],
      "text/plain": [
       "     gpu_memory_allocated                                                   \\\n",
       "                    count         mean        std         min          25%   \n",
       "rank                                                                         \n",
       "0                 25000.0  3464.967040  16.445642  864.797184  3465.038336   \n",
       "1                 25000.0  3459.322595  16.409948  864.797184  3459.390976   \n",
       "2                 25000.0  3460.548656  16.417700  864.797184  3460.618752   \n",
       "3                 25000.0  3460.471172  16.417219  864.797184  3460.537344   \n",
       "4                 25000.0  3460.163031  16.415327  864.797184  3460.218880   \n",
       "5                 25000.0  3461.080949  16.421086  864.797184  3461.146624   \n",
       "6                 25000.0  3488.168774  16.592397  864.797184  3488.238080   \n",
       "7                 25000.0  3461.398698  16.423093  864.797184  3461.464064   \n",
       "\n",
       "                                            gpu_memory_reserved                \\\n",
       "              50%          75%          max               count          mean   \n",
       "rank                                                                            \n",
       "0     3465.070592  3465.103360  3465.276928             25000.0  31246.247369   \n",
       "1     3459.425792  3459.460096  3459.624448             25000.0  37091.091866   \n",
       "2     3460.651008  3460.685312  3460.825088             25000.0  39744.701339   \n",
       "3     3460.576768  3460.610048  3460.790784             25000.0  39874.391483   \n",
       "4     3460.261888  3460.308480  3460.493824             25000.0  36285.963924   \n",
       "5     3461.182464  3461.220352  3461.424640             25000.0  34235.806164   \n",
       "6     3488.273408  3488.309248  3488.483840             25000.0  35578.450186   \n",
       "7     3461.502464  3461.539328  3461.711872             25000.0  32527.112229   \n",
       "\n",
       "                                                                       \\\n",
       "              std       min           25%           50%           75%   \n",
       "rank                                                                    \n",
       "0     3951.523388  891.2896  28265.414656  30949.769216  35420.897280   \n",
       "1     7997.460161  891.2896  29695.672320  36641.439744  46074.429440   \n",
       "2     8231.159654  891.2896  29546.774528  46036.680704  46036.680704   \n",
       "3     9001.173129  891.2896  31266.439168  44879.052800  48731.521024   \n",
       "4     1004.809224  891.2896  35724.984320  36769.366016  36769.366016   \n",
       "5     2012.266493  891.2896  33254.539264  34728.837120  35947.282432   \n",
       "6     4632.829993  891.2896  33231.470592  33231.470592  33231.470592   \n",
       "7     2554.379534  891.2896  32237.420544  32237.420544  32237.420544   \n",
       "\n",
       "                    \n",
       "               max  \n",
       "rank                \n",
       "0     37931.188224  \n",
       "1     46074.429440  \n",
       "2     48771.366912  \n",
       "3     48731.521024  \n",
       "4     36769.366016  \n",
       "5     44061.163520  \n",
       "6     44405.096448  \n",
       "7     46972.010496  "
      ]
     },
     "execution_count": 8,
     "metadata": {},
     "output_type": "execute_result"
    }
   ],
   "source": [
    "cuda_memory.summary_per_gpu(\"S0\")"
   ]
  },
  {
   "cell_type": "code",
   "execution_count": 9,
   "metadata": {},
   "outputs": [
    {
     "data": {
      "text/html": [
       "<div>\n",
       "<style scoped>\n",
       "    .dataframe tbody tr th:only-of-type {\n",
       "        vertical-align: middle;\n",
       "    }\n",
       "\n",
       "    .dataframe tbody tr th {\n",
       "        vertical-align: top;\n",
       "    }\n",
       "\n",
       "    .dataframe thead th {\n",
       "        text-align: right;\n",
       "    }\n",
       "</style>\n",
       "<table border=\"1\" class=\"dataframe\">\n",
       "  <thead>\n",
       "    <tr style=\"text-align: right;\">\n",
       "      <th></th>\n",
       "      <th>gpu_memory_allocated</th>\n",
       "      <th>gpu_memory_reserved</th>\n",
       "    </tr>\n",
       "  </thead>\n",
       "  <tbody>\n",
       "    <tr>\n",
       "      <th>count</th>\n",
       "      <td>200000.000000</td>\n",
       "      <td>200000.000000</td>\n",
       "    </tr>\n",
       "    <tr>\n",
       "      <th>mean</th>\n",
       "      <td>3464.515114</td>\n",
       "      <td>35822.970570</td>\n",
       "    </tr>\n",
       "    <tr>\n",
       "      <th>std</th>\n",
       "      <td>18.781887</td>\n",
       "      <td>6416.672302</td>\n",
       "    </tr>\n",
       "    <tr>\n",
       "      <th>min</th>\n",
       "      <td>864.797184</td>\n",
       "      <td>891.289600</td>\n",
       "    </tr>\n",
       "    <tr>\n",
       "      <th>25%</th>\n",
       "      <td>3460.465536</td>\n",
       "      <td>31266.439168</td>\n",
       "    </tr>\n",
       "    <tr>\n",
       "      <th>50%</th>\n",
       "      <td>3460.819200</td>\n",
       "      <td>33254.539264</td>\n",
       "    </tr>\n",
       "    <tr>\n",
       "      <th>75%</th>\n",
       "      <td>3461.698176</td>\n",
       "      <td>36769.366016</td>\n",
       "    </tr>\n",
       "    <tr>\n",
       "      <th>max</th>\n",
       "      <td>3488.483840</td>\n",
       "      <td>48771.366912</td>\n",
       "    </tr>\n",
       "  </tbody>\n",
       "</table>\n",
       "</div>"
      ],
      "text/plain": [
       "       gpu_memory_allocated  gpu_memory_reserved\n",
       "count         200000.000000        200000.000000\n",
       "mean            3464.515114         35822.970570\n",
       "std               18.781887          6416.672302\n",
       "min              864.797184           891.289600\n",
       "25%             3460.465536         31266.439168\n",
       "50%             3460.819200         33254.539264\n",
       "75%             3461.698176         36769.366016\n",
       "max             3488.483840         48771.366912"
      ]
     },
     "execution_count": 9,
     "metadata": {},
     "output_type": "execute_result"
    }
   ],
   "source": [
    "cuda_memory.summary_averaged(\"S0\")"
   ]
  },
  {
   "cell_type": "code",
   "execution_count": 10,
   "metadata": {},
   "outputs": [
    {
     "data": {
      "image/png": "[encoded data removed]",
      "text/plain": [
       "<Figure size 432x288 with 1 Axes>"
      ]
     },
     "metadata": {
      "needs_background": "light"
     },
     "output_type": "display_data"
    },
    {
     "data": {
      "image/png": "[encoded data removed]",
      "text/plain": [
       "<Figure size 432x288 with 1 Axes>"
      ]
     },
     "metadata": {
      "needs_background": "light"
     },
     "output_type": "display_data"
    },
    {
     "data": {
      "image/png": "[encoded data removed]",
      "text/plain": [
       "<Figure size 432x288 with 1 Axes>"
      ]
     },
     "metadata": {
      "needs_background": "light"
     },
     "output_type": "display_data"
    },
    {
     "data": {
      "image/png": "[encoded data removed]",
      "text/plain": [
       "<Figure size 432x288 with 1 Axes>"
      ]
     },
     "metadata": {
      "needs_background": "light"
     },
     "output_type": "display_data"
    },
    {
     "data": {
      "image/png": "[encoded data removed]",
      "text/plain": [
       "<Figure size 432x288 with 1 Axes>"
      ]
     },
     "metadata": {
      "needs_background": "light"
     },
     "output_type": "display_data"
    },
    {
     "data": {
      "image/png": "[encoded data removed]",
      "text/plain": [
       "<Figure size 432x288 with 1 Axes>"
      ]
     },
     "metadata": {
      "needs_background": "light"
     },
     "output_type": "display_data"
    },
    {
     "data": {
      "image/png": "[encoded data removed]",
      "text/plain": [
       "<Figure size 432x288 with 1 Axes>"
      ]
     },
     "metadata": {
      "needs_background": "light"
     },
     "output_type": "display_data"
    },
    {
     "data": {
      "image/png": "[encoded data removed]",
      "text/plain": [
       "<Figure size 432x288 with 1 Axes>"
      ]
     },
     "metadata": {
      "needs_background": "light"
     },
     "output_type": "display_data"
    }
   ],
   "source": [
    "for i, run in enumerate(runs):\n",
    "    cuda_memory.plot_cuda_memory(\n",
    "        run, \n",
    "        mode=\"averaged\", \n",
    "        title=formatted_run_names_1[i],\n",
    "        save=True, \n",
    "        save_dir=\"../outputs/dimenet/s2ef/cuda_memory\"\n",
    "    )"
   ]
  },
  {
   "cell_type": "markdown",
   "metadata": {},
   "source": [
    "For a single run, the GPU CUDA torch memory consumption can be plotted versus time, individually on each GPU or averaged/summed across all involved GPUs."
   ]
  },
  {
   "cell_type": "code",
   "execution_count": 11,
   "metadata": {},
   "outputs": [
    {
     "data": {
      "image/png": "[encoded data removed]",
      "text/plain": [
       "<Figure size 432x288 with 1 Axes>"
      ]
     },
     "metadata": {
      "needs_background": "light"
     },
     "output_type": "display_data"
    }
   ],
   "source": [
    "cuda_memory.plot_cuda_memory(\"S0\", mode=\"averaged\")"
   ]
  },
  {
   "cell_type": "code",
   "execution_count": 12,
   "metadata": {},
   "outputs": [
    {
     "data": {
      "image/png": "[encoded data removed]",
      "text/plain": [
       "<Figure size 432x288 with 1 Axes>"
      ]
     },
     "metadata": {
      "needs_background": "light"
     },
     "output_type": "display_data"
    },
    {
     "data": {
      "image/png": "[encoded data removed]",
      "text/plain": [
       "<Figure size 432x288 with 1 Axes>"
      ]
     },
     "metadata": {
      "needs_background": "light"
     },
     "output_type": "display_data"
    },
    {
     "data": {
      "image/png": "[encoded data removed]",
      "text/plain": [
       "<Figure size 432x288 with 1 Axes>"
      ]
     },
     "metadata": {
      "needs_background": "light"
     },
     "output_type": "display_data"
    },
    {
     "data": {
      "image/png": "[encoded data removed]",
      "text/plain": [
       "<Figure size 432x288 with 1 Axes>"
      ]
     },
     "metadata": {
      "needs_background": "light"
     },
     "output_type": "display_data"
    },
    {
     "data": {
      "image/png": "[encoded data removed]",
      "text/plain": [
       "<Figure size 432x288 with 1 Axes>"
      ]
     },
     "metadata": {
      "needs_background": "light"
     },
     "output_type": "display_data"
    },
    {
     "data": {
      "image/png": "[encoded data removed]",
      "text/plain": [
       "<Figure size 432x288 with 1 Axes>"
      ]
     },
     "metadata": {
      "needs_background": "light"
     },
     "output_type": "display_data"
    },
    {
     "data": {
      "image/png": "[encoded data removed]",
      "text/plain": [
       "<Figure size 432x288 with 1 Axes>"
      ]
     },
     "metadata": {
      "needs_background": "light"
     },
     "output_type": "display_data"
    },
    {
     "data": {
      "image/png": "[encoded data removed]",
      "text/plain": [
       "<Figure size 432x288 with 1 Axes>"
      ]
     },
     "metadata": {
      "needs_background": "light"
     },
     "output_type": "display_data"
    }
   ],
   "source": [
    "cuda_memory.plot_cuda_memory(\"S1\", mode=\"individual\")"
   ]
  },
  {
   "cell_type": "markdown",
   "metadata": {},
   "source": [
    "## Comparison of memory and runtimes for different runs\n",
    "\n",
    "For different runs, the allocated and reserved GPU CUDA memory as well as the runtimes can be compared."
   ]
  },
  {
   "cell_type": "code",
   "execution_count": 13,
   "metadata": {},
   "outputs": [
    {
     "data": {
      "text/html": [
       "<div>\n",
       "<style scoped>\n",
       "    .dataframe tbody tr th:only-of-type {\n",
       "        vertical-align: middle;\n",
       "    }\n",
       "\n",
       "    .dataframe tbody tr th {\n",
       "        vertical-align: top;\n",
       "    }\n",
       "\n",
       "    .dataframe thead th {\n",
       "        text-align: right;\n",
       "    }\n",
       "</style>\n",
       "<table border=\"1\" class=\"dataframe\">\n",
       "  <thead>\n",
       "    <tr style=\"text-align: right;\">\n",
       "      <th></th>\n",
       "      <th>S0</th>\n",
       "      <th>S0+fp16</th>\n",
       "      <th>S1</th>\n",
       "      <th>S1+OC</th>\n",
       "      <th>S2+OC</th>\n",
       "      <th>S2+OO+OC</th>\n",
       "      <th>S3+OC</th>\n",
       "      <th>S3+PO+OO+OC</th>\n",
       "    </tr>\n",
       "  </thead>\n",
       "  <tbody>\n",
       "    <tr>\n",
       "      <th>epoch_time</th>\n",
       "      <td>03:54:52</td>\n",
       "      <td>02:09:22</td>\n",
       "      <td>03:56:28</td>\n",
       "      <td>04:02:47</td>\n",
       "      <td>00:00:00</td>\n",
       "      <td>00:00:00</td>\n",
       "      <td>02:33:25</td>\n",
       "      <td>03:34:34</td>\n",
       "    </tr>\n",
       "    <tr>\n",
       "      <th>dataloading_time</th>\n",
       "      <td>00:00:26</td>\n",
       "      <td>00:00:28</td>\n",
       "      <td>00:01:39</td>\n",
       "      <td>00:01:44</td>\n",
       "      <td>00:00:00</td>\n",
       "      <td>00:00:00</td>\n",
       "      <td>00:00:17</td>\n",
       "      <td>00:00:19</td>\n",
       "    </tr>\n",
       "    <tr>\n",
       "      <th>forward_time</th>\n",
       "      <td>00:40:09</td>\n",
       "      <td>00:24:52</td>\n",
       "      <td>00:19:14</td>\n",
       "      <td>00:19:41</td>\n",
       "      <td>00:00:00</td>\n",
       "      <td>00:00:00</td>\n",
       "      <td>00:43:02</td>\n",
       "      <td>00:43:50</td>\n",
       "    </tr>\n",
       "    <tr>\n",
       "      <th>backward_time</th>\n",
       "      <td>02:56:26</td>\n",
       "      <td>01:36:06</td>\n",
       "      <td>01:23:00</td>\n",
       "      <td>01:24:09</td>\n",
       "      <td>00:00:00</td>\n",
       "      <td>00:00:00</td>\n",
       "      <td>01:45:56</td>\n",
       "      <td>02:46:15</td>\n",
       "    </tr>\n",
       "    <tr>\n",
       "      <th>rest</th>\n",
       "      <td>00:17:49</td>\n",
       "      <td>00:07:54</td>\n",
       "      <td>02:12:33</td>\n",
       "      <td>02:17:11</td>\n",
       "      <td>00:00:00</td>\n",
       "      <td>00:00:00</td>\n",
       "      <td>00:04:08</td>\n",
       "      <td>00:04:10</td>\n",
       "    </tr>\n",
       "  </tbody>\n",
       "</table>\n",
       "</div>"
      ],
      "text/plain": [
       "                        S0   S0+fp16        S1     S1+OC     S2+OC  S2+OO+OC  \\\n",
       "epoch_time        03:54:52  02:09:22  03:56:28  04:02:47  00:00:00  00:00:00   \n",
       "dataloading_time  00:00:26  00:00:28  00:01:39  00:01:44  00:00:00  00:00:00   \n",
       "forward_time      00:40:09  00:24:52  00:19:14  00:19:41  00:00:00  00:00:00   \n",
       "backward_time     02:56:26  01:36:06  01:23:00  01:24:09  00:00:00  00:00:00   \n",
       "rest              00:17:49  00:07:54  02:12:33  02:17:11  00:00:00  00:00:00   \n",
       "\n",
       "                     S3+OC S3+PO+OO+OC  \n",
       "epoch_time        02:33:25    03:34:34  \n",
       "dataloading_time  00:00:17    00:00:19  \n",
       "forward_time      00:43:02    00:43:50  \n",
       "backward_time     01:45:56    02:46:15  \n",
       "rest              00:04:08    00:04:10  "
      ]
     },
     "execution_count": 13,
     "metadata": {},
     "output_type": "execute_result"
    }
   ],
   "source": [
    "runtimes.compare(save=True, save_dir=\"../outputs/dimenet/s2ef/runtimes\")"
   ]
  },
  {
   "cell_type": "code",
   "execution_count": 14,
   "metadata": {},
   "outputs": [
    {
     "data": {
      "image/png": "[encoded data removed]",
      "text/plain": [
       "<Figure size 432x288 with 1 Axes>"
      ]
     },
     "metadata": {
      "needs_background": "light"
     },
     "output_type": "display_data"
    }
   ],
   "source": [
    "runtimes.compare_plot(\n",
    "    yticks=formatted_run_names_2, \n",
    "    tick_colors=tick_colors,\n",
    "    figsize=(6, 4), \n",
    "    title=r\"\\textbf{S2EF runtimes}\", \n",
    "    save=True, \n",
    "    save_dir=\"../outputs/dimenet/s2ef/runtimes\"\n",
    ")"
   ]
  },
  {
   "cell_type": "code",
   "execution_count": 15,
   "metadata": {},
   "outputs": [
    {
     "data": {
      "text/html": [
       "<div>\n",
       "<style scoped>\n",
       "    .dataframe tbody tr th:only-of-type {\n",
       "        vertical-align: middle;\n",
       "    }\n",
       "\n",
       "    .dataframe tbody tr th {\n",
       "        vertical-align: top;\n",
       "    }\n",
       "\n",
       "    .dataframe thead th {\n",
       "        text-align: right;\n",
       "    }\n",
       "</style>\n",
       "<table border=\"1\" class=\"dataframe\">\n",
       "  <thead>\n",
       "    <tr style=\"text-align: right;\">\n",
       "      <th></th>\n",
       "      <th>S0</th>\n",
       "      <th>S0+fp16</th>\n",
       "      <th>S1</th>\n",
       "      <th>S1+OC</th>\n",
       "      <th>S2+OC</th>\n",
       "      <th>S2+OO+OC</th>\n",
       "      <th>S3+OC</th>\n",
       "      <th>S3+PO+OO+OC</th>\n",
       "    </tr>\n",
       "  </thead>\n",
       "  <tbody>\n",
       "    <tr>\n",
       "      <th>gpu_memory_allocated</th>\n",
       "      <td>3.46</td>\n",
       "      <td>3.47</td>\n",
       "      <td>0.76</td>\n",
       "      <td>0.76</td>\n",
       "      <td>0.0</td>\n",
       "      <td>0.0</td>\n",
       "      <td>1.44</td>\n",
       "      <td>1.00</td>\n",
       "    </tr>\n",
       "    <tr>\n",
       "      <th>gpu_memory_reserved</th>\n",
       "      <td>35.82</td>\n",
       "      <td>33.83</td>\n",
       "      <td>11.87</td>\n",
       "      <td>11.87</td>\n",
       "      <td>0.0</td>\n",
       "      <td>0.0</td>\n",
       "      <td>15.59</td>\n",
       "      <td>15.67</td>\n",
       "    </tr>\n",
       "  </tbody>\n",
       "</table>\n",
       "</div>"
      ],
      "text/plain": [
       "                         S0  S0+fp16     S1  S1+OC  S2+OC  S2+OO+OC  S3+OC  \\\n",
       "gpu_memory_allocated   3.46     3.47   0.76   0.76    0.0       0.0   1.44   \n",
       "gpu_memory_reserved   35.82    33.83  11.87  11.87    0.0       0.0  15.59   \n",
       "\n",
       "                      S3+PO+OO+OC  \n",
       "gpu_memory_allocated         1.00  \n",
       "gpu_memory_reserved         15.67  "
      ]
     },
     "execution_count": 15,
     "metadata": {},
     "output_type": "execute_result"
    }
   ],
   "source": [
    "cuda_memory.compare(save=True, save_dir=\"../outputs/dimenet/s2ef/cuda_memory\")"
   ]
  },
  {
   "cell_type": "code",
   "execution_count": 16,
   "metadata": {},
   "outputs": [
    {
     "data": {
      "image/png": "[encoded data removed]",
      "text/plain": [
       "<Figure size 432x288 with 1 Axes>"
      ]
     },
     "metadata": {
      "needs_background": "light"
     },
     "output_type": "display_data"
    }
   ],
   "source": [
    "cuda_memory.compare_plot(\n",
    "    xticks=formatted_run_names_2, \n",
    "    tick_colors=tick_colors,\n",
    "    figsize=(6, 4), \n",
    "    title=r\"\\textbf{S2EF GPU memory consumption}\", \n",
    "    save=True, \n",
    "    save_dir=\"../outputs/dimenet/s2ef/cuda_memory\"\n",
    ")"
   ]
  }
 ],
 "metadata": {
  "kernelspec": {
   "display_name": "Python 3.9.12 ('tum-di-lab')",
   "language": "python",
   "name": "python3"
  },
  "language_info": {
   "codemirror_mode": {
    "name": "ipython",
    "version": 3
   },
   "file_extension": ".py",
   "mimetype": "text/x-python",
   "name": "python",
   "nbconvert_exporter": "python",
   "pygments_lexer": "ipython3",
   "version": "3.9.12"
  },
  "orig_nbformat": 4,
  "vscode": {
   "interpreter": {
    "hash": "119c6c5c0d22922f1de4a43916b405efff0fc16ad72dd0247274e82a6c60783f"
   }
  }
 },
 "nbformat": 4,
 "nbformat_minor": 2
}
