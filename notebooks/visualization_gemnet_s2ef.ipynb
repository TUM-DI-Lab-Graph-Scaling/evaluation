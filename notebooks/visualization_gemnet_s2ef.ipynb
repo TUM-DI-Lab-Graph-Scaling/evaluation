{
 "cells": [
  {
   "cell_type": "markdown",
   "metadata": {},
   "source": [
    "# Evaluation of GPU memory consumption for CUDA Tensors"
   ]
  },
  {
   "cell_type": "code",
   "execution_count": 1,
   "metadata": {},
   "outputs": [],
   "source": [
    "import sys\n",
    "sys.path.append(\"/Users/danielherbst/Desktop/evaluation\")"
   ]
  },
  {
   "cell_type": "code",
   "execution_count": 2,
   "metadata": {},
   "outputs": [],
   "source": [
    "from evaluation_routines.data_loading import OCPDataFrameLoader\n",
    "from evaluation_routines.cuda_memory import CUDAMemory\n",
    "from evaluation_routines.runtimes import Runtimes"
   ]
  },
  {
   "cell_type": "markdown",
   "metadata": {},
   "source": [
    "## Data loading\n",
    "\n",
    "At first, we specify the paths necessary for evaluation. This includes:\n",
    "- the ocp metrics directory stored in `ocp_metrics_path`\n",
    "- the directory `directory` for the specific model/series of runs we would like to consider\n",
    "- the runs `runs` as a `dict` with shorter name as key and the respective csv filenames without \"_resources/...\" extensions"
   ]
  },
  {
   "cell_type": "code",
   "execution_count": 3,
   "metadata": {},
   "outputs": [],
   "source": [
    "ocp_metrics_path = \"/Users/danielherbst/Desktop/ocp-metrics\"\n",
    "directory = \"s2ef/gemnet_xl/batch_size_2\"\n",
    "\n",
    "runs = {\n",
    "    \"S0\":           \"1658821209_stage0_8gpus\",\n",
    "    \"S0+fp16\":      \"1658836096_stage0_8gpus_fp16\",\n",
    "    \"S1\":           \"1658796065_stage1_8gpus\",\n",
    "    \"S1+OC\":        \"1658874784_stage1_8gpus\",\n",
    "    \"S2+OC\":        \"1658848228_stage2_8gpus\",\n",
    "    \"S2+OO+OC\":     \"1658859227_stage2_8gpus_offloadOptimizer[cpu]\",\n",
    "    \"S3+OC\":        \"1658884621_stage3_8gpus\",\n",
    "    \"S3+PO+OO+OC\":  \"1658898067_stage3_8gpus_offloadOptimizer[cpu]_offloadParam[cpu]\"\n",
    "}\n",
    "formatted_run_names_1 = [\n",
    "    r\"\\textbf{S0}\",\n",
    "    r\"\\textbf{S0}\" + \"+fp16\",\n",
    "    r\"\\textbf{S1}\",\n",
    "    r\"\\textbf{S1}\" + \"+OC\",\n",
    "    r\"\\textbf{S2}\" + \"+OC\",\n",
    "    r\"\\textbf{S2}\" + \"+OO+OC\",\n",
    "    r\"\\textbf{S3}\" + \"+OC\",\n",
    "    r\"\\textbf{S3}\" + \"+PO+OO+OC\"\n",
    "]\n",
    "formatted_run_names_2 = [\n",
    "    r\"\\textbf{S0}\",\n",
    "    r\"\\textbf{S0}\" + \"+fp16\",\n",
    "    r\"\\textbf{S1}\",\n",
    "    r\"\\textbf{S1}\" + \"+OC\",\n",
    "    r\"\\textbf{S2}\" + \"+OC\",\n",
    "    r\"\\textbf{S2}\" + \"+OO\\n+OC\",\n",
    "    r\"\\textbf{S3}\" + \"+OC\",\n",
    "    r\"\\textbf{S3}\" + \"+PO\\n+OO+OC\"\n",
    "]\n",
    "\n",
    "data_loader = OCPDataFrameLoader(ocp_metrics_path, directory, runs)\n",
    "cuda_memory, runtimes = CUDAMemory(data_loader), Runtimes(data_loader)"
   ]
  },
  {
   "cell_type": "code",
   "execution_count": 4,
   "metadata": {},
   "outputs": [],
   "source": [
    "resources_paths, torch_cuda_paths, runtimes_paths = data_loader.get_paths()"
   ]
  },
  {
   "cell_type": "markdown",
   "metadata": {},
   "source": [
    "## Inspection of a single run\n",
    "\n",
    "At first, we inspect single runs with a set DeepSpeed configuration. We look at statistical summaries of the allocated and reserved memory as well as runtimes."
   ]
  },
  {
   "cell_type": "code",
   "execution_count": 5,
   "metadata": {},
   "outputs": [
    {
     "data": {
      "text/html": [
       "<div>\n",
       "<style scoped>\n",
       "    .dataframe tbody tr th:only-of-type {\n",
       "        vertical-align: middle;\n",
       "    }\n",
       "\n",
       "    .dataframe tbody tr th {\n",
       "        vertical-align: top;\n",
       "    }\n",
       "\n",
       "    .dataframe thead th {\n",
       "        text-align: right;\n",
       "    }\n",
       "</style>\n",
       "<table border=\"1\" class=\"dataframe\">\n",
       "  <thead>\n",
       "    <tr style=\"text-align: right;\">\n",
       "      <th></th>\n",
       "      <th>datetime</th>\n",
       "      <th>epoch</th>\n",
       "      <th>rank</th>\n",
       "      <th>gpu_memory_allocated</th>\n",
       "      <th>gpu_memory_reserved</th>\n",
       "    </tr>\n",
       "  </thead>\n",
       "  <tbody>\n",
       "    <tr>\n",
       "      <th>0</th>\n",
       "      <td>2022-07-26 07:40:11.698359</td>\n",
       "      <td>0</td>\n",
       "      <td>0</td>\n",
       "      <td>2367.652864</td>\n",
       "      <td>2562.719744</td>\n",
       "    </tr>\n",
       "    <tr>\n",
       "      <th>1</th>\n",
       "      <td>2022-07-26 07:40:11.699225</td>\n",
       "      <td>0</td>\n",
       "      <td>1</td>\n",
       "      <td>2367.652864</td>\n",
       "      <td>2562.719744</td>\n",
       "    </tr>\n",
       "    <tr>\n",
       "      <th>2</th>\n",
       "      <td>2022-07-26 07:40:11.700212</td>\n",
       "      <td>0</td>\n",
       "      <td>2</td>\n",
       "      <td>2367.652864</td>\n",
       "      <td>2562.719744</td>\n",
       "    </tr>\n",
       "    <tr>\n",
       "      <th>3</th>\n",
       "      <td>2022-07-26 07:40:11.700135</td>\n",
       "      <td>0</td>\n",
       "      <td>7</td>\n",
       "      <td>2367.652864</td>\n",
       "      <td>2562.719744</td>\n",
       "    </tr>\n",
       "    <tr>\n",
       "      <th>4</th>\n",
       "      <td>2022-07-26 07:40:11.699473</td>\n",
       "      <td>0</td>\n",
       "      <td>6</td>\n",
       "      <td>2367.652864</td>\n",
       "      <td>2562.719744</td>\n",
       "    </tr>\n",
       "    <tr>\n",
       "      <th>...</th>\n",
       "      <td>...</td>\n",
       "      <td>...</td>\n",
       "      <td>...</td>\n",
       "      <td>...</td>\n",
       "      <td>...</td>\n",
       "    </tr>\n",
       "    <tr>\n",
       "      <th>199995</th>\n",
       "      <td>2022-07-26 11:47:09.023206</td>\n",
       "      <td>0</td>\n",
       "      <td>5</td>\n",
       "      <td>7142.172160</td>\n",
       "      <td>42440.065024</td>\n",
       "    </tr>\n",
       "    <tr>\n",
       "      <th>199996</th>\n",
       "      <td>2022-07-26 11:47:09.023281</td>\n",
       "      <td>0</td>\n",
       "      <td>2</td>\n",
       "      <td>7092.075520</td>\n",
       "      <td>31929.139200</td>\n",
       "    </tr>\n",
       "    <tr>\n",
       "      <th>199997</th>\n",
       "      <td>2022-07-26 11:47:09.023545</td>\n",
       "      <td>0</td>\n",
       "      <td>4</td>\n",
       "      <td>7103.862272</td>\n",
       "      <td>43186.651136</td>\n",
       "    </tr>\n",
       "    <tr>\n",
       "      <th>199998</th>\n",
       "      <td>2022-07-26 11:47:09.023682</td>\n",
       "      <td>0</td>\n",
       "      <td>3</td>\n",
       "      <td>7103.119360</td>\n",
       "      <td>38767.951872</td>\n",
       "    </tr>\n",
       "    <tr>\n",
       "      <th>199999</th>\n",
       "      <td>2022-07-26 11:47:09.024407</td>\n",
       "      <td>0</td>\n",
       "      <td>0</td>\n",
       "      <td>7106.217984</td>\n",
       "      <td>31069.306880</td>\n",
       "    </tr>\n",
       "  </tbody>\n",
       "</table>\n",
       "<p>200000 rows × 5 columns</p>\n",
       "</div>"
      ],
      "text/plain": [
       "                          datetime  epoch  rank  gpu_memory_allocated  \\\n",
       "0       2022-07-26 07:40:11.698359      0     0           2367.652864   \n",
       "1       2022-07-26 07:40:11.699225      0     1           2367.652864   \n",
       "2       2022-07-26 07:40:11.700212      0     2           2367.652864   \n",
       "3       2022-07-26 07:40:11.700135      0     7           2367.652864   \n",
       "4       2022-07-26 07:40:11.699473      0     6           2367.652864   \n",
       "...                            ...    ...   ...                   ...   \n",
       "199995  2022-07-26 11:47:09.023206      0     5           7142.172160   \n",
       "199996  2022-07-26 11:47:09.023281      0     2           7092.075520   \n",
       "199997  2022-07-26 11:47:09.023545      0     4           7103.862272   \n",
       "199998  2022-07-26 11:47:09.023682      0     3           7103.119360   \n",
       "199999  2022-07-26 11:47:09.024407      0     0           7106.217984   \n",
       "\n",
       "        gpu_memory_reserved  \n",
       "0               2562.719744  \n",
       "1               2562.719744  \n",
       "2               2562.719744  \n",
       "3               2562.719744  \n",
       "4               2562.719744  \n",
       "...                     ...  \n",
       "199995         42440.065024  \n",
       "199996         31929.139200  \n",
       "199997         43186.651136  \n",
       "199998         38767.951872  \n",
       "199999         31069.306880  \n",
       "\n",
       "[200000 rows x 5 columns]"
      ]
     },
     "execution_count": 5,
     "metadata": {},
     "output_type": "execute_result"
    }
   ],
   "source": [
    "cuda_df = data_loader.get_metrics_csv(torch_cuda_paths[\"S0\"], csv_type=\"torch_cuda\")\n",
    "cuda_df"
   ]
  },
  {
   "cell_type": "code",
   "execution_count": 6,
   "metadata": {},
   "outputs": [
    {
     "data": {
      "text/html": [
       "<div>\n",
       "<style scoped>\n",
       "    .dataframe tbody tr th:only-of-type {\n",
       "        vertical-align: middle;\n",
       "    }\n",
       "\n",
       "    .dataframe tbody tr th {\n",
       "        vertical-align: top;\n",
       "    }\n",
       "\n",
       "    .dataframe thead th {\n",
       "        text-align: right;\n",
       "    }\n",
       "</style>\n",
       "<table border=\"1\" class=\"dataframe\">\n",
       "  <thead>\n",
       "    <tr style=\"text-align: right;\">\n",
       "      <th></th>\n",
       "      <th>rank</th>\n",
       "      <th>epoch</th>\n",
       "      <th>epoch_time</th>\n",
       "      <th>dataloading_time</th>\n",
       "      <th>forward_time</th>\n",
       "      <th>backward_time</th>\n",
       "      <th>rest</th>\n",
       "    </tr>\n",
       "  </thead>\n",
       "  <tbody>\n",
       "    <tr>\n",
       "      <th>0</th>\n",
       "      <td>0</td>\n",
       "      <td>0</td>\n",
       "      <td>14820.271637</td>\n",
       "      <td>21.439089</td>\n",
       "      <td>1940.971650</td>\n",
       "      <td>11508.325882</td>\n",
       "      <td>1349.535015</td>\n",
       "    </tr>\n",
       "    <tr>\n",
       "      <th>1</th>\n",
       "      <td>2</td>\n",
       "      <td>0</td>\n",
       "      <td>14820.308644</td>\n",
       "      <td>53.219034</td>\n",
       "      <td>2058.297934</td>\n",
       "      <td>11489.151467</td>\n",
       "      <td>1219.640208</td>\n",
       "    </tr>\n",
       "    <tr>\n",
       "      <th>2</th>\n",
       "      <td>1</td>\n",
       "      <td>0</td>\n",
       "      <td>14820.313890</td>\n",
       "      <td>62.580859</td>\n",
       "      <td>2012.285479</td>\n",
       "      <td>11484.891519</td>\n",
       "      <td>1260.556033</td>\n",
       "    </tr>\n",
       "    <tr>\n",
       "      <th>3</th>\n",
       "      <td>7</td>\n",
       "      <td>0</td>\n",
       "      <td>14820.314157</td>\n",
       "      <td>67.700463</td>\n",
       "      <td>2222.304426</td>\n",
       "      <td>11479.410375</td>\n",
       "      <td>1050.898894</td>\n",
       "    </tr>\n",
       "    <tr>\n",
       "      <th>4</th>\n",
       "      <td>3</td>\n",
       "      <td>0</td>\n",
       "      <td>14820.326572</td>\n",
       "      <td>47.820038</td>\n",
       "      <td>2120.407255</td>\n",
       "      <td>11498.230845</td>\n",
       "      <td>1153.868434</td>\n",
       "    </tr>\n",
       "    <tr>\n",
       "      <th>5</th>\n",
       "      <td>6</td>\n",
       "      <td>0</td>\n",
       "      <td>14820.329401</td>\n",
       "      <td>60.376123</td>\n",
       "      <td>2174.625988</td>\n",
       "      <td>11486.901609</td>\n",
       "      <td>1098.425680</td>\n",
       "    </tr>\n",
       "    <tr>\n",
       "      <th>6</th>\n",
       "      <td>4</td>\n",
       "      <td>0</td>\n",
       "      <td>14820.333727</td>\n",
       "      <td>49.368530</td>\n",
       "      <td>2425.570624</td>\n",
       "      <td>11495.666023</td>\n",
       "      <td>849.728549</td>\n",
       "    </tr>\n",
       "    <tr>\n",
       "      <th>7</th>\n",
       "      <td>5</td>\n",
       "      <td>0</td>\n",
       "      <td>14820.338463</td>\n",
       "      <td>51.768961</td>\n",
       "      <td>2196.365318</td>\n",
       "      <td>11487.539760</td>\n",
       "      <td>1084.664424</td>\n",
       "    </tr>\n",
       "  </tbody>\n",
       "</table>\n",
       "</div>"
      ],
      "text/plain": [
       "   rank  epoch    epoch_time  dataloading_time  forward_time  backward_time  \\\n",
       "0     0      0  14820.271637         21.439089   1940.971650   11508.325882   \n",
       "1     2      0  14820.308644         53.219034   2058.297934   11489.151467   \n",
       "2     1      0  14820.313890         62.580859   2012.285479   11484.891519   \n",
       "3     7      0  14820.314157         67.700463   2222.304426   11479.410375   \n",
       "4     3      0  14820.326572         47.820038   2120.407255   11498.230845   \n",
       "5     6      0  14820.329401         60.376123   2174.625988   11486.901609   \n",
       "6     4      0  14820.333727         49.368530   2425.570624   11495.666023   \n",
       "7     5      0  14820.338463         51.768961   2196.365318   11487.539760   \n",
       "\n",
       "          rest  \n",
       "0  1349.535015  \n",
       "1  1219.640208  \n",
       "2  1260.556033  \n",
       "3  1050.898894  \n",
       "4  1153.868434  \n",
       "5  1098.425680  \n",
       "6   849.728549  \n",
       "7  1084.664424  "
      ]
     },
     "execution_count": 6,
     "metadata": {},
     "output_type": "execute_result"
    }
   ],
   "source": [
    "runtimes_df = data_loader.get_metrics_csv(runtimes_paths[\"S0\"], csv_type=\"runtimes\")\n",
    "runtimes_df"
   ]
  },
  {
   "cell_type": "code",
   "execution_count": 7,
   "metadata": {},
   "outputs": [
    {
     "data": {
      "text/plain": [
       "epoch_time          04:07:00\n",
       "dataloading_time    00:00:51\n",
       "forward_time        00:35:43\n",
       "backward_time       03:11:31\n",
       "rest                00:18:53\n",
       "dtype: object"
      ]
     },
     "execution_count": 7,
     "metadata": {},
     "output_type": "execute_result"
    }
   ],
   "source": [
    "runtimes.means(\"S0\")"
   ]
  },
  {
   "cell_type": "code",
   "execution_count": 8,
   "metadata": {},
   "outputs": [
    {
     "data": {
      "text/html": [
       "<div>\n",
       "<style scoped>\n",
       "    .dataframe tbody tr th:only-of-type {\n",
       "        vertical-align: middle;\n",
       "    }\n",
       "\n",
       "    .dataframe tbody tr th {\n",
       "        vertical-align: top;\n",
       "    }\n",
       "\n",
       "    .dataframe thead tr th {\n",
       "        text-align: left;\n",
       "    }\n",
       "\n",
       "    .dataframe thead tr:last-of-type th {\n",
       "        text-align: right;\n",
       "    }\n",
       "</style>\n",
       "<table border=\"1\" class=\"dataframe\">\n",
       "  <thead>\n",
       "    <tr>\n",
       "      <th></th>\n",
       "      <th colspan=\"8\" halign=\"left\">gpu_memory_allocated</th>\n",
       "      <th colspan=\"8\" halign=\"left\">gpu_memory_reserved</th>\n",
       "    </tr>\n",
       "    <tr>\n",
       "      <th></th>\n",
       "      <th>count</th>\n",
       "      <th>mean</th>\n",
       "      <th>std</th>\n",
       "      <th>min</th>\n",
       "      <th>25%</th>\n",
       "      <th>50%</th>\n",
       "      <th>75%</th>\n",
       "      <th>max</th>\n",
       "      <th>count</th>\n",
       "      <th>mean</th>\n",
       "      <th>std</th>\n",
       "      <th>min</th>\n",
       "      <th>25%</th>\n",
       "      <th>50%</th>\n",
       "      <th>75%</th>\n",
       "      <th>max</th>\n",
       "    </tr>\n",
       "    <tr>\n",
       "      <th>rank</th>\n",
       "      <th></th>\n",
       "      <th></th>\n",
       "      <th></th>\n",
       "      <th></th>\n",
       "      <th></th>\n",
       "      <th></th>\n",
       "      <th></th>\n",
       "      <th></th>\n",
       "      <th></th>\n",
       "      <th></th>\n",
       "      <th></th>\n",
       "      <th></th>\n",
       "      <th></th>\n",
       "      <th></th>\n",
       "      <th></th>\n",
       "      <th></th>\n",
       "    </tr>\n",
       "  </thead>\n",
       "  <tbody>\n",
       "    <tr>\n",
       "      <th>0</th>\n",
       "      <td>25000.0</td>\n",
       "      <td>7105.915426</td>\n",
       "      <td>29.968638</td>\n",
       "      <td>2367.652864</td>\n",
       "      <td>7106.072064</td>\n",
       "      <td>7106.104320</td>\n",
       "      <td>7106.137088</td>\n",
       "      <td>7106.310144</td>\n",
       "      <td>25000.0</td>\n",
       "      <td>36599.870249</td>\n",
       "      <td>3297.506880</td>\n",
       "      <td>2562.719744</td>\n",
       "      <td>33619.443712</td>\n",
       "      <td>38587.596800</td>\n",
       "      <td>38587.596800</td>\n",
       "      <td>38587.596800</td>\n",
       "    </tr>\n",
       "    <tr>\n",
       "      <th>1</th>\n",
       "      <td>25000.0</td>\n",
       "      <td>7095.922161</td>\n",
       "      <td>29.905436</td>\n",
       "      <td>2367.652864</td>\n",
       "      <td>7096.076288</td>\n",
       "      <td>7096.110592</td>\n",
       "      <td>7096.144896</td>\n",
       "      <td>7096.308736</td>\n",
       "      <td>25000.0</td>\n",
       "      <td>37944.071364</td>\n",
       "      <td>2277.630726</td>\n",
       "      <td>2562.719744</td>\n",
       "      <td>38791.020544</td>\n",
       "      <td>38791.020544</td>\n",
       "      <td>38791.020544</td>\n",
       "      <td>38791.020544</td>\n",
       "    </tr>\n",
       "    <tr>\n",
       "      <th>2</th>\n",
       "      <td>25000.0</td>\n",
       "      <td>7091.805703</td>\n",
       "      <td>29.879399</td>\n",
       "      <td>2367.652864</td>\n",
       "      <td>7091.960832</td>\n",
       "      <td>7091.993088</td>\n",
       "      <td>7092.027392</td>\n",
       "      <td>7092.166656</td>\n",
       "      <td>25000.0</td>\n",
       "      <td>30868.330848</td>\n",
       "      <td>1437.031741</td>\n",
       "      <td>2562.719744</td>\n",
       "      <td>29288.824832</td>\n",
       "      <td>31929.139200</td>\n",
       "      <td>31929.139200</td>\n",
       "      <td>31929.139200</td>\n",
       "    </tr>\n",
       "    <tr>\n",
       "      <th>3</th>\n",
       "      <td>25000.0</td>\n",
       "      <td>7102.993205</td>\n",
       "      <td>29.950163</td>\n",
       "      <td>2367.652864</td>\n",
       "      <td>7103.145472</td>\n",
       "      <td>7103.184384</td>\n",
       "      <td>7103.217664</td>\n",
       "      <td>7103.397376</td>\n",
       "      <td>25000.0</td>\n",
       "      <td>36325.355317</td>\n",
       "      <td>2892.795111</td>\n",
       "      <td>2562.719744</td>\n",
       "      <td>35777.413120</td>\n",
       "      <td>35777.413120</td>\n",
       "      <td>38767.951872</td>\n",
       "      <td>38767.951872</td>\n",
       "    </tr>\n",
       "    <tr>\n",
       "      <th>4</th>\n",
       "      <td>25000.0</td>\n",
       "      <td>7103.675156</td>\n",
       "      <td>29.954507</td>\n",
       "      <td>2367.652864</td>\n",
       "      <td>7103.816704</td>\n",
       "      <td>7103.859712</td>\n",
       "      <td>7103.906304</td>\n",
       "      <td>7104.090624</td>\n",
       "      <td>25000.0</td>\n",
       "      <td>42139.615536</td>\n",
       "      <td>1969.011986</td>\n",
       "      <td>2562.719744</td>\n",
       "      <td>39875.248128</td>\n",
       "      <td>43186.651136</td>\n",
       "      <td>43186.651136</td>\n",
       "      <td>43186.651136</td>\n",
       "    </tr>\n",
       "    <tr>\n",
       "      <th>5</th>\n",
       "      <td>25000.0</td>\n",
       "      <td>7141.955368</td>\n",
       "      <td>30.196596</td>\n",
       "      <td>2367.652864</td>\n",
       "      <td>7142.108160</td>\n",
       "      <td>7142.144000</td>\n",
       "      <td>7142.181888</td>\n",
       "      <td>7142.385152</td>\n",
       "      <td>25000.0</td>\n",
       "      <td>37945.334185</td>\n",
       "      <td>2797.255577</td>\n",
       "      <td>2562.719744</td>\n",
       "      <td>36064.722944</td>\n",
       "      <td>39246.102528</td>\n",
       "      <td>39246.102528</td>\n",
       "      <td>42440.065024</td>\n",
       "    </tr>\n",
       "    <tr>\n",
       "      <th>6</th>\n",
       "      <td>25000.0</td>\n",
       "      <td>7111.461883</td>\n",
       "      <td>30.003724</td>\n",
       "      <td>2367.652864</td>\n",
       "      <td>7111.616000</td>\n",
       "      <td>7111.651328</td>\n",
       "      <td>7111.686784</td>\n",
       "      <td>7111.860736</td>\n",
       "      <td>25000.0</td>\n",
       "      <td>43228.769582</td>\n",
       "      <td>3274.584182</td>\n",
       "      <td>2562.719744</td>\n",
       "      <td>41584.427008</td>\n",
       "      <td>44570.771456</td>\n",
       "      <td>44570.771456</td>\n",
       "      <td>44570.771456</td>\n",
       "    </tr>\n",
       "    <tr>\n",
       "      <th>7</th>\n",
       "      <td>25000.0</td>\n",
       "      <td>7116.190711</td>\n",
       "      <td>30.033638</td>\n",
       "      <td>2367.652864</td>\n",
       "      <td>7116.342272</td>\n",
       "      <td>7116.380672</td>\n",
       "      <td>7116.417024</td>\n",
       "      <td>7116.589056</td>\n",
       "      <td>25000.0</td>\n",
       "      <td>36632.327115</td>\n",
       "      <td>1443.623741</td>\n",
       "      <td>2562.719744</td>\n",
       "      <td>37163.630592</td>\n",
       "      <td>37163.630592</td>\n",
       "      <td>37163.630592</td>\n",
       "      <td>37163.630592</td>\n",
       "    </tr>\n",
       "  </tbody>\n",
       "</table>\n",
       "</div>"
      ],
      "text/plain": [
       "     gpu_memory_allocated                                                    \\\n",
       "                    count         mean        std          min          25%   \n",
       "rank                                                                          \n",
       "0                 25000.0  7105.915426  29.968638  2367.652864  7106.072064   \n",
       "1                 25000.0  7095.922161  29.905436  2367.652864  7096.076288   \n",
       "2                 25000.0  7091.805703  29.879399  2367.652864  7091.960832   \n",
       "3                 25000.0  7102.993205  29.950163  2367.652864  7103.145472   \n",
       "4                 25000.0  7103.675156  29.954507  2367.652864  7103.816704   \n",
       "5                 25000.0  7141.955368  30.196596  2367.652864  7142.108160   \n",
       "6                 25000.0  7111.461883  30.003724  2367.652864  7111.616000   \n",
       "7                 25000.0  7116.190711  30.033638  2367.652864  7116.342272   \n",
       "\n",
       "                                            gpu_memory_reserved                \\\n",
       "              50%          75%          max               count          mean   \n",
       "rank                                                                            \n",
       "0     7106.104320  7106.137088  7106.310144             25000.0  36599.870249   \n",
       "1     7096.110592  7096.144896  7096.308736             25000.0  37944.071364   \n",
       "2     7091.993088  7092.027392  7092.166656             25000.0  30868.330848   \n",
       "3     7103.184384  7103.217664  7103.397376             25000.0  36325.355317   \n",
       "4     7103.859712  7103.906304  7104.090624             25000.0  42139.615536   \n",
       "5     7142.144000  7142.181888  7142.385152             25000.0  37945.334185   \n",
       "6     7111.651328  7111.686784  7111.860736             25000.0  43228.769582   \n",
       "7     7116.380672  7116.417024  7116.589056             25000.0  36632.327115   \n",
       "\n",
       "                                                                          \\\n",
       "              std          min           25%           50%           75%   \n",
       "rank                                                                       \n",
       "0     3297.506880  2562.719744  33619.443712  38587.596800  38587.596800   \n",
       "1     2277.630726  2562.719744  38791.020544  38791.020544  38791.020544   \n",
       "2     1437.031741  2562.719744  29288.824832  31929.139200  31929.139200   \n",
       "3     2892.795111  2562.719744  35777.413120  35777.413120  38767.951872   \n",
       "4     1969.011986  2562.719744  39875.248128  43186.651136  43186.651136   \n",
       "5     2797.255577  2562.719744  36064.722944  39246.102528  39246.102528   \n",
       "6     3274.584182  2562.719744  41584.427008  44570.771456  44570.771456   \n",
       "7     1443.623741  2562.719744  37163.630592  37163.630592  37163.630592   \n",
       "\n",
       "                    \n",
       "               max  \n",
       "rank                \n",
       "0     38587.596800  \n",
       "1     38791.020544  \n",
       "2     31929.139200  \n",
       "3     38767.951872  \n",
       "4     43186.651136  \n",
       "5     42440.065024  \n",
       "6     44570.771456  \n",
       "7     37163.630592  "
      ]
     },
     "execution_count": 8,
     "metadata": {},
     "output_type": "execute_result"
    }
   ],
   "source": [
    "cuda_memory.summary_per_gpu(\"S0\")"
   ]
  },
  {
   "cell_type": "code",
   "execution_count": 9,
   "metadata": {},
   "outputs": [
    {
     "data": {
      "text/html": [
       "<div>\n",
       "<style scoped>\n",
       "    .dataframe tbody tr th:only-of-type {\n",
       "        vertical-align: middle;\n",
       "    }\n",
       "\n",
       "    .dataframe tbody tr th {\n",
       "        vertical-align: top;\n",
       "    }\n",
       "\n",
       "    .dataframe thead th {\n",
       "        text-align: right;\n",
       "    }\n",
       "</style>\n",
       "<table border=\"1\" class=\"dataframe\">\n",
       "  <thead>\n",
       "    <tr style=\"text-align: right;\">\n",
       "      <th></th>\n",
       "      <th>gpu_memory_allocated</th>\n",
       "      <th>gpu_memory_reserved</th>\n",
       "    </tr>\n",
       "  </thead>\n",
       "  <tbody>\n",
       "    <tr>\n",
       "      <th>count</th>\n",
       "      <td>200000.000000</td>\n",
       "      <td>200000.000000</td>\n",
       "    </tr>\n",
       "    <tr>\n",
       "      <th>mean</th>\n",
       "      <td>7108.739952</td>\n",
       "      <td>37710.459275</td>\n",
       "    </tr>\n",
       "    <tr>\n",
       "      <th>std</th>\n",
       "      <td>33.311518</td>\n",
       "      <td>4363.337636</td>\n",
       "    </tr>\n",
       "    <tr>\n",
       "      <th>min</th>\n",
       "      <td>2367.652864</td>\n",
       "      <td>2562.719744</td>\n",
       "    </tr>\n",
       "    <tr>\n",
       "      <th>25%</th>\n",
       "      <td>7096.283904</td>\n",
       "      <td>35777.413120</td>\n",
       "    </tr>\n",
       "    <tr>\n",
       "      <th>50%</th>\n",
       "      <td>7104.087040</td>\n",
       "      <td>38587.596800</td>\n",
       "    </tr>\n",
       "    <tr>\n",
       "      <th>75%</th>\n",
       "      <td>7111.840128</td>\n",
       "      <td>39873.150976</td>\n",
       "    </tr>\n",
       "    <tr>\n",
       "      <th>max</th>\n",
       "      <td>7142.385152</td>\n",
       "      <td>44570.771456</td>\n",
       "    </tr>\n",
       "  </tbody>\n",
       "</table>\n",
       "</div>"
      ],
      "text/plain": [
       "       gpu_memory_allocated  gpu_memory_reserved\n",
       "count         200000.000000        200000.000000\n",
       "mean            7108.739952         37710.459275\n",
       "std               33.311518          4363.337636\n",
       "min             2367.652864          2562.719744\n",
       "25%             7096.283904         35777.413120\n",
       "50%             7104.087040         38587.596800\n",
       "75%             7111.840128         39873.150976\n",
       "max             7142.385152         44570.771456"
      ]
     },
     "execution_count": 9,
     "metadata": {},
     "output_type": "execute_result"
    }
   ],
   "source": [
    "cuda_memory.summary_averaged(\"S0\")"
   ]
  },
  {
   "cell_type": "code",
   "execution_count": 10,
   "metadata": {},
   "outputs": [
    {
     "data": {
      "image/png": "[encoded data removed]",
      "text/plain": [
       "<Figure size 432x288 with 1 Axes>"
      ]
     },
     "metadata": {
      "needs_background": "light"
     },
     "output_type": "display_data"
    },
    {
     "data": {
      "image/png": "[encoded data removed]",
      "text/plain": [
       "<Figure size 432x288 with 1 Axes>"
      ]
     },
     "metadata": {
      "needs_background": "light"
     },
     "output_type": "display_data"
    },
    {
     "data": {
      "image/png": "[encoded data removed]",
      "text/plain": [
       "<Figure size 432x288 with 1 Axes>"
      ]
     },
     "metadata": {
      "needs_background": "light"
     },
     "output_type": "display_data"
    },
    {
     "data": {
      "image/png": "[encoded data removed]",
      "text/plain": [
       "<Figure size 432x288 with 1 Axes>"
      ]
     },
     "metadata": {
      "needs_background": "light"
     },
     "output_type": "display_data"
    },
    {
     "data": {
      "image/png": "[encoded data removed]",
      "text/plain": [
       "<Figure size 432x288 with 1 Axes>"
      ]
     },
     "metadata": {
      "needs_background": "light"
     },
     "output_type": "display_data"
    },
    {
     "data": {
      "image/png": "[encoded data removed]",
      "text/plain": [
       "<Figure size 432x288 with 1 Axes>"
      ]
     },
     "metadata": {
      "needs_background": "light"
     },
     "output_type": "display_data"
    },
    {
     "data": {
      "image/png": "[encoded data removed]",
      "text/plain": [
       "<Figure size 432x288 with 1 Axes>"
      ]
     },
     "metadata": {
      "needs_background": "light"
     },
     "output_type": "display_data"
    },
    {
     "data": {
      "image/png": "[encoded data removed]",
      "text/plain": [
       "<Figure size 432x288 with 1 Axes>"
      ]
     },
     "metadata": {
      "needs_background": "light"
     },
     "output_type": "display_data"
    }
   ],
   "source": [
    "for i, run in enumerate(runs):\n",
    "    cuda_memory.plot_cuda_memory(\n",
    "        run, \n",
    "        mode=\"averaged\", \n",
    "        title=formatted_run_names_1[i],\n",
    "        save=True, \n",
    "        save_dir=\"../outputs/gemnet/s2ef/cuda_memory\"\n",
    "    )"
   ]
  },
  {
   "cell_type": "markdown",
   "metadata": {},
   "source": [
    "For a single run, the GPU CUDA torch memory consumption can be plotted versus time, individually on each GPU or averaged/summed across all involved GPUs."
   ]
  },
  {
   "cell_type": "code",
   "execution_count": 11,
   "metadata": {},
   "outputs": [
    {
     "data": {
      "image/png": "[encoded data removed]",
      "text/plain": [
       "<Figure size 432x288 with 1 Axes>"
      ]
     },
     "metadata": {
      "needs_background": "light"
     },
     "output_type": "display_data"
    }
   ],
   "source": [
    "cuda_memory.plot_cuda_memory(\"S0\", mode=\"averaged\")"
   ]
  },
  {
   "cell_type": "code",
   "execution_count": 12,
   "metadata": {},
   "outputs": [
    {
     "data": {
      "image/png": "[encoded data removed]",
      "text/plain": [
       "<Figure size 432x288 with 1 Axes>"
      ]
     },
     "metadata": {
      "needs_background": "light"
     },
     "output_type": "display_data"
    },
    {
     "data": {
      "image/png": "[encoded data removed]",
      "text/plain": [
       "<Figure size 432x288 with 1 Axes>"
      ]
     },
     "metadata": {
      "needs_background": "light"
     },
     "output_type": "display_data"
    },
    {
     "data": {
      "image/png": "[encoded data removed]",
      "text/plain": [
       "<Figure size 432x288 with 1 Axes>"
      ]
     },
     "metadata": {
      "needs_background": "light"
     },
     "output_type": "display_data"
    },
    {
     "data": {
      "image/png": "[encoded data removed]",
      "text/plain": [
       "<Figure size 432x288 with 1 Axes>"
      ]
     },
     "metadata": {
      "needs_background": "light"
     },
     "output_type": "display_data"
    },
    {
     "data": {
      "image/png": "[encoded data removed]",
      "text/plain": [
       "<Figure size 432x288 with 1 Axes>"
      ]
     },
     "metadata": {
      "needs_background": "light"
     },
     "output_type": "display_data"
    },
    {
     "data": {
      "image/png": "[encoded data removed]",
      "text/plain": [
       "<Figure size 432x288 with 1 Axes>"
      ]
     },
     "metadata": {
      "needs_background": "light"
     },
     "output_type": "display_data"
    },
    {
     "data": {
      "image/png": "[encoded data removed]",
      "text/plain": [
       "<Figure size 432x288 with 1 Axes>"
      ]
     },
     "metadata": {
      "needs_background": "light"
     },
     "output_type": "display_data"
    },
    {
     "data": {
      "image/png": "[encoded data removed]",
      "text/plain": [
       "<Figure size 432x288 with 1 Axes>"
      ]
     },
     "metadata": {
      "needs_background": "light"
     },
     "output_type": "display_data"
    }
   ],
   "source": [
    "cuda_memory.plot_cuda_memory(\"S1\", mode=\"individual\")"
   ]
  },
  {
   "cell_type": "markdown",
   "metadata": {},
   "source": [
    "## Comparison of memory and runtimes for different runs\n",
    "\n",
    "For different runs, the allocated and reserved GPU CUDA memory as well as the runtimes can be compared."
   ]
  },
  {
   "cell_type": "code",
   "execution_count": 13,
   "metadata": {},
   "outputs": [
    {
     "data": {
      "text/html": [
       "<div>\n",
       "<style scoped>\n",
       "    .dataframe tbody tr th:only-of-type {\n",
       "        vertical-align: middle;\n",
       "    }\n",
       "\n",
       "    .dataframe tbody tr th {\n",
       "        vertical-align: top;\n",
       "    }\n",
       "\n",
       "    .dataframe thead th {\n",
       "        text-align: right;\n",
       "    }\n",
       "</style>\n",
       "<table border=\"1\" class=\"dataframe\">\n",
       "  <thead>\n",
       "    <tr style=\"text-align: right;\">\n",
       "      <th></th>\n",
       "      <th>S0</th>\n",
       "      <th>S0+fp16</th>\n",
       "      <th>S1</th>\n",
       "      <th>S1+OC</th>\n",
       "      <th>S2+OC</th>\n",
       "      <th>S2+OO+OC</th>\n",
       "      <th>S3+OC</th>\n",
       "      <th>S3+PO+OO+OC</th>\n",
       "    </tr>\n",
       "  </thead>\n",
       "  <tbody>\n",
       "    <tr>\n",
       "      <th>epoch_time</th>\n",
       "      <td>04:07:00</td>\n",
       "      <td>02:29:03</td>\n",
       "      <td>02:43:45</td>\n",
       "      <td>02:42:51</td>\n",
       "      <td>03:00:41</td>\n",
       "      <td>04:18:11</td>\n",
       "      <td>03:43:01</td>\n",
       "      <td>05:09:53</td>\n",
       "    </tr>\n",
       "    <tr>\n",
       "      <th>dataloading_time</th>\n",
       "      <td>00:00:51</td>\n",
       "      <td>00:00:45</td>\n",
       "      <td>00:00:29</td>\n",
       "      <td>00:00:26</td>\n",
       "      <td>00:00:30</td>\n",
       "      <td>00:00:29</td>\n",
       "      <td>00:00:27</td>\n",
       "      <td>00:00:24</td>\n",
       "    </tr>\n",
       "    <tr>\n",
       "      <th>forward_time</th>\n",
       "      <td>00:35:43</td>\n",
       "      <td>00:21:36</td>\n",
       "      <td>00:21:59</td>\n",
       "      <td>00:21:57</td>\n",
       "      <td>00:21:58</td>\n",
       "      <td>00:21:57</td>\n",
       "      <td>00:54:57</td>\n",
       "      <td>00:54:32</td>\n",
       "    </tr>\n",
       "    <tr>\n",
       "      <th>backward_time</th>\n",
       "      <td>03:11:31</td>\n",
       "      <td>01:53:35</td>\n",
       "      <td>01:39:38</td>\n",
       "      <td>01:38:45</td>\n",
       "      <td>01:56:29</td>\n",
       "      <td>03:09:20</td>\n",
       "      <td>02:05:26</td>\n",
       "      <td>03:52:43</td>\n",
       "    </tr>\n",
       "    <tr>\n",
       "      <th>rest</th>\n",
       "      <td>00:18:53</td>\n",
       "      <td>00:13:05</td>\n",
       "      <td>00:41:39</td>\n",
       "      <td>00:41:41</td>\n",
       "      <td>00:41:43</td>\n",
       "      <td>00:46:23</td>\n",
       "      <td>00:42:11</td>\n",
       "      <td>00:22:13</td>\n",
       "    </tr>\n",
       "  </tbody>\n",
       "</table>\n",
       "</div>"
      ],
      "text/plain": [
       "                        S0   S0+fp16        S1     S1+OC     S2+OC  S2+OO+OC  \\\n",
       "epoch_time        04:07:00  02:29:03  02:43:45  02:42:51  03:00:41  04:18:11   \n",
       "dataloading_time  00:00:51  00:00:45  00:00:29  00:00:26  00:00:30  00:00:29   \n",
       "forward_time      00:35:43  00:21:36  00:21:59  00:21:57  00:21:58  00:21:57   \n",
       "backward_time     03:11:31  01:53:35  01:39:38  01:38:45  01:56:29  03:09:20   \n",
       "rest              00:18:53  00:13:05  00:41:39  00:41:41  00:41:43  00:46:23   \n",
       "\n",
       "                     S3+OC S3+PO+OO+OC  \n",
       "epoch_time        03:43:01    05:09:53  \n",
       "dataloading_time  00:00:27    00:00:24  \n",
       "forward_time      00:54:57    00:54:32  \n",
       "backward_time     02:05:26    03:52:43  \n",
       "rest              00:42:11    00:22:13  "
      ]
     },
     "execution_count": 13,
     "metadata": {},
     "output_type": "execute_result"
    }
   ],
   "source": [
    "runtimes.compare(save=True, save_dir=\"../outputs/gemnet/s2ef/runtimes\")"
   ]
  },
  {
   "cell_type": "code",
   "execution_count": 14,
   "metadata": {},
   "outputs": [
    {
     "data": {
      "image/png": "[encoded data removed]",
      "text/plain": [
       "<Figure size 432x288 with 1 Axes>"
      ]
     },
     "metadata": {
      "needs_background": "light"
     },
     "output_type": "display_data"
    }
   ],
   "source": [
    "runtimes.compare_plot(\n",
    "    yticks=formatted_run_names_2, \n",
    "    figsize=(6, 4), \n",
    "    title=r\"\\textbf{Runtimes}\",\n",
    "    save=True,\n",
    "    save_dir=\"../outputs/gemnet/s2ef/runtimes\"\n",
    ")"
   ]
  },
  {
   "cell_type": "code",
   "execution_count": 15,
   "metadata": {},
   "outputs": [
    {
     "data": {
      "text/html": [
       "<div>\n",
       "<style scoped>\n",
       "    .dataframe tbody tr th:only-of-type {\n",
       "        vertical-align: middle;\n",
       "    }\n",
       "\n",
       "    .dataframe tbody tr th {\n",
       "        vertical-align: top;\n",
       "    }\n",
       "\n",
       "    .dataframe thead th {\n",
       "        text-align: right;\n",
       "    }\n",
       "</style>\n",
       "<table border=\"1\" class=\"dataframe\">\n",
       "  <thead>\n",
       "    <tr style=\"text-align: right;\">\n",
       "      <th></th>\n",
       "      <th>S0</th>\n",
       "      <th>S0+fp16</th>\n",
       "      <th>S1</th>\n",
       "      <th>S1+OC</th>\n",
       "      <th>S2+OC</th>\n",
       "      <th>S2+OO+OC</th>\n",
       "      <th>S3+OC</th>\n",
       "      <th>S3+PO+OO+OC</th>\n",
       "    </tr>\n",
       "  </thead>\n",
       "  <tbody>\n",
       "    <tr>\n",
       "      <th>gpu_memory_allocated</th>\n",
       "      <td>7.11</td>\n",
       "      <td>7.10</td>\n",
       "      <td>2.36</td>\n",
       "      <td>2.36</td>\n",
       "      <td>2.36</td>\n",
       "      <td>1.78</td>\n",
       "      <td>3.51</td>\n",
       "      <td>2.78</td>\n",
       "    </tr>\n",
       "    <tr>\n",
       "      <th>gpu_memory_reserved</th>\n",
       "      <td>37.71</td>\n",
       "      <td>24.98</td>\n",
       "      <td>18.99</td>\n",
       "      <td>18.99</td>\n",
       "      <td>20.30</td>\n",
       "      <td>19.77</td>\n",
       "      <td>21.99</td>\n",
       "      <td>21.32</td>\n",
       "    </tr>\n",
       "  </tbody>\n",
       "</table>\n",
       "</div>"
      ],
      "text/plain": [
       "                         S0  S0+fp16     S1  S1+OC  S2+OC  S2+OO+OC  S3+OC  \\\n",
       "gpu_memory_allocated   7.11     7.10   2.36   2.36   2.36      1.78   3.51   \n",
       "gpu_memory_reserved   37.71    24.98  18.99  18.99  20.30     19.77  21.99   \n",
       "\n",
       "                      S3+PO+OO+OC  \n",
       "gpu_memory_allocated         2.78  \n",
       "gpu_memory_reserved         21.32  "
      ]
     },
     "execution_count": 15,
     "metadata": {},
     "output_type": "execute_result"
    }
   ],
   "source": [
    "cuda_memory.compare(save=True, save_dir=\"../outputs/gemnet/s2ef/cuda_memory\")"
   ]
  },
  {
   "cell_type": "code",
   "execution_count": 16,
   "metadata": {},
   "outputs": [
    {
     "data": {
      "image/png": "[encoded data removed]",
      "text/plain": [
       "<Figure size 432x288 with 1 Axes>"
      ]
     },
     "metadata": {
      "needs_background": "light"
     },
     "output_type": "display_data"
    }
   ],
   "source": [
    "cuda_memory.compare_plot(\n",
    "    xticks=formatted_run_names_2, \n",
    "    figsize=(6, 4), \n",
    "    title=r\"\\textbf{GPU memory consumption}\",\n",
    "    save=True,\n",
    "    save_dir=\"../outputs/gemnet/s2ef/cuda_memory\"\n",
    ")"
   ]
  }
 ],
 "metadata": {
  "kernelspec": {
   "display_name": "Python 3.9.12 ('tum-di-lab')",
   "language": "python",
   "name": "python3"
  },
  "language_info": {
   "codemirror_mode": {
    "name": "ipython",
    "version": 3
   },
   "file_extension": ".py",
   "mimetype": "text/x-python",
   "name": "python",
   "nbconvert_exporter": "python",
   "pygments_lexer": "ipython3",
   "version": "3.9.12"
  },
  "orig_nbformat": 4,
  "vscode": {
   "interpreter": {
    "hash": "119c6c5c0d22922f1de4a43916b405efff0fc16ad72dd0247274e82a6c60783f"
   }
  }
 },
 "nbformat": 4,
 "nbformat_minor": 2
}
