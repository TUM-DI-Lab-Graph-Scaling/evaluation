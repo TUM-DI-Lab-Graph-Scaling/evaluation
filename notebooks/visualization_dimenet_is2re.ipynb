{
 "cells": [
  {
   "cell_type": "markdown",
   "metadata": {},
   "source": [
    "# Evaluation of GPU memory consumption for CUDA Tensors"
   ]
  },
  {
   "cell_type": "code",
   "execution_count": 1,
   "metadata": {},
   "outputs": [],
   "source": [
    "import sys\n",
    "sys.path.append(\"/Users/danielherbst/Desktop/evaluation\")"
   ]
  },
  {
   "cell_type": "code",
   "execution_count": 2,
   "metadata": {},
   "outputs": [],
   "source": [
    "from evaluation_routines.data_loading import OCPDataFrameLoader\n",
    "from evaluation_routines.cuda_memory import CUDAMemory\n",
    "from evaluation_routines.runtimes import Runtimes"
   ]
  },
  {
   "cell_type": "markdown",
   "metadata": {},
   "source": [
    "## Data loading\n",
    "\n",
    "At first, we specify the paths necessary for evaluation. This includes:\n",
    "- the ocp metrics directory stored in `ocp_metrics_path`\n",
    "- the directory `directory` for the specific model/series of runs we would like to consider\n",
    "- the runs `runs` as a `dict` with shorter name as key and the respective csv filenames without \"_resources/...\" extensions"
   ]
  },
  {
   "cell_type": "code",
   "execution_count": 3,
   "metadata": {},
   "outputs": [],
   "source": [
    "ocp_metrics_path = \"/Users/danielherbst/Desktop/ocp-metrics\"\n",
    "directory = \"is2re/dimenetplusplus_xl/batch_size_2\"\n",
    "\n",
    "runs = {\n",
    "    \"S0\":           \"1658979062_stage0_8gpus\",\n",
    "    \"S0+fp16\":      \"1658963596_stage0_8gpus\",\n",
    "    \"S1\":           \"1658966272_stage1_8gpus\",\n",
    "    \"S1+OC\":        \"1659004266_stage1_8gpus\",\n",
    "    \"S2+OC\":        \"1658972538_stage2_8gpus\",\n",
    "    \"S2+OO+OC\":     \"1658990631_stage2_8gpus_offloadOptimizer[cpu]\",\n",
    "    \"S3+OC\":        \"1658983455_stage3_8gpus\",\n",
    "    \"S3+PO+OO+OC\":  \"1658998685_stage3_8gpus_offloadOptimizer[cpu]_offloadParam[cpu]\"\n",
    "}\n",
    "formatted_run_names_1 = [\n",
    "    r\"\\textbf{S0}\",\n",
    "    r\"\\textbf{S0}\" + \"+fp16\",\n",
    "    r\"\\textbf{S1}\",\n",
    "    r\"\\textbf{S1}\" + \"+OC\",\n",
    "    r\"\\textbf{S2}\" + \"+OC\",\n",
    "    r\"\\textbf{S2}\" + \"+OO+OC\",\n",
    "    r\"\\textbf{S3}\" + \"+OC\",\n",
    "    r\"\\textbf{S3}\" + \"+PO+OO+OC\"\n",
    "]\n",
    "formatted_run_names_2 = [\n",
    "    r\"\\textbf{S0}\",\n",
    "    r\"\\textbf{S0}\" + \"+fp16\",\n",
    "    r\"\\textbf{S1}\",\n",
    "    r\"\\textbf{S1}\" + \"+OC\",\n",
    "    r\"\\textbf{S2}\" + \"+OC\",\n",
    "    r\"\\textbf{S2}\" + \"+OO\\n+OC\",\n",
    "    r\"\\textbf{S3}\" + \"+OC\",\n",
    "    r\"\\textbf{S3}\" + \"+PO\\n+OO+OC\"\n",
    "]\n",
    "\n",
    "data_loader = OCPDataFrameLoader(ocp_metrics_path, directory, runs)\n",
    "cuda_memory, runtimes = CUDAMemory(data_loader), Runtimes(data_loader)"
   ]
  },
  {
   "cell_type": "code",
   "execution_count": 4,
   "metadata": {},
   "outputs": [],
   "source": [
    "resources_paths, torch_cuda_paths, runtimes_paths = data_loader.get_paths()"
   ]
  },
  {
   "cell_type": "markdown",
   "metadata": {},
   "source": [
    "## Inspection of a single run\n",
    "\n",
    "At first, we inspect single runs with a set DeepSpeed configuration. We look at statistical summaries of the allocated and reserved memory as well as runtimes."
   ]
  },
  {
   "cell_type": "code",
   "execution_count": 5,
   "metadata": {},
   "outputs": [
    {
     "data": {
      "text/html": [
       "<div>\n",
       "<style scoped>\n",
       "    .dataframe tbody tr th:only-of-type {\n",
       "        vertical-align: middle;\n",
       "    }\n",
       "\n",
       "    .dataframe tbody tr th {\n",
       "        vertical-align: top;\n",
       "    }\n",
       "\n",
       "    .dataframe thead th {\n",
       "        text-align: right;\n",
       "    }\n",
       "</style>\n",
       "<table border=\"1\" class=\"dataframe\">\n",
       "  <thead>\n",
       "    <tr style=\"text-align: right;\">\n",
       "      <th></th>\n",
       "      <th>datetime</th>\n",
       "      <th>epoch</th>\n",
       "      <th>rank</th>\n",
       "      <th>gpu_memory_allocated</th>\n",
       "      <th>gpu_memory_reserved</th>\n",
       "    </tr>\n",
       "  </thead>\n",
       "  <tbody>\n",
       "    <tr>\n",
       "      <th>0</th>\n",
       "      <td>2022-07-28 03:31:06.845517</td>\n",
       "      <td>0</td>\n",
       "      <td>3</td>\n",
       "      <td>3461.592576</td>\n",
       "      <td>10955.522048</td>\n",
       "    </tr>\n",
       "    <tr>\n",
       "      <th>1</th>\n",
       "      <td>2022-07-28 03:31:06.845603</td>\n",
       "      <td>0</td>\n",
       "      <td>4</td>\n",
       "      <td>3460.595712</td>\n",
       "      <td>12394.168320</td>\n",
       "    </tr>\n",
       "    <tr>\n",
       "      <th>2</th>\n",
       "      <td>2022-07-28 03:31:06.845839</td>\n",
       "      <td>0</td>\n",
       "      <td>2</td>\n",
       "      <td>3467.215872</td>\n",
       "      <td>8506.048512</td>\n",
       "    </tr>\n",
       "    <tr>\n",
       "      <th>3</th>\n",
       "      <td>2022-07-28 03:31:06.845897</td>\n",
       "      <td>0</td>\n",
       "      <td>5</td>\n",
       "      <td>3461.036544</td>\n",
       "      <td>11421.089792</td>\n",
       "    </tr>\n",
       "    <tr>\n",
       "      <th>4</th>\n",
       "      <td>2022-07-28 03:31:06.846203</td>\n",
       "      <td>0</td>\n",
       "      <td>1</td>\n",
       "      <td>3461.353472</td>\n",
       "      <td>11062.476800</td>\n",
       "    </tr>\n",
       "    <tr>\n",
       "      <th>...</th>\n",
       "      <td>...</td>\n",
       "      <td>...</td>\n",
       "      <td>...</td>\n",
       "      <td>...</td>\n",
       "      <td>...</td>\n",
       "    </tr>\n",
       "    <tr>\n",
       "      <th>49995</th>\n",
       "      <td>2022-07-28 04:42:15.902348</td>\n",
       "      <td>0</td>\n",
       "      <td>5</td>\n",
       "      <td>3461.006336</td>\n",
       "      <td>32935.772160</td>\n",
       "    </tr>\n",
       "    <tr>\n",
       "      <th>49996</th>\n",
       "      <td>2022-07-28 04:42:15.902900</td>\n",
       "      <td>0</td>\n",
       "      <td>6</td>\n",
       "      <td>3459.550208</td>\n",
       "      <td>18819.842048</td>\n",
       "    </tr>\n",
       "    <tr>\n",
       "      <th>49997</th>\n",
       "      <td>2022-07-28 04:42:15.902929</td>\n",
       "      <td>0</td>\n",
       "      <td>1</td>\n",
       "      <td>3461.348352</td>\n",
       "      <td>17196.646400</td>\n",
       "    </tr>\n",
       "    <tr>\n",
       "      <th>49998</th>\n",
       "      <td>2022-07-28 04:42:15.903370</td>\n",
       "      <td>0</td>\n",
       "      <td>7</td>\n",
       "      <td>3460.570112</td>\n",
       "      <td>19107.151872</td>\n",
       "    </tr>\n",
       "    <tr>\n",
       "      <th>49999</th>\n",
       "      <td>2022-07-28 04:42:15.903342</td>\n",
       "      <td>0</td>\n",
       "      <td>0</td>\n",
       "      <td>3463.406080</td>\n",
       "      <td>25933.381632</td>\n",
       "    </tr>\n",
       "  </tbody>\n",
       "</table>\n",
       "<p>50000 rows × 5 columns</p>\n",
       "</div>"
      ],
      "text/plain": [
       "                         datetime  epoch  rank  gpu_memory_allocated  \\\n",
       "0      2022-07-28 03:31:06.845517      0     3           3461.592576   \n",
       "1      2022-07-28 03:31:06.845603      0     4           3460.595712   \n",
       "2      2022-07-28 03:31:06.845839      0     2           3467.215872   \n",
       "3      2022-07-28 03:31:06.845897      0     5           3461.036544   \n",
       "4      2022-07-28 03:31:06.846203      0     1           3461.353472   \n",
       "...                           ...    ...   ...                   ...   \n",
       "49995  2022-07-28 04:42:15.902348      0     5           3461.006336   \n",
       "49996  2022-07-28 04:42:15.902900      0     6           3459.550208   \n",
       "49997  2022-07-28 04:42:15.902929      0     1           3461.348352   \n",
       "49998  2022-07-28 04:42:15.903370      0     7           3460.570112   \n",
       "49999  2022-07-28 04:42:15.903342      0     0           3463.406080   \n",
       "\n",
       "       gpu_memory_reserved  \n",
       "0             10955.522048  \n",
       "1             12394.168320  \n",
       "2              8506.048512  \n",
       "3             11421.089792  \n",
       "4             11062.476800  \n",
       "...                    ...  \n",
       "49995         32935.772160  \n",
       "49996         18819.842048  \n",
       "49997         17196.646400  \n",
       "49998         19107.151872  \n",
       "49999         25933.381632  \n",
       "\n",
       "[50000 rows x 5 columns]"
      ]
     },
     "execution_count": 5,
     "metadata": {},
     "output_type": "execute_result"
    }
   ],
   "source": [
    "cuda_df = data_loader.get_metrics_csv(torch_cuda_paths[\"S0\"], csv_type=\"torch_cuda\")\n",
    "cuda_df"
   ]
  },
  {
   "cell_type": "code",
   "execution_count": 6,
   "metadata": {},
   "outputs": [
    {
     "data": {
      "text/html": [
       "<div>\n",
       "<style scoped>\n",
       "    .dataframe tbody tr th:only-of-type {\n",
       "        vertical-align: middle;\n",
       "    }\n",
       "\n",
       "    .dataframe tbody tr th {\n",
       "        vertical-align: top;\n",
       "    }\n",
       "\n",
       "    .dataframe thead th {\n",
       "        text-align: right;\n",
       "    }\n",
       "</style>\n",
       "<table border=\"1\" class=\"dataframe\">\n",
       "  <thead>\n",
       "    <tr style=\"text-align: right;\">\n",
       "      <th></th>\n",
       "      <th>rank</th>\n",
       "      <th>epoch</th>\n",
       "      <th>epoch_time</th>\n",
       "      <th>dataloading_time</th>\n",
       "      <th>forward_time</th>\n",
       "      <th>backward_time</th>\n",
       "      <th>rest</th>\n",
       "    </tr>\n",
       "  </thead>\n",
       "  <tbody>\n",
       "    <tr>\n",
       "      <th>0</th>\n",
       "      <td>3</td>\n",
       "      <td>0</td>\n",
       "      <td>4273.925739</td>\n",
       "      <td>12.547438</td>\n",
       "      <td>471.263475</td>\n",
       "      <td>3519.107856</td>\n",
       "      <td>271.006970</td>\n",
       "    </tr>\n",
       "    <tr>\n",
       "      <th>1</th>\n",
       "      <td>1</td>\n",
       "      <td>0</td>\n",
       "      <td>4273.948656</td>\n",
       "      <td>10.665323</td>\n",
       "      <td>440.901921</td>\n",
       "      <td>3520.982385</td>\n",
       "      <td>301.399027</td>\n",
       "    </tr>\n",
       "    <tr>\n",
       "      <th>2</th>\n",
       "      <td>2</td>\n",
       "      <td>0</td>\n",
       "      <td>4273.951988</td>\n",
       "      <td>11.995312</td>\n",
       "      <td>455.080636</td>\n",
       "      <td>3519.711833</td>\n",
       "      <td>287.164208</td>\n",
       "    </tr>\n",
       "    <tr>\n",
       "      <th>3</th>\n",
       "      <td>6</td>\n",
       "      <td>0</td>\n",
       "      <td>4273.957337</td>\n",
       "      <td>9.819030</td>\n",
       "      <td>487.521091</td>\n",
       "      <td>3521.462974</td>\n",
       "      <td>255.154242</td>\n",
       "    </tr>\n",
       "    <tr>\n",
       "      <th>4</th>\n",
       "      <td>7</td>\n",
       "      <td>0</td>\n",
       "      <td>4273.963306</td>\n",
       "      <td>8.621952</td>\n",
       "      <td>479.173976</td>\n",
       "      <td>3523.280511</td>\n",
       "      <td>262.886867</td>\n",
       "    </tr>\n",
       "    <tr>\n",
       "      <th>5</th>\n",
       "      <td>4</td>\n",
       "      <td>0</td>\n",
       "      <td>4274.082501</td>\n",
       "      <td>12.697049</td>\n",
       "      <td>504.795262</td>\n",
       "      <td>3518.879534</td>\n",
       "      <td>237.710657</td>\n",
       "    </tr>\n",
       "    <tr>\n",
       "      <th>6</th>\n",
       "      <td>0</td>\n",
       "      <td>0</td>\n",
       "      <td>4274.106312</td>\n",
       "      <td>7.695503</td>\n",
       "      <td>428.755182</td>\n",
       "      <td>3523.129665</td>\n",
       "      <td>314.525962</td>\n",
       "    </tr>\n",
       "    <tr>\n",
       "      <th>7</th>\n",
       "      <td>5</td>\n",
       "      <td>0</td>\n",
       "      <td>4274.183964</td>\n",
       "      <td>11.851547</td>\n",
       "      <td>474.056801</td>\n",
       "      <td>3519.783971</td>\n",
       "      <td>268.491645</td>\n",
       "    </tr>\n",
       "  </tbody>\n",
       "</table>\n",
       "</div>"
      ],
      "text/plain": [
       "   rank  epoch   epoch_time  dataloading_time  forward_time  backward_time  \\\n",
       "0     3      0  4273.925739         12.547438    471.263475    3519.107856   \n",
       "1     1      0  4273.948656         10.665323    440.901921    3520.982385   \n",
       "2     2      0  4273.951988         11.995312    455.080636    3519.711833   \n",
       "3     6      0  4273.957337          9.819030    487.521091    3521.462974   \n",
       "4     7      0  4273.963306          8.621952    479.173976    3523.280511   \n",
       "5     4      0  4274.082501         12.697049    504.795262    3518.879534   \n",
       "6     0      0  4274.106312          7.695503    428.755182    3523.129665   \n",
       "7     5      0  4274.183964         11.851547    474.056801    3519.783971   \n",
       "\n",
       "         rest  \n",
       "0  271.006970  \n",
       "1  301.399027  \n",
       "2  287.164208  \n",
       "3  255.154242  \n",
       "4  262.886867  \n",
       "5  237.710657  \n",
       "6  314.525962  \n",
       "7  268.491645  "
      ]
     },
     "execution_count": 6,
     "metadata": {},
     "output_type": "execute_result"
    }
   ],
   "source": [
    "runtimes_df = data_loader.get_metrics_csv(runtimes_paths[\"S0\"], csv_type=\"runtimes\")\n",
    "runtimes_df"
   ]
  },
  {
   "cell_type": "code",
   "execution_count": 7,
   "metadata": {},
   "outputs": [
    {
     "data": {
      "text/plain": [
       "epoch_time          01:11:14\n",
       "dataloading_time    00:00:10\n",
       "forward_time        00:07:47\n",
       "backward_time       00:58:40\n",
       "rest                00:04:34\n",
       "dtype: object"
      ]
     },
     "execution_count": 7,
     "metadata": {},
     "output_type": "execute_result"
    }
   ],
   "source": [
    "runtimes.means(\"S0\")"
   ]
  },
  {
   "cell_type": "code",
   "execution_count": 8,
   "metadata": {},
   "outputs": [
    {
     "data": {
      "text/html": [
       "<div>\n",
       "<style scoped>\n",
       "    .dataframe tbody tr th:only-of-type {\n",
       "        vertical-align: middle;\n",
       "    }\n",
       "\n",
       "    .dataframe tbody tr th {\n",
       "        vertical-align: top;\n",
       "    }\n",
       "\n",
       "    .dataframe thead tr th {\n",
       "        text-align: left;\n",
       "    }\n",
       "\n",
       "    .dataframe thead tr:last-of-type th {\n",
       "        text-align: right;\n",
       "    }\n",
       "</style>\n",
       "<table border=\"1\" class=\"dataframe\">\n",
       "  <thead>\n",
       "    <tr>\n",
       "      <th></th>\n",
       "      <th colspan=\"8\" halign=\"left\">gpu_memory_allocated</th>\n",
       "      <th colspan=\"8\" halign=\"left\">gpu_memory_reserved</th>\n",
       "    </tr>\n",
       "    <tr>\n",
       "      <th></th>\n",
       "      <th>count</th>\n",
       "      <th>mean</th>\n",
       "      <th>std</th>\n",
       "      <th>min</th>\n",
       "      <th>25%</th>\n",
       "      <th>50%</th>\n",
       "      <th>75%</th>\n",
       "      <th>max</th>\n",
       "      <th>count</th>\n",
       "      <th>mean</th>\n",
       "      <th>std</th>\n",
       "      <th>min</th>\n",
       "      <th>25%</th>\n",
       "      <th>50%</th>\n",
       "      <th>75%</th>\n",
       "      <th>max</th>\n",
       "    </tr>\n",
       "    <tr>\n",
       "      <th>rank</th>\n",
       "      <th></th>\n",
       "      <th></th>\n",
       "      <th></th>\n",
       "      <th></th>\n",
       "      <th></th>\n",
       "      <th></th>\n",
       "      <th></th>\n",
       "      <th></th>\n",
       "      <th></th>\n",
       "      <th></th>\n",
       "      <th></th>\n",
       "      <th></th>\n",
       "      <th></th>\n",
       "      <th></th>\n",
       "      <th></th>\n",
       "      <th></th>\n",
       "    </tr>\n",
       "  </thead>\n",
       "  <tbody>\n",
       "    <tr>\n",
       "      <th>0</th>\n",
       "      <td>6250.0</td>\n",
       "      <td>3463.409185</td>\n",
       "      <td>0.049756</td>\n",
       "      <td>3463.250432</td>\n",
       "      <td>3463.376384</td>\n",
       "      <td>3463.411200</td>\n",
       "      <td>3463.443968</td>\n",
       "      <td>3463.608832</td>\n",
       "      <td>6250.0</td>\n",
       "      <td>28323.307124</td>\n",
       "      <td>7328.026674</td>\n",
       "      <td>8143.241216</td>\n",
       "      <td>25933.381632</td>\n",
       "      <td>25933.381632</td>\n",
       "      <td>37320.916992</td>\n",
       "      <td>37320.916992</td>\n",
       "    </tr>\n",
       "    <tr>\n",
       "      <th>1</th>\n",
       "      <td>6250.0</td>\n",
       "      <td>3461.287709</td>\n",
       "      <td>0.052369</td>\n",
       "      <td>3461.125120</td>\n",
       "      <td>3461.252608</td>\n",
       "      <td>3461.289472</td>\n",
       "      <td>3461.324288</td>\n",
       "      <td>3461.472256</td>\n",
       "      <td>6250.0</td>\n",
       "      <td>42075.824283</td>\n",
       "      <td>8298.055298</td>\n",
       "      <td>11062.476800</td>\n",
       "      <td>44929.384448</td>\n",
       "      <td>44929.384448</td>\n",
       "      <td>44929.384448</td>\n",
       "      <td>44929.384448</td>\n",
       "    </tr>\n",
       "    <tr>\n",
       "      <th>2</th>\n",
       "      <td>6250.0</td>\n",
       "      <td>3467.233631</td>\n",
       "      <td>0.050608</td>\n",
       "      <td>3467.053056</td>\n",
       "      <td>3467.198976</td>\n",
       "      <td>3467.235328</td>\n",
       "      <td>3467.267584</td>\n",
       "      <td>3467.468800</td>\n",
       "      <td>6250.0</td>\n",
       "      <td>19067.472414</td>\n",
       "      <td>4408.980091</td>\n",
       "      <td>8506.048512</td>\n",
       "      <td>18314.428416</td>\n",
       "      <td>18314.428416</td>\n",
       "      <td>18314.428416</td>\n",
       "      <td>45271.220224</td>\n",
       "    </tr>\n",
       "    <tr>\n",
       "      <th>3</th>\n",
       "      <td>6250.0</td>\n",
       "      <td>3461.546225</td>\n",
       "      <td>0.056771</td>\n",
       "      <td>3461.369856</td>\n",
       "      <td>3461.508608</td>\n",
       "      <td>3461.547264</td>\n",
       "      <td>3461.584896</td>\n",
       "      <td>3461.746688</td>\n",
       "      <td>6250.0</td>\n",
       "      <td>33452.673487</td>\n",
       "      <td>15210.979028</td>\n",
       "      <td>10955.522048</td>\n",
       "      <td>18173.919232</td>\n",
       "      <td>39023.804416</td>\n",
       "      <td>48781.852672</td>\n",
       "      <td>48781.852672</td>\n",
       "    </tr>\n",
       "    <tr>\n",
       "      <th>4</th>\n",
       "      <td>6250.0</td>\n",
       "      <td>3460.518795</td>\n",
       "      <td>0.068569</td>\n",
       "      <td>3460.331520</td>\n",
       "      <td>3460.469760</td>\n",
       "      <td>3460.516864</td>\n",
       "      <td>3460.562944</td>\n",
       "      <td>3460.731392</td>\n",
       "      <td>6250.0</td>\n",
       "      <td>27158.954912</td>\n",
       "      <td>2026.377367</td>\n",
       "      <td>12394.168320</td>\n",
       "      <td>27625.783296</td>\n",
       "      <td>27625.783296</td>\n",
       "      <td>27627.880448</td>\n",
       "      <td>41173.385216</td>\n",
       "    </tr>\n",
       "    <tr>\n",
       "      <th>5</th>\n",
       "      <td>6250.0</td>\n",
       "      <td>3460.979830</td>\n",
       "      <td>0.057651</td>\n",
       "      <td>3460.807168</td>\n",
       "      <td>3460.940288</td>\n",
       "      <td>3460.981248</td>\n",
       "      <td>3461.018112</td>\n",
       "      <td>3461.204480</td>\n",
       "      <td>6250.0</td>\n",
       "      <td>26823.996452</td>\n",
       "      <td>5605.901103</td>\n",
       "      <td>11421.089792</td>\n",
       "      <td>24557.649920</td>\n",
       "      <td>24557.649920</td>\n",
       "      <td>32935.772160</td>\n",
       "      <td>47735.373824</td>\n",
       "    </tr>\n",
       "    <tr>\n",
       "      <th>6</th>\n",
       "      <td>6250.0</td>\n",
       "      <td>3459.452864</td>\n",
       "      <td>0.054851</td>\n",
       "      <td>3459.261952</td>\n",
       "      <td>3459.415552</td>\n",
       "      <td>3459.454976</td>\n",
       "      <td>3459.488768</td>\n",
       "      <td>3459.695616</td>\n",
       "      <td>6250.0</td>\n",
       "      <td>19470.193042</td>\n",
       "      <td>3809.204956</td>\n",
       "      <td>9057.599488</td>\n",
       "      <td>18817.744896</td>\n",
       "      <td>18817.744896</td>\n",
       "      <td>18819.842048</td>\n",
       "      <td>41792.045056</td>\n",
       "    </tr>\n",
       "    <tr>\n",
       "      <th>7</th>\n",
       "      <td>6250.0</td>\n",
       "      <td>3460.512846</td>\n",
       "      <td>0.059082</td>\n",
       "      <td>3460.332544</td>\n",
       "      <td>3460.472832</td>\n",
       "      <td>3460.513792</td>\n",
       "      <td>3460.553216</td>\n",
       "      <td>3460.729344</td>\n",
       "      <td>6250.0</td>\n",
       "      <td>18999.499523</td>\n",
       "      <td>3052.943756</td>\n",
       "      <td>10129.244160</td>\n",
       "      <td>18475.909120</td>\n",
       "      <td>18478.006272</td>\n",
       "      <td>19107.151872</td>\n",
       "      <td>42651.877376</td>\n",
       "    </tr>\n",
       "  </tbody>\n",
       "</table>\n",
       "</div>"
      ],
      "text/plain": [
       "     gpu_memory_allocated                                                   \\\n",
       "                    count         mean       std          min          25%   \n",
       "rank                                                                         \n",
       "0                  6250.0  3463.409185  0.049756  3463.250432  3463.376384   \n",
       "1                  6250.0  3461.287709  0.052369  3461.125120  3461.252608   \n",
       "2                  6250.0  3467.233631  0.050608  3467.053056  3467.198976   \n",
       "3                  6250.0  3461.546225  0.056771  3461.369856  3461.508608   \n",
       "4                  6250.0  3460.518795  0.068569  3460.331520  3460.469760   \n",
       "5                  6250.0  3460.979830  0.057651  3460.807168  3460.940288   \n",
       "6                  6250.0  3459.452864  0.054851  3459.261952  3459.415552   \n",
       "7                  6250.0  3460.512846  0.059082  3460.332544  3460.472832   \n",
       "\n",
       "                                            gpu_memory_reserved                \\\n",
       "              50%          75%          max               count          mean   \n",
       "rank                                                                            \n",
       "0     3463.411200  3463.443968  3463.608832              6250.0  28323.307124   \n",
       "1     3461.289472  3461.324288  3461.472256              6250.0  42075.824283   \n",
       "2     3467.235328  3467.267584  3467.468800              6250.0  19067.472414   \n",
       "3     3461.547264  3461.584896  3461.746688              6250.0  33452.673487   \n",
       "4     3460.516864  3460.562944  3460.731392              6250.0  27158.954912   \n",
       "5     3460.981248  3461.018112  3461.204480              6250.0  26823.996452   \n",
       "6     3459.454976  3459.488768  3459.695616              6250.0  19470.193042   \n",
       "7     3460.513792  3460.553216  3460.729344              6250.0  18999.499523   \n",
       "\n",
       "                                                                            \\\n",
       "               std           min           25%           50%           75%   \n",
       "rank                                                                         \n",
       "0      7328.026674   8143.241216  25933.381632  25933.381632  37320.916992   \n",
       "1      8298.055298  11062.476800  44929.384448  44929.384448  44929.384448   \n",
       "2      4408.980091   8506.048512  18314.428416  18314.428416  18314.428416   \n",
       "3     15210.979028  10955.522048  18173.919232  39023.804416  48781.852672   \n",
       "4      2026.377367  12394.168320  27625.783296  27625.783296  27627.880448   \n",
       "5      5605.901103  11421.089792  24557.649920  24557.649920  32935.772160   \n",
       "6      3809.204956   9057.599488  18817.744896  18817.744896  18819.842048   \n",
       "7      3052.943756  10129.244160  18475.909120  18478.006272  19107.151872   \n",
       "\n",
       "                    \n",
       "               max  \n",
       "rank                \n",
       "0     37320.916992  \n",
       "1     44929.384448  \n",
       "2     45271.220224  \n",
       "3     48781.852672  \n",
       "4     41173.385216  \n",
       "5     47735.373824  \n",
       "6     41792.045056  \n",
       "7     42651.877376  "
      ]
     },
     "execution_count": 8,
     "metadata": {},
     "output_type": "execute_result"
    }
   ],
   "source": [
    "cuda_memory.summary_per_gpu(\"S0\")"
   ]
  },
  {
   "cell_type": "code",
   "execution_count": 9,
   "metadata": {},
   "outputs": [
    {
     "data": {
      "text/html": [
       "<div>\n",
       "<style scoped>\n",
       "    .dataframe tbody tr th:only-of-type {\n",
       "        vertical-align: middle;\n",
       "    }\n",
       "\n",
       "    .dataframe tbody tr th {\n",
       "        vertical-align: top;\n",
       "    }\n",
       "\n",
       "    .dataframe thead th {\n",
       "        text-align: right;\n",
       "    }\n",
       "</style>\n",
       "<table border=\"1\" class=\"dataframe\">\n",
       "  <thead>\n",
       "    <tr style=\"text-align: right;\">\n",
       "      <th></th>\n",
       "      <th>gpu_memory_allocated</th>\n",
       "      <th>gpu_memory_reserved</th>\n",
       "    </tr>\n",
       "  </thead>\n",
       "  <tbody>\n",
       "    <tr>\n",
       "      <th>count</th>\n",
       "      <td>50000.000000</td>\n",
       "      <td>50000.000000</td>\n",
       "    </tr>\n",
       "    <tr>\n",
       "      <th>mean</th>\n",
       "      <td>3461.867636</td>\n",
       "      <td>26921.490155</td>\n",
       "    </tr>\n",
       "    <tr>\n",
       "      <th>std</th>\n",
       "      <td>2.288843</td>\n",
       "      <td>10529.652005</td>\n",
       "    </tr>\n",
       "    <tr>\n",
       "      <th>min</th>\n",
       "      <td>3459.261952</td>\n",
       "      <td>8143.241216</td>\n",
       "    </tr>\n",
       "    <tr>\n",
       "      <th>25%</th>\n",
       "      <td>3460.515328</td>\n",
       "      <td>18314.428416</td>\n",
       "    </tr>\n",
       "    <tr>\n",
       "      <th>50%</th>\n",
       "      <td>3461.149184</td>\n",
       "      <td>24557.649920</td>\n",
       "    </tr>\n",
       "    <tr>\n",
       "      <th>75%</th>\n",
       "      <td>3462.122624</td>\n",
       "      <td>32935.772160</td>\n",
       "    </tr>\n",
       "    <tr>\n",
       "      <th>max</th>\n",
       "      <td>3467.468800</td>\n",
       "      <td>48781.852672</td>\n",
       "    </tr>\n",
       "  </tbody>\n",
       "</table>\n",
       "</div>"
      ],
      "text/plain": [
       "       gpu_memory_allocated  gpu_memory_reserved\n",
       "count          50000.000000         50000.000000\n",
       "mean            3461.867636         26921.490155\n",
       "std                2.288843         10529.652005\n",
       "min             3459.261952          8143.241216\n",
       "25%             3460.515328         18314.428416\n",
       "50%             3461.149184         24557.649920\n",
       "75%             3462.122624         32935.772160\n",
       "max             3467.468800         48781.852672"
      ]
     },
     "execution_count": 9,
     "metadata": {},
     "output_type": "execute_result"
    }
   ],
   "source": [
    "cuda_memory.summary_averaged(\"S0\")"
   ]
  },
  {
   "cell_type": "code",
   "execution_count": 10,
   "metadata": {},
   "outputs": [
    {
     "data": {
      "image/png": "[encoded data removed]",
      "text/plain": [
       "<Figure size 432x288 with 1 Axes>"
      ]
     },
     "metadata": {
      "needs_background": "light"
     },
     "output_type": "display_data"
    },
    {
     "data": {
      "image/png": "[encoded data removed]",
      "text/plain": [
       "<Figure size 432x288 with 1 Axes>"
      ]
     },
     "metadata": {
      "needs_background": "light"
     },
     "output_type": "display_data"
    },
    {
     "data": {
      "image/png": "[encoded data removed]",
      "text/plain": [
       "<Figure size 432x288 with 1 Axes>"
      ]
     },
     "metadata": {
      "needs_background": "light"
     },
     "output_type": "display_data"
    },
    {
     "data": {
      "image/png": "[encoded data removed]",
      "text/plain": [
       "<Figure size 432x288 with 1 Axes>"
      ]
     },
     "metadata": {
      "needs_background": "light"
     },
     "output_type": "display_data"
    },
    {
     "data": {
      "image/png": "[encoded data removed]",
      "text/plain": [
       "<Figure size 432x288 with 1 Axes>"
      ]
     },
     "metadata": {
      "needs_background": "light"
     },
     "output_type": "display_data"
    },
    {
     "data": {
      "image/png": "[encoded data removed]",
      "text/plain": [
       "<Figure size 432x288 with 1 Axes>"
      ]
     },
     "metadata": {
      "needs_background": "light"
     },
     "output_type": "display_data"
    },
    {
     "data": {
      "image/png": "[encoded data removed]",
      "text/plain": [
       "<Figure size 432x288 with 1 Axes>"
      ]
     },
     "metadata": {
      "needs_background": "light"
     },
     "output_type": "display_data"
    },
    {
     "data": {
      "image/png": "[encoded data removed]",
      "text/plain": [
       "<Figure size 432x288 with 1 Axes>"
      ]
     },
     "metadata": {
      "needs_background": "light"
     },
     "output_type": "display_data"
    }
   ],
   "source": [
    "for i, run in enumerate(runs):\n",
    "    cuda_memory.plot_cuda_memory(\n",
    "        run, \n",
    "        mode=\"averaged\", \n",
    "        title=formatted_run_names_1[i],\n",
    "        save=True, \n",
    "        save_dir=\"../outputs/dimenet/is2re/cuda_memory\"\n",
    "    )"
   ]
  },
  {
   "cell_type": "markdown",
   "metadata": {},
   "source": [
    "For a single run, the GPU CUDA torch memory consumption can be plotted versus time, individually on each GPU or averaged/summed across all involved GPUs."
   ]
  },
  {
   "cell_type": "code",
   "execution_count": 11,
   "metadata": {},
   "outputs": [
    {
     "data": {
      "image/png": "[encoded data removed]",
      "text/plain": [
       "<Figure size 432x288 with 1 Axes>"
      ]
     },
     "metadata": {
      "needs_background": "light"
     },
     "output_type": "display_data"
    }
   ],
   "source": [
    "cuda_memory.plot_cuda_memory(\"S0\", mode=\"averaged\")"
   ]
  },
  {
   "cell_type": "code",
   "execution_count": 12,
   "metadata": {},
   "outputs": [
    {
     "data": {
      "image/png": "[encoded data removed]",
      "text/plain": [
       "<Figure size 432x288 with 1 Axes>"
      ]
     },
     "metadata": {
      "needs_background": "light"
     },
     "output_type": "display_data"
    },
    {
     "data": {
      "image/png": "[encoded data removed]",
      "text/plain": [
       "<Figure size 432x288 with 1 Axes>"
      ]
     },
     "metadata": {
      "needs_background": "light"
     },
     "output_type": "display_data"
    },
    {
     "data": {
      "image/png": "[encoded data removed]",
      "text/plain": [
       "<Figure size 432x288 with 1 Axes>"
      ]
     },
     "metadata": {
      "needs_background": "light"
     },
     "output_type": "display_data"
    },
    {
     "data": {
      "image/png": "[encoded data removed]",
      "text/plain": [
       "<Figure size 432x288 with 1 Axes>"
      ]
     },
     "metadata": {
      "needs_background": "light"
     },
     "output_type": "display_data"
    },
    {
     "data": {
      "image/png": "[encoded data removed]",
      "text/plain": [
       "<Figure size 432x288 with 1 Axes>"
      ]
     },
     "metadata": {
      "needs_background": "light"
     },
     "output_type": "display_data"
    },
    {
     "data": {
      "image/png": "[encoded data removed]",
      "text/plain": [
       "<Figure size 432x288 with 1 Axes>"
      ]
     },
     "metadata": {
      "needs_background": "light"
     },
     "output_type": "display_data"
    },
    {
     "data": {
      "image/png": "[encoded data removed]",
      "text/plain": [
       "<Figure size 432x288 with 1 Axes>"
      ]
     },
     "metadata": {
      "needs_background": "light"
     },
     "output_type": "display_data"
    },
    {
     "data": {
      "image/png": "[encoded data removed]",
      "text/plain": [
       "<Figure size 432x288 with 1 Axes>"
      ]
     },
     "metadata": {
      "needs_background": "light"
     },
     "output_type": "display_data"
    }
   ],
   "source": [
    "cuda_memory.plot_cuda_memory(\"S1\", mode=\"individual\")"
   ]
  },
  {
   "cell_type": "markdown",
   "metadata": {},
   "source": [
    "## Comparison of memory and runtimes for different runs\n",
    "\n",
    "For different runs, the allocated and reserved GPU CUDA memory as well as the runtimes can be compared."
   ]
  },
  {
   "cell_type": "code",
   "execution_count": 13,
   "metadata": {},
   "outputs": [
    {
     "data": {
      "text/html": [
       "<div>\n",
       "<style scoped>\n",
       "    .dataframe tbody tr th:only-of-type {\n",
       "        vertical-align: middle;\n",
       "    }\n",
       "\n",
       "    .dataframe tbody tr th {\n",
       "        vertical-align: top;\n",
       "    }\n",
       "\n",
       "    .dataframe thead th {\n",
       "        text-align: right;\n",
       "    }\n",
       "</style>\n",
       "<table border=\"1\" class=\"dataframe\">\n",
       "  <thead>\n",
       "    <tr style=\"text-align: right;\">\n",
       "      <th></th>\n",
       "      <th>S0</th>\n",
       "      <th>S0+fp16</th>\n",
       "      <th>S1</th>\n",
       "      <th>S1+OC</th>\n",
       "      <th>S2+OC</th>\n",
       "      <th>S2+OO+OC</th>\n",
       "      <th>S3+OC</th>\n",
       "      <th>S3+PO+OO+OC</th>\n",
       "    </tr>\n",
       "  </thead>\n",
       "  <tbody>\n",
       "    <tr>\n",
       "      <th>epoch_time</th>\n",
       "      <td>01:11:14</td>\n",
       "      <td>00:42:37</td>\n",
       "      <td>01:42:24</td>\n",
       "      <td>01:45:05</td>\n",
       "      <td>01:46:43</td>\n",
       "      <td>02:12:14</td>\n",
       "      <td>01:01:56</td>\n",
       "      <td>01:31:00</td>\n",
       "    </tr>\n",
       "    <tr>\n",
       "      <th>dataloading_time</th>\n",
       "      <td>00:00:10</td>\n",
       "      <td>00:00:12</td>\n",
       "      <td>00:00:50</td>\n",
       "      <td>00:00:52</td>\n",
       "      <td>00:00:47</td>\n",
       "      <td>00:00:43</td>\n",
       "      <td>00:00:06</td>\n",
       "      <td>00:00:08</td>\n",
       "    </tr>\n",
       "    <tr>\n",
       "      <th>forward_time</th>\n",
       "      <td>00:07:47</td>\n",
       "      <td>00:05:32</td>\n",
       "      <td>00:06:42</td>\n",
       "      <td>00:06:47</td>\n",
       "      <td>00:06:43</td>\n",
       "      <td>00:06:46</td>\n",
       "      <td>00:17:29</td>\n",
       "      <td>00:17:31</td>\n",
       "    </tr>\n",
       "    <tr>\n",
       "      <th>backward_time</th>\n",
       "      <td>00:58:40</td>\n",
       "      <td>00:32:46</td>\n",
       "      <td>00:30:28</td>\n",
       "      <td>00:30:38</td>\n",
       "      <td>00:34:37</td>\n",
       "      <td>00:58:13</td>\n",
       "      <td>00:42:07</td>\n",
       "      <td>01:11:02</td>\n",
       "    </tr>\n",
       "    <tr>\n",
       "      <th>rest</th>\n",
       "      <td>00:04:34</td>\n",
       "      <td>00:04:05</td>\n",
       "      <td>01:04:22</td>\n",
       "      <td>01:06:46</td>\n",
       "      <td>01:04:35</td>\n",
       "      <td>01:06:31</td>\n",
       "      <td>00:02:12</td>\n",
       "      <td>00:02:18</td>\n",
       "    </tr>\n",
       "  </tbody>\n",
       "</table>\n",
       "</div>"
      ],
      "text/plain": [
       "                        S0   S0+fp16        S1     S1+OC     S2+OC  S2+OO+OC  \\\n",
       "epoch_time        01:11:14  00:42:37  01:42:24  01:45:05  01:46:43  02:12:14   \n",
       "dataloading_time  00:00:10  00:00:12  00:00:50  00:00:52  00:00:47  00:00:43   \n",
       "forward_time      00:07:47  00:05:32  00:06:42  00:06:47  00:06:43  00:06:46   \n",
       "backward_time     00:58:40  00:32:46  00:30:28  00:30:38  00:34:37  00:58:13   \n",
       "rest              00:04:34  00:04:05  01:04:22  01:06:46  01:04:35  01:06:31   \n",
       "\n",
       "                     S3+OC S3+PO+OO+OC  \n",
       "epoch_time        01:01:56    01:31:00  \n",
       "dataloading_time  00:00:06    00:00:08  \n",
       "forward_time      00:17:29    00:17:31  \n",
       "backward_time     00:42:07    01:11:02  \n",
       "rest              00:02:12    00:02:18  "
      ]
     },
     "execution_count": 13,
     "metadata": {},
     "output_type": "execute_result"
    }
   ],
   "source": [
    "runtimes.compare(save=True, save_dir=\"../outputs/dimenet/is2re/runtimes\")"
   ]
  },
  {
   "cell_type": "code",
   "execution_count": 14,
   "metadata": {},
   "outputs": [
    {
     "data": {
      "image/png": "[encoded data removed]",
      "text/plain": [
       "<Figure size 432x288 with 1 Axes>"
      ]
     },
     "metadata": {
      "needs_background": "light"
     },
     "output_type": "display_data"
    }
   ],
   "source": [
    "runtimes.compare_plot(\n",
    "    yticks=formatted_run_names_2, \n",
    "    figsize=(6, 4), \n",
    "    title=r\"\\textbf{Runtimes}\", \n",
    "    save=True, \n",
    "    save_dir=\"../outputs/dimenet/is2re/runtimes\"\n",
    ")"
   ]
  },
  {
   "cell_type": "code",
   "execution_count": 15,
   "metadata": {},
   "outputs": [
    {
     "data": {
      "text/html": [
       "<div>\n",
       "<style scoped>\n",
       "    .dataframe tbody tr th:only-of-type {\n",
       "        vertical-align: middle;\n",
       "    }\n",
       "\n",
       "    .dataframe tbody tr th {\n",
       "        vertical-align: top;\n",
       "    }\n",
       "\n",
       "    .dataframe thead th {\n",
       "        text-align: right;\n",
       "    }\n",
       "</style>\n",
       "<table border=\"1\" class=\"dataframe\">\n",
       "  <thead>\n",
       "    <tr style=\"text-align: right;\">\n",
       "      <th></th>\n",
       "      <th>S0</th>\n",
       "      <th>S0+fp16</th>\n",
       "      <th>S1</th>\n",
       "      <th>S1+OC</th>\n",
       "      <th>S2+OC</th>\n",
       "      <th>S2+OO+OC</th>\n",
       "      <th>S3+OC</th>\n",
       "      <th>S3+PO+OO+OC</th>\n",
       "    </tr>\n",
       "  </thead>\n",
       "  <tbody>\n",
       "    <tr>\n",
       "      <th>gpu_memory_allocated</th>\n",
       "      <td>3.46</td>\n",
       "      <td>3.47</td>\n",
       "      <td>0.76</td>\n",
       "      <td>0.76</td>\n",
       "      <td>0.76</td>\n",
       "      <td>0.46</td>\n",
       "      <td>1.44</td>\n",
       "      <td>1.00</td>\n",
       "    </tr>\n",
       "    <tr>\n",
       "      <th>gpu_memory_reserved</th>\n",
       "      <td>26.92</td>\n",
       "      <td>26.25</td>\n",
       "      <td>21.08</td>\n",
       "      <td>21.08</td>\n",
       "      <td>16.07</td>\n",
       "      <td>16.20</td>\n",
       "      <td>26.68</td>\n",
       "      <td>26.82</td>\n",
       "    </tr>\n",
       "  </tbody>\n",
       "</table>\n",
       "</div>"
      ],
      "text/plain": [
       "                         S0  S0+fp16     S1  S1+OC  S2+OC  S2+OO+OC  S3+OC  \\\n",
       "gpu_memory_allocated   3.46     3.47   0.76   0.76   0.76      0.46   1.44   \n",
       "gpu_memory_reserved   26.92    26.25  21.08  21.08  16.07     16.20  26.68   \n",
       "\n",
       "                      S3+PO+OO+OC  \n",
       "gpu_memory_allocated         1.00  \n",
       "gpu_memory_reserved         26.82  "
      ]
     },
     "execution_count": 15,
     "metadata": {},
     "output_type": "execute_result"
    }
   ],
   "source": [
    "cuda_memory.compare(save=True, save_dir=\"../outputs/dimenet/is2re/cuda_memory\")"
   ]
  },
  {
   "cell_type": "code",
   "execution_count": 16,
   "metadata": {},
   "outputs": [
    {
     "data": {
      "image/png": "[encoded data removed]",
      "text/plain": [
       "<Figure size 432x288 with 1 Axes>"
      ]
     },
     "metadata": {
      "needs_background": "light"
     },
     "output_type": "display_data"
    }
   ],
   "source": [
    "cuda_memory.compare_plot(\n",
    "    xticks=formatted_run_names_2, \n",
    "    figsize=(6, 4), \n",
    "    title=r\"\\textbf{GPU memory consumption}\", \n",
    "    save=True, \n",
    "    save_dir=\"../outputs/dimenet/is2re/cuda_memory\"\n",
    ")"
   ]
  }
 ],
 "metadata": {
  "kernelspec": {
   "display_name": "Python 3.9.12 ('tum-di-lab')",
   "language": "python",
   "name": "python3"
  },
  "language_info": {
   "codemirror_mode": {
    "name": "ipython",
    "version": 3
   },
   "file_extension": ".py",
   "mimetype": "text/x-python",
   "name": "python",
   "nbconvert_exporter": "python",
   "pygments_lexer": "ipython3",
   "version": "3.9.12"
  },
  "orig_nbformat": 4,
  "vscode": {
   "interpreter": {
    "hash": "119c6c5c0d22922f1de4a43916b405efff0fc16ad72dd0247274e82a6c60783f"
   }
  }
 },
 "nbformat": 4,
 "nbformat_minor": 2
}
