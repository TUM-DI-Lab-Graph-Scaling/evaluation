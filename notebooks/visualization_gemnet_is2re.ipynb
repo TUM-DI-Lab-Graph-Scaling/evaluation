{
 "cells": [
  {
   "cell_type": "markdown",
   "metadata": {},
   "source": [
    "# Evaluation of GPU memory consumption for CUDA Tensors"
   ]
  },
  {
   "cell_type": "code",
   "execution_count": 1,
   "metadata": {},
   "outputs": [],
   "source": [
    "import sys\n",
    "sys.path.append(\"/Users/danielherbst/Desktop/evaluation\")"
   ]
  },
  {
   "cell_type": "code",
   "execution_count": 2,
   "metadata": {},
   "outputs": [],
   "source": [
    "from evaluation_routines.data_loading import OCPDataFrameLoader\n",
    "from evaluation_routines.cuda_memory import CUDAMemory\n",
    "from evaluation_routines.runtimes import Runtimes"
   ]
  },
  {
   "cell_type": "markdown",
   "metadata": {},
   "source": [
    "## Data loading\n",
    "\n",
    "At first, we specify the paths necessary for evaluation. This includes:\n",
    "- the ocp metrics directory stored in `ocp_metrics_path`\n",
    "- the directory `directory` for the specific model/series of runs we would like to consider\n",
    "- the runs `runs` as a `dict` with shorter name as key and the respective csv filenames without \"_resources/...\" extensions"
   ]
  },
  {
   "cell_type": "code",
   "execution_count": 3,
   "metadata": {},
   "outputs": [],
   "source": [
    "ocp_metrics_path = \"/Users/danielherbst/Desktop/ocp-metrics\"\n",
    "directory = \"is2re/gemnet_xl/batch_size_2\"\n",
    "\n",
    "runs = {\n",
    "    \"S0\":           \"1658917929_stage0_8gpus\",\n",
    "    \"S0+fp16\":      \"1658924014_stage0_8gpus\",\n",
    "    \"S1\":           \"1658936306_stage1_8gpus\",\n",
    "    \"S1+OC\":        \"1658928043_stage1_8gpus\",\n",
    "    \"S2+OC\":        \"1658931854_stage2_8gpus\",\n",
    "    \"S2+OO+OC\":     \"1658940077_stage2_8gpus_offloadOptimizer[cpu]\",\n",
    "    \"S3+OC\":        \"1658945759_stage3_8gpus\",\n",
    "    \"S3+PO+OO+OC\":  \"1658951594_stage3_8gpus_offloadOptimizer[cpu]_offloadParam[cpu]\"\n",
    "}\n",
    "formatted_run_names_1 = [\n",
    "    r\"\\textbf{S0}\",\n",
    "    r\"\\textbf{S0}\" + \"+fp16\",\n",
    "    r\"\\textbf{S1}\",\n",
    "    r\"\\textbf{S1}\" + \"+OC\",\n",
    "    r\"\\textbf{S2}\" + \"+OC\",\n",
    "    r\"\\textbf{S2}\" + \"+OO+OC\",\n",
    "    r\"\\textbf{S3}\" + \"+OC\",\n",
    "    r\"\\textbf{S3}\" + \"+PO+OO+OC\"\n",
    "]\n",
    "formatted_run_names_2 = [\n",
    "    r\"\\textbf{S0}\",\n",
    "    r\"\\textbf{S0}\" + \"+fp16\",\n",
    "    r\"\\textbf{S1}\",\n",
    "    r\"\\textbf{S1}\" + \"+OC\",\n",
    "    r\"\\textbf{S2}\" + \"+OC\",\n",
    "    r\"\\textbf{S2}\" + \"+OO\\n+OC\",\n",
    "    r\"\\textbf{S3}\" + \"+OC\",\n",
    "    r\"\\textbf{S3}\" + \"+PO\\n+OO+OC\"\n",
    "]\n",
    "\n",
    "data_loader = OCPDataFrameLoader(ocp_metrics_path, directory, runs)\n",
    "cuda_memory, runtimes = CUDAMemory(data_loader), Runtimes(data_loader)"
   ]
  },
  {
   "cell_type": "code",
   "execution_count": 4,
   "metadata": {},
   "outputs": [],
   "source": [
    "resources_paths, torch_cuda_paths, runtimes_paths = data_loader.get_paths()"
   ]
  },
  {
   "cell_type": "markdown",
   "metadata": {},
   "source": [
    "## Inspection of a single run\n",
    "\n",
    "At first, we inspect single runs with a set DeepSpeed configuration. We look at statistical summaries of the allocated and reserved memory as well as runtimes."
   ]
  },
  {
   "cell_type": "code",
   "execution_count": 5,
   "metadata": {},
   "outputs": [
    {
     "data": {
      "text/html": [
       "<div>\n",
       "<style scoped>\n",
       "    .dataframe tbody tr th:only-of-type {\n",
       "        vertical-align: middle;\n",
       "    }\n",
       "\n",
       "    .dataframe tbody tr th {\n",
       "        vertical-align: top;\n",
       "    }\n",
       "\n",
       "    .dataframe thead th {\n",
       "        text-align: right;\n",
       "    }\n",
       "</style>\n",
       "<table border=\"1\" class=\"dataframe\">\n",
       "  <thead>\n",
       "    <tr style=\"text-align: right;\">\n",
       "      <th></th>\n",
       "      <th>datetime</th>\n",
       "      <th>epoch</th>\n",
       "      <th>rank</th>\n",
       "      <th>gpu_memory_allocated</th>\n",
       "      <th>gpu_memory_reserved</th>\n",
       "    </tr>\n",
       "  </thead>\n",
       "  <tbody>\n",
       "    <tr>\n",
       "      <th>0</th>\n",
       "      <td>2022-07-27 10:32:13.792599</td>\n",
       "      <td>0</td>\n",
       "      <td>3</td>\n",
       "      <td>2879.627776</td>\n",
       "      <td>16674.455552</td>\n",
       "    </tr>\n",
       "    <tr>\n",
       "      <th>1</th>\n",
       "      <td>2022-07-27 10:32:13.792682</td>\n",
       "      <td>0</td>\n",
       "      <td>4</td>\n",
       "      <td>2877.000192</td>\n",
       "      <td>17033.068544</td>\n",
       "    </tr>\n",
       "    <tr>\n",
       "      <th>2</th>\n",
       "      <td>2022-07-27 10:32:13.792912</td>\n",
       "      <td>0</td>\n",
       "      <td>5</td>\n",
       "      <td>2884.348416</td>\n",
       "      <td>15766.388736</td>\n",
       "    </tr>\n",
       "    <tr>\n",
       "      <th>3</th>\n",
       "      <td>2022-07-27 10:32:13.792906</td>\n",
       "      <td>0</td>\n",
       "      <td>6</td>\n",
       "      <td>2872.742400</td>\n",
       "      <td>15720.251392</td>\n",
       "    </tr>\n",
       "    <tr>\n",
       "      <th>4</th>\n",
       "      <td>2022-07-27 10:32:13.792815</td>\n",
       "      <td>0</td>\n",
       "      <td>2</td>\n",
       "      <td>2888.310784</td>\n",
       "      <td>15529.410560</td>\n",
       "    </tr>\n",
       "    <tr>\n",
       "      <th>...</th>\n",
       "      <td>...</td>\n",
       "      <td>...</td>\n",
       "      <td>...</td>\n",
       "      <td>...</td>\n",
       "      <td>...</td>\n",
       "    </tr>\n",
       "    <tr>\n",
       "      <th>49995</th>\n",
       "      <td>2022-07-27 12:12:41.448550</td>\n",
       "      <td>0</td>\n",
       "      <td>5</td>\n",
       "      <td>2884.318208</td>\n",
       "      <td>41104.179200</td>\n",
       "    </tr>\n",
       "    <tr>\n",
       "      <th>49996</th>\n",
       "      <td>2022-07-27 12:12:41.448527</td>\n",
       "      <td>0</td>\n",
       "      <td>1</td>\n",
       "      <td>2889.186816</td>\n",
       "      <td>39980.105728</td>\n",
       "    </tr>\n",
       "    <tr>\n",
       "      <th>49997</th>\n",
       "      <td>2022-07-27 12:12:41.448579</td>\n",
       "      <td>0</td>\n",
       "      <td>0</td>\n",
       "      <td>2886.991360</td>\n",
       "      <td>31679.578112</td>\n",
       "    </tr>\n",
       "    <tr>\n",
       "      <th>49998</th>\n",
       "      <td>2022-07-27 12:12:41.448634</td>\n",
       "      <td>0</td>\n",
       "      <td>4</td>\n",
       "      <td>2876.891136</td>\n",
       "      <td>45634.027520</td>\n",
       "    </tr>\n",
       "    <tr>\n",
       "      <th>49999</th>\n",
       "      <td>2022-07-27 12:12:41.448635</td>\n",
       "      <td>0</td>\n",
       "      <td>3</td>\n",
       "      <td>2879.519744</td>\n",
       "      <td>43505.418240</td>\n",
       "    </tr>\n",
       "  </tbody>\n",
       "</table>\n",
       "<p>50000 rows × 5 columns</p>\n",
       "</div>"
      ],
      "text/plain": [
       "                         datetime  epoch  rank  gpu_memory_allocated  \\\n",
       "0      2022-07-27 10:32:13.792599      0     3           2879.627776   \n",
       "1      2022-07-27 10:32:13.792682      0     4           2877.000192   \n",
       "2      2022-07-27 10:32:13.792912      0     5           2884.348416   \n",
       "3      2022-07-27 10:32:13.792906      0     6           2872.742400   \n",
       "4      2022-07-27 10:32:13.792815      0     2           2888.310784   \n",
       "...                           ...    ...   ...                   ...   \n",
       "49995  2022-07-27 12:12:41.448550      0     5           2884.318208   \n",
       "49996  2022-07-27 12:12:41.448527      0     1           2889.186816   \n",
       "49997  2022-07-27 12:12:41.448579      0     0           2886.991360   \n",
       "49998  2022-07-27 12:12:41.448634      0     4           2876.891136   \n",
       "49999  2022-07-27 12:12:41.448635      0     3           2879.519744   \n",
       "\n",
       "       gpu_memory_reserved  \n",
       "0             16674.455552  \n",
       "1             17033.068544  \n",
       "2             15766.388736  \n",
       "3             15720.251392  \n",
       "4             15529.410560  \n",
       "...                    ...  \n",
       "49995         41104.179200  \n",
       "49996         39980.105728  \n",
       "49997         31679.578112  \n",
       "49998         45634.027520  \n",
       "49999         43505.418240  \n",
       "\n",
       "[50000 rows x 5 columns]"
      ]
     },
     "execution_count": 5,
     "metadata": {},
     "output_type": "execute_result"
    }
   ],
   "source": [
    "cuda_df = data_loader.get_metrics_csv(torch_cuda_paths[\"S0\"], csv_type=\"torch_cuda\")\n",
    "cuda_df"
   ]
  },
  {
   "cell_type": "code",
   "execution_count": 6,
   "metadata": {},
   "outputs": [
    {
     "data": {
      "text/html": [
       "<div>\n",
       "<style scoped>\n",
       "    .dataframe tbody tr th:only-of-type {\n",
       "        vertical-align: middle;\n",
       "    }\n",
       "\n",
       "    .dataframe tbody tr th {\n",
       "        vertical-align: top;\n",
       "    }\n",
       "\n",
       "    .dataframe thead th {\n",
       "        text-align: right;\n",
       "    }\n",
       "</style>\n",
       "<table border=\"1\" class=\"dataframe\">\n",
       "  <thead>\n",
       "    <tr style=\"text-align: right;\">\n",
       "      <th></th>\n",
       "      <th>rank</th>\n",
       "      <th>epoch</th>\n",
       "      <th>epoch_time</th>\n",
       "      <th>dataloading_time</th>\n",
       "      <th>forward_time</th>\n",
       "      <th>backward_time</th>\n",
       "      <th>rest</th>\n",
       "    </tr>\n",
       "  </thead>\n",
       "  <tbody>\n",
       "    <tr>\n",
       "      <th>0</th>\n",
       "      <td>7</td>\n",
       "      <td>0</td>\n",
       "      <td>6032.443668</td>\n",
       "      <td>9.344392</td>\n",
       "      <td>1578.132969</td>\n",
       "      <td>4258.682132</td>\n",
       "      <td>186.284175</td>\n",
       "    </tr>\n",
       "    <tr>\n",
       "      <th>1</th>\n",
       "      <td>6</td>\n",
       "      <td>0</td>\n",
       "      <td>6032.445155</td>\n",
       "      <td>9.183373</td>\n",
       "      <td>1479.306013</td>\n",
       "      <td>4258.938982</td>\n",
       "      <td>285.016787</td>\n",
       "    </tr>\n",
       "    <tr>\n",
       "      <th>2</th>\n",
       "      <td>0</td>\n",
       "      <td>0</td>\n",
       "      <td>6032.446597</td>\n",
       "      <td>7.652847</td>\n",
       "      <td>1338.754818</td>\n",
       "      <td>4259.195761</td>\n",
       "      <td>426.843171</td>\n",
       "    </tr>\n",
       "    <tr>\n",
       "      <th>3</th>\n",
       "      <td>2</td>\n",
       "      <td>0</td>\n",
       "      <td>6032.446688</td>\n",
       "      <td>10.148727</td>\n",
       "      <td>1396.206465</td>\n",
       "      <td>4258.506497</td>\n",
       "      <td>367.584999</td>\n",
       "    </tr>\n",
       "    <tr>\n",
       "      <th>4</th>\n",
       "      <td>5</td>\n",
       "      <td>0</td>\n",
       "      <td>6032.452734</td>\n",
       "      <td>9.703430</td>\n",
       "      <td>1475.788812</td>\n",
       "      <td>4258.606644</td>\n",
       "      <td>288.353848</td>\n",
       "    </tr>\n",
       "    <tr>\n",
       "      <th>5</th>\n",
       "      <td>4</td>\n",
       "      <td>0</td>\n",
       "      <td>6032.454291</td>\n",
       "      <td>10.129335</td>\n",
       "      <td>1533.609191</td>\n",
       "      <td>4257.715843</td>\n",
       "      <td>230.999922</td>\n",
       "    </tr>\n",
       "    <tr>\n",
       "      <th>6</th>\n",
       "      <td>1</td>\n",
       "      <td>0</td>\n",
       "      <td>6032.454442</td>\n",
       "      <td>9.599858</td>\n",
       "      <td>1378.196235</td>\n",
       "      <td>4258.844054</td>\n",
       "      <td>385.814296</td>\n",
       "    </tr>\n",
       "    <tr>\n",
       "      <th>7</th>\n",
       "      <td>3</td>\n",
       "      <td>0</td>\n",
       "      <td>6032.456173</td>\n",
       "      <td>10.334522</td>\n",
       "      <td>1476.425199</td>\n",
       "      <td>4257.381616</td>\n",
       "      <td>288.314837</td>\n",
       "    </tr>\n",
       "  </tbody>\n",
       "</table>\n",
       "</div>"
      ],
      "text/plain": [
       "   rank  epoch   epoch_time  dataloading_time  forward_time  backward_time  \\\n",
       "0     7      0  6032.443668          9.344392   1578.132969    4258.682132   \n",
       "1     6      0  6032.445155          9.183373   1479.306013    4258.938982   \n",
       "2     0      0  6032.446597          7.652847   1338.754818    4259.195761   \n",
       "3     2      0  6032.446688         10.148727   1396.206465    4258.506497   \n",
       "4     5      0  6032.452734          9.703430   1475.788812    4258.606644   \n",
       "5     4      0  6032.454291         10.129335   1533.609191    4257.715843   \n",
       "6     1      0  6032.454442          9.599858   1378.196235    4258.844054   \n",
       "7     3      0  6032.456173         10.334522   1476.425199    4257.381616   \n",
       "\n",
       "         rest  \n",
       "0  186.284175  \n",
       "1  285.016787  \n",
       "2  426.843171  \n",
       "3  367.584999  \n",
       "4  288.353848  \n",
       "5  230.999922  \n",
       "6  385.814296  \n",
       "7  288.314837  "
      ]
     },
     "execution_count": 6,
     "metadata": {},
     "output_type": "execute_result"
    }
   ],
   "source": [
    "runtimes_df = data_loader.get_metrics_csv(runtimes_paths[\"S0\"], csv_type=\"runtimes\")\n",
    "runtimes_df"
   ]
  },
  {
   "cell_type": "code",
   "execution_count": 7,
   "metadata": {},
   "outputs": [
    {
     "data": {
      "text/plain": [
       "epoch_time          01:40:32\n",
       "dataloading_time    00:00:09\n",
       "forward_time        00:24:17\n",
       "backward_time       01:10:58\n",
       "rest                00:05:07\n",
       "dtype: object"
      ]
     },
     "execution_count": 7,
     "metadata": {},
     "output_type": "execute_result"
    }
   ],
   "source": [
    "runtimes.means(\"S0\")"
   ]
  },
  {
   "cell_type": "code",
   "execution_count": 8,
   "metadata": {},
   "outputs": [
    {
     "data": {
      "text/html": [
       "<div>\n",
       "<style scoped>\n",
       "    .dataframe tbody tr th:only-of-type {\n",
       "        vertical-align: middle;\n",
       "    }\n",
       "\n",
       "    .dataframe tbody tr th {\n",
       "        vertical-align: top;\n",
       "    }\n",
       "\n",
       "    .dataframe thead tr th {\n",
       "        text-align: left;\n",
       "    }\n",
       "\n",
       "    .dataframe thead tr:last-of-type th {\n",
       "        text-align: right;\n",
       "    }\n",
       "</style>\n",
       "<table border=\"1\" class=\"dataframe\">\n",
       "  <thead>\n",
       "    <tr>\n",
       "      <th></th>\n",
       "      <th colspan=\"8\" halign=\"left\">gpu_memory_allocated</th>\n",
       "      <th colspan=\"8\" halign=\"left\">gpu_memory_reserved</th>\n",
       "    </tr>\n",
       "    <tr>\n",
       "      <th></th>\n",
       "      <th>count</th>\n",
       "      <th>mean</th>\n",
       "      <th>std</th>\n",
       "      <th>min</th>\n",
       "      <th>25%</th>\n",
       "      <th>50%</th>\n",
       "      <th>75%</th>\n",
       "      <th>max</th>\n",
       "      <th>count</th>\n",
       "      <th>mean</th>\n",
       "      <th>std</th>\n",
       "      <th>min</th>\n",
       "      <th>25%</th>\n",
       "      <th>50%</th>\n",
       "      <th>75%</th>\n",
       "      <th>max</th>\n",
       "    </tr>\n",
       "    <tr>\n",
       "      <th>rank</th>\n",
       "      <th></th>\n",
       "      <th></th>\n",
       "      <th></th>\n",
       "      <th></th>\n",
       "      <th></th>\n",
       "      <th></th>\n",
       "      <th></th>\n",
       "      <th></th>\n",
       "      <th></th>\n",
       "      <th></th>\n",
       "      <th></th>\n",
       "      <th></th>\n",
       "      <th></th>\n",
       "      <th></th>\n",
       "      <th></th>\n",
       "      <th></th>\n",
       "    </tr>\n",
       "  </thead>\n",
       "  <tbody>\n",
       "    <tr>\n",
       "      <th>0</th>\n",
       "      <td>6250.0</td>\n",
       "      <td>2886.994465</td>\n",
       "      <td>0.049756</td>\n",
       "      <td>2886.835712</td>\n",
       "      <td>2886.961664</td>\n",
       "      <td>2886.996480</td>\n",
       "      <td>2887.029248</td>\n",
       "      <td>2887.194112</td>\n",
       "      <td>6250.0</td>\n",
       "      <td>31483.029000</td>\n",
       "      <td>1201.990491</td>\n",
       "      <td>15305.015296</td>\n",
       "      <td>31679.578112</td>\n",
       "      <td>31679.578112</td>\n",
       "      <td>31679.578112</td>\n",
       "      <td>31679.578112</td>\n",
       "    </tr>\n",
       "    <tr>\n",
       "      <th>1</th>\n",
       "      <td>6250.0</td>\n",
       "      <td>2889.126173</td>\n",
       "      <td>0.052369</td>\n",
       "      <td>2888.963584</td>\n",
       "      <td>2889.091072</td>\n",
       "      <td>2889.127936</td>\n",
       "      <td>2889.162752</td>\n",
       "      <td>2889.310720</td>\n",
       "      <td>6250.0</td>\n",
       "      <td>39774.834141</td>\n",
       "      <td>1442.504094</td>\n",
       "      <td>15109.980160</td>\n",
       "      <td>39980.105728</td>\n",
       "      <td>39980.105728</td>\n",
       "      <td>39980.105728</td>\n",
       "      <td>39980.105728</td>\n",
       "    </tr>\n",
       "    <tr>\n",
       "      <th>2</th>\n",
       "      <td>6250.0</td>\n",
       "      <td>2888.328543</td>\n",
       "      <td>0.050608</td>\n",
       "      <td>2888.147968</td>\n",
       "      <td>2888.293888</td>\n",
       "      <td>2888.330240</td>\n",
       "      <td>2888.362496</td>\n",
       "      <td>2888.563712</td>\n",
       "      <td>6250.0</td>\n",
       "      <td>32377.277765</td>\n",
       "      <td>947.009138</td>\n",
       "      <td>15529.410560</td>\n",
       "      <td>32516.341760</td>\n",
       "      <td>32516.341760</td>\n",
       "      <td>32516.341760</td>\n",
       "      <td>32516.341760</td>\n",
       "    </tr>\n",
       "    <tr>\n",
       "      <th>3</th>\n",
       "      <td>6250.0</td>\n",
       "      <td>2879.581425</td>\n",
       "      <td>0.056771</td>\n",
       "      <td>2879.405056</td>\n",
       "      <td>2879.543808</td>\n",
       "      <td>2879.582464</td>\n",
       "      <td>2879.620096</td>\n",
       "      <td>2879.781888</td>\n",
       "      <td>6250.0</td>\n",
       "      <td>43268.037075</td>\n",
       "      <td>1703.474096</td>\n",
       "      <td>16674.455552</td>\n",
       "      <td>43505.418240</td>\n",
       "      <td>43505.418240</td>\n",
       "      <td>43505.418240</td>\n",
       "      <td>43505.418240</td>\n",
       "    </tr>\n",
       "    <tr>\n",
       "      <th>4</th>\n",
       "      <td>6250.0</td>\n",
       "      <td>2876.923275</td>\n",
       "      <td>0.068569</td>\n",
       "      <td>2876.736000</td>\n",
       "      <td>2876.874240</td>\n",
       "      <td>2876.921344</td>\n",
       "      <td>2876.967424</td>\n",
       "      <td>2877.135872</td>\n",
       "      <td>6250.0</td>\n",
       "      <td>42274.284655</td>\n",
       "      <td>2743.907272</td>\n",
       "      <td>17033.068544</td>\n",
       "      <td>42033.217536</td>\n",
       "      <td>42033.217536</td>\n",
       "      <td>45634.027520</td>\n",
       "      <td>45634.027520</td>\n",
       "    </tr>\n",
       "    <tr>\n",
       "      <th>5</th>\n",
       "      <td>6250.0</td>\n",
       "      <td>2884.291702</td>\n",
       "      <td>0.057651</td>\n",
       "      <td>2884.119040</td>\n",
       "      <td>2884.252160</td>\n",
       "      <td>2884.293120</td>\n",
       "      <td>2884.329984</td>\n",
       "      <td>2884.516352</td>\n",
       "      <td>6250.0</td>\n",
       "      <td>34951.898931</td>\n",
       "      <td>2538.499446</td>\n",
       "      <td>15766.388736</td>\n",
       "      <td>33988.542464</td>\n",
       "      <td>33988.542464</td>\n",
       "      <td>37450.940416</td>\n",
       "      <td>41104.179200</td>\n",
       "    </tr>\n",
       "    <tr>\n",
       "      <th>6</th>\n",
       "      <td>6250.0</td>\n",
       "      <td>2872.759744</td>\n",
       "      <td>0.054851</td>\n",
       "      <td>2872.568832</td>\n",
       "      <td>2872.722432</td>\n",
       "      <td>2872.761856</td>\n",
       "      <td>2872.795648</td>\n",
       "      <td>2873.002496</td>\n",
       "      <td>6250.0</td>\n",
       "      <td>30925.871750</td>\n",
       "      <td>730.808225</td>\n",
       "      <td>15720.251392</td>\n",
       "      <td>31046.238208</td>\n",
       "      <td>31046.238208</td>\n",
       "      <td>31046.238208</td>\n",
       "      <td>31046.238208</td>\n",
       "    </tr>\n",
       "    <tr>\n",
       "      <th>7</th>\n",
       "      <td>6250.0</td>\n",
       "      <td>2888.773198</td>\n",
       "      <td>0.059082</td>\n",
       "      <td>2888.592896</td>\n",
       "      <td>2888.733184</td>\n",
       "      <td>2888.774144</td>\n",
       "      <td>2888.813568</td>\n",
       "      <td>2888.989696</td>\n",
       "      <td>6250.0</td>\n",
       "      <td>35132.696250</td>\n",
       "      <td>962.014565</td>\n",
       "      <td>18530.435072</td>\n",
       "      <td>35284.582400</td>\n",
       "      <td>35284.582400</td>\n",
       "      <td>35284.582400</td>\n",
       "      <td>35284.582400</td>\n",
       "    </tr>\n",
       "  </tbody>\n",
       "</table>\n",
       "</div>"
      ],
      "text/plain": [
       "     gpu_memory_allocated                                                   \\\n",
       "                    count         mean       std          min          25%   \n",
       "rank                                                                         \n",
       "0                  6250.0  2886.994465  0.049756  2886.835712  2886.961664   \n",
       "1                  6250.0  2889.126173  0.052369  2888.963584  2889.091072   \n",
       "2                  6250.0  2888.328543  0.050608  2888.147968  2888.293888   \n",
       "3                  6250.0  2879.581425  0.056771  2879.405056  2879.543808   \n",
       "4                  6250.0  2876.923275  0.068569  2876.736000  2876.874240   \n",
       "5                  6250.0  2884.291702  0.057651  2884.119040  2884.252160   \n",
       "6                  6250.0  2872.759744  0.054851  2872.568832  2872.722432   \n",
       "7                  6250.0  2888.773198  0.059082  2888.592896  2888.733184   \n",
       "\n",
       "                                            gpu_memory_reserved                \\\n",
       "              50%          75%          max               count          mean   \n",
       "rank                                                                            \n",
       "0     2886.996480  2887.029248  2887.194112              6250.0  31483.029000   \n",
       "1     2889.127936  2889.162752  2889.310720              6250.0  39774.834141   \n",
       "2     2888.330240  2888.362496  2888.563712              6250.0  32377.277765   \n",
       "3     2879.582464  2879.620096  2879.781888              6250.0  43268.037075   \n",
       "4     2876.921344  2876.967424  2877.135872              6250.0  42274.284655   \n",
       "5     2884.293120  2884.329984  2884.516352              6250.0  34951.898931   \n",
       "6     2872.761856  2872.795648  2873.002496              6250.0  30925.871750   \n",
       "7     2888.774144  2888.813568  2888.989696              6250.0  35132.696250   \n",
       "\n",
       "                                                                           \\\n",
       "              std           min           25%           50%           75%   \n",
       "rank                                                                        \n",
       "0     1201.990491  15305.015296  31679.578112  31679.578112  31679.578112   \n",
       "1     1442.504094  15109.980160  39980.105728  39980.105728  39980.105728   \n",
       "2      947.009138  15529.410560  32516.341760  32516.341760  32516.341760   \n",
       "3     1703.474096  16674.455552  43505.418240  43505.418240  43505.418240   \n",
       "4     2743.907272  17033.068544  42033.217536  42033.217536  45634.027520   \n",
       "5     2538.499446  15766.388736  33988.542464  33988.542464  37450.940416   \n",
       "6      730.808225  15720.251392  31046.238208  31046.238208  31046.238208   \n",
       "7      962.014565  18530.435072  35284.582400  35284.582400  35284.582400   \n",
       "\n",
       "                    \n",
       "               max  \n",
       "rank                \n",
       "0     31679.578112  \n",
       "1     39980.105728  \n",
       "2     32516.341760  \n",
       "3     43505.418240  \n",
       "4     45634.027520  \n",
       "5     41104.179200  \n",
       "6     31046.238208  \n",
       "7     35284.582400  "
      ]
     },
     "execution_count": 8,
     "metadata": {},
     "output_type": "execute_result"
    }
   ],
   "source": [
    "cuda_memory.summary_per_gpu(\"S0\")"
   ]
  },
  {
   "cell_type": "code",
   "execution_count": 9,
   "metadata": {},
   "outputs": [
    {
     "data": {
      "text/html": [
       "<div>\n",
       "<style scoped>\n",
       "    .dataframe tbody tr th:only-of-type {\n",
       "        vertical-align: middle;\n",
       "    }\n",
       "\n",
       "    .dataframe tbody tr th {\n",
       "        vertical-align: top;\n",
       "    }\n",
       "\n",
       "    .dataframe thead th {\n",
       "        text-align: right;\n",
       "    }\n",
       "</style>\n",
       "<table border=\"1\" class=\"dataframe\">\n",
       "  <thead>\n",
       "    <tr style=\"text-align: right;\">\n",
       "      <th></th>\n",
       "      <th>gpu_memory_allocated</th>\n",
       "      <th>gpu_memory_reserved</th>\n",
       "    </tr>\n",
       "  </thead>\n",
       "  <tbody>\n",
       "    <tr>\n",
       "      <th>count</th>\n",
       "      <td>50000.000000</td>\n",
       "      <td>50000.000000</td>\n",
       "    </tr>\n",
       "    <tr>\n",
       "      <th>mean</th>\n",
       "      <td>2883.347316</td>\n",
       "      <td>36273.491196</td>\n",
       "    </tr>\n",
       "    <tr>\n",
       "      <th>std</th>\n",
       "      <td>5.803225</td>\n",
       "      <td>4869.851369</td>\n",
       "    </tr>\n",
       "    <tr>\n",
       "      <th>min</th>\n",
       "      <td>2872.568832</td>\n",
       "      <td>15109.980160</td>\n",
       "    </tr>\n",
       "    <tr>\n",
       "      <th>25%</th>\n",
       "      <td>2878.837760</td>\n",
       "      <td>31679.578112</td>\n",
       "    </tr>\n",
       "    <tr>\n",
       "      <th>50%</th>\n",
       "      <td>2885.676032</td>\n",
       "      <td>35284.582400</td>\n",
       "    </tr>\n",
       "    <tr>\n",
       "      <th>75%</th>\n",
       "      <td>2888.571008</td>\n",
       "      <td>39980.105728</td>\n",
       "    </tr>\n",
       "    <tr>\n",
       "      <th>max</th>\n",
       "      <td>2889.310720</td>\n",
       "      <td>45634.027520</td>\n",
       "    </tr>\n",
       "  </tbody>\n",
       "</table>\n",
       "</div>"
      ],
      "text/plain": [
       "       gpu_memory_allocated  gpu_memory_reserved\n",
       "count          50000.000000         50000.000000\n",
       "mean            2883.347316         36273.491196\n",
       "std                5.803225          4869.851369\n",
       "min             2872.568832         15109.980160\n",
       "25%             2878.837760         31679.578112\n",
       "50%             2885.676032         35284.582400\n",
       "75%             2888.571008         39980.105728\n",
       "max             2889.310720         45634.027520"
      ]
     },
     "execution_count": 9,
     "metadata": {},
     "output_type": "execute_result"
    }
   ],
   "source": [
    "cuda_memory.summary_averaged(\"S0\")"
   ]
  },
  {
   "cell_type": "code",
   "execution_count": 10,
   "metadata": {},
   "outputs": [
    {
     "data": {
      "image/png": "[encoded data removed]",
      "text/plain": [
       "<Figure size 432x288 with 1 Axes>"
      ]
     },
     "metadata": {
      "needs_background": "light"
     },
     "output_type": "display_data"
    },
    {
     "data": {
      "image/png": "[encoded data removed]",
      "text/plain": [
       "<Figure size 432x288 with 1 Axes>"
      ]
     },
     "metadata": {
      "needs_background": "light"
     },
     "output_type": "display_data"
    },
    {
     "data": {
      "image/png": "[encoded data removed]",
      "text/plain": [
       "<Figure size 432x288 with 1 Axes>"
      ]
     },
     "metadata": {
      "needs_background": "light"
     },
     "output_type": "display_data"
    },
    {
     "data": {
      "image/png": "[encoded data removed]",
      "text/plain": [
       "<Figure size 432x288 with 1 Axes>"
      ]
     },
     "metadata": {
      "needs_background": "light"
     },
     "output_type": "display_data"
    },
    {
     "data": {
      "image/png": "[encoded data removed]",
      "text/plain": [
       "<Figure size 432x288 with 1 Axes>"
      ]
     },
     "metadata": {
      "needs_background": "light"
     },
     "output_type": "display_data"
    },
    {
     "data": {
      "image/png": "[encoded data removed]",
      "text/plain": [
       "<Figure size 432x288 with 1 Axes>"
      ]
     },
     "metadata": {
      "needs_background": "light"
     },
     "output_type": "display_data"
    },
    {
     "data": {
      "image/png": "[encoded data removed]",
      "text/plain": [
       "<Figure size 432x288 with 1 Axes>"
      ]
     },
     "metadata": {
      "needs_background": "light"
     },
     "output_type": "display_data"
    },
    {
     "data": {
      "image/png": "[encoded data removed]",
      "text/plain": [
       "<Figure size 432x288 with 1 Axes>"
      ]
     },
     "metadata": {
      "needs_background": "light"
     },
     "output_type": "display_data"
    }
   ],
   "source": [
    "for i, run in enumerate(runs):\n",
    "    cuda_memory.plot_cuda_memory(\n",
    "        run, \n",
    "        mode=\"averaged\", \n",
    "        title=formatted_run_names_1[i],\n",
    "        save=True, \n",
    "        save_dir=\"../outputs/gemnet/is2re/cuda_memory\"\n",
    "    )"
   ]
  },
  {
   "cell_type": "markdown",
   "metadata": {},
   "source": [
    "For a single run, the GPU CUDA torch memory consumption can be plotted versus time, individually on each GPU or averaged/summed across all involved GPUs."
   ]
  },
  {
   "cell_type": "code",
   "execution_count": 11,
   "metadata": {},
   "outputs": [
    {
     "data": {
      "image/png": "[encoded data removed]",
      "text/plain": [
       "<Figure size 432x288 with 1 Axes>"
      ]
     },
     "metadata": {
      "needs_background": "light"
     },
     "output_type": "display_data"
    }
   ],
   "source": [
    "cuda_memory.plot_cuda_memory(\"S0\", mode=\"averaged\")"
   ]
  },
  {
   "cell_type": "code",
   "execution_count": 12,
   "metadata": {},
   "outputs": [
    {
     "data": {
      "image/png": "[encoded data removed]",
      "text/plain": [
       "<Figure size 432x288 with 1 Axes>"
      ]
     },
     "metadata": {
      "needs_background": "light"
     },
     "output_type": "display_data"
    },
    {
     "data": {
      "image/png": "[encoded data removed]",
      "text/plain": [
       "<Figure size 432x288 with 1 Axes>"
      ]
     },
     "metadata": {
      "needs_background": "light"
     },
     "output_type": "display_data"
    },
    {
     "data": {
      "image/png": "[encoded data removed]",
      "text/plain": [
       "<Figure size 432x288 with 1 Axes>"
      ]
     },
     "metadata": {
      "needs_background": "light"
     },
     "output_type": "display_data"
    },
    {
     "data": {
      "image/png": "[encoded data removed]",
      "text/plain": [
       "<Figure size 432x288 with 1 Axes>"
      ]
     },
     "metadata": {
      "needs_background": "light"
     },
     "output_type": "display_data"
    },
    {
     "data": {
      "image/png": "[encoded data removed]",
      "text/plain": [
       "<Figure size 432x288 with 1 Axes>"
      ]
     },
     "metadata": {
      "needs_background": "light"
     },
     "output_type": "display_data"
    },
    {
     "data": {
      "image/png": "[encoded data removed]",
      "text/plain": [
       "<Figure size 432x288 with 1 Axes>"
      ]
     },
     "metadata": {
      "needs_background": "light"
     },
     "output_type": "display_data"
    },
    {
     "data": {
      "image/png": "[encoded data removed]",
      "text/plain": [
       "<Figure size 432x288 with 1 Axes>"
      ]
     },
     "metadata": {
      "needs_background": "light"
     },
     "output_type": "display_data"
    },
    {
     "data": {
      "image/png": "[encoded data removed]",
      "text/plain": [
       "<Figure size 432x288 with 1 Axes>"
      ]
     },
     "metadata": {
      "needs_background": "light"
     },
     "output_type": "display_data"
    }
   ],
   "source": [
    "cuda_memory.plot_cuda_memory(\"S1\", mode=\"individual\")"
   ]
  },
  {
   "cell_type": "markdown",
   "metadata": {},
   "source": [
    "## Comparison of memory and runtimes for different runs\n",
    "\n",
    "For different runs, the allocated and reserved GPU CUDA memory as well as the runtimes can be compared."
   ]
  },
  {
   "cell_type": "code",
   "execution_count": 13,
   "metadata": {},
   "outputs": [
    {
     "data": {
      "text/html": [
       "<div>\n",
       "<style scoped>\n",
       "    .dataframe tbody tr th:only-of-type {\n",
       "        vertical-align: middle;\n",
       "    }\n",
       "\n",
       "    .dataframe tbody tr th {\n",
       "        vertical-align: top;\n",
       "    }\n",
       "\n",
       "    .dataframe thead th {\n",
       "        text-align: right;\n",
       "    }\n",
       "</style>\n",
       "<table border=\"1\" class=\"dataframe\">\n",
       "  <thead>\n",
       "    <tr style=\"text-align: right;\">\n",
       "      <th></th>\n",
       "      <th>S0</th>\n",
       "      <th>S0+fp16</th>\n",
       "      <th>S1</th>\n",
       "      <th>S1+OC</th>\n",
       "      <th>S2+OC</th>\n",
       "      <th>S2+OO+OC</th>\n",
       "      <th>S3+OC</th>\n",
       "      <th>S3+PO+OO+OC</th>\n",
       "    </tr>\n",
       "  </thead>\n",
       "  <tbody>\n",
       "    <tr>\n",
       "      <th>epoch_time</th>\n",
       "      <td>01:40:32</td>\n",
       "      <td>01:03:09</td>\n",
       "      <td>01:01:58</td>\n",
       "      <td>01:02:39</td>\n",
       "      <td>01:13:23</td>\n",
       "      <td>01:33:50</td>\n",
       "      <td>01:20:55</td>\n",
       "      <td>01:56:20</td>\n",
       "    </tr>\n",
       "    <tr>\n",
       "      <th>dataloading_time</th>\n",
       "      <td>00:00:09</td>\n",
       "      <td>00:00:13</td>\n",
       "      <td>00:00:09</td>\n",
       "      <td>00:00:09</td>\n",
       "      <td>00:00:08</td>\n",
       "      <td>00:00:11</td>\n",
       "      <td>00:00:07</td>\n",
       "      <td>00:00:15</td>\n",
       "    </tr>\n",
       "    <tr>\n",
       "      <th>forward_time</th>\n",
       "      <td>00:24:17</td>\n",
       "      <td>00:15:43</td>\n",
       "      <td>00:16:07</td>\n",
       "      <td>00:16:06</td>\n",
       "      <td>00:16:04</td>\n",
       "      <td>00:16:07</td>\n",
       "      <td>00:27:31</td>\n",
       "      <td>00:27:30</td>\n",
       "    </tr>\n",
       "    <tr>\n",
       "      <th>backward_time</th>\n",
       "      <td>01:10:58</td>\n",
       "      <td>00:43:16</td>\n",
       "      <td>00:39:29</td>\n",
       "      <td>00:39:35</td>\n",
       "      <td>00:45:34</td>\n",
       "      <td>01:04:43</td>\n",
       "      <td>00:42:51</td>\n",
       "      <td>01:16:32</td>\n",
       "    </tr>\n",
       "    <tr>\n",
       "      <th>rest</th>\n",
       "      <td>00:05:07</td>\n",
       "      <td>00:03:55</td>\n",
       "      <td>00:06:12</td>\n",
       "      <td>00:06:47</td>\n",
       "      <td>00:11:35</td>\n",
       "      <td>00:12:47</td>\n",
       "      <td>00:10:25</td>\n",
       "      <td>00:12:01</td>\n",
       "    </tr>\n",
       "  </tbody>\n",
       "</table>\n",
       "</div>"
      ],
      "text/plain": [
       "                        S0   S0+fp16        S1     S1+OC     S2+OC  S2+OO+OC  \\\n",
       "epoch_time        01:40:32  01:03:09  01:01:58  01:02:39  01:13:23  01:33:50   \n",
       "dataloading_time  00:00:09  00:00:13  00:00:09  00:00:09  00:00:08  00:00:11   \n",
       "forward_time      00:24:17  00:15:43  00:16:07  00:16:06  00:16:04  00:16:07   \n",
       "backward_time     01:10:58  00:43:16  00:39:29  00:39:35  00:45:34  01:04:43   \n",
       "rest              00:05:07  00:03:55  00:06:12  00:06:47  00:11:35  00:12:47   \n",
       "\n",
       "                     S3+OC S3+PO+OO+OC  \n",
       "epoch_time        01:20:55    01:56:20  \n",
       "dataloading_time  00:00:07    00:00:15  \n",
       "forward_time      00:27:31    00:27:30  \n",
       "backward_time     00:42:51    01:16:32  \n",
       "rest              00:10:25    00:12:01  "
      ]
     },
     "execution_count": 13,
     "metadata": {},
     "output_type": "execute_result"
    }
   ],
   "source": [
    "runtimes.compare(save=True, save_dir=\"../outputs/gemnet/is2re/runtimes\")"
   ]
  },
  {
   "cell_type": "code",
   "execution_count": 14,
   "metadata": {},
   "outputs": [
    {
     "data": {
      "image/png": "[encoded data removed]",
      "text/plain": [
       "<Figure size 432x288 with 1 Axes>"
      ]
     },
     "metadata": {
      "needs_background": "light"
     },
     "output_type": "display_data"
    }
   ],
   "source": [
    "runtimes.compare_plot(\n",
    "    yticks=formatted_run_names_2, \n",
    "    figsize=(6, 4), \n",
    "    title=r\"\\textbf{Runtimes}\", \n",
    "    save=True, \n",
    "    save_dir=\"../outputs/gemnet/is2re/runtimes\"\n",
    ")"
   ]
  },
  {
   "cell_type": "code",
   "execution_count": 15,
   "metadata": {},
   "outputs": [
    {
     "data": {
      "text/html": [
       "<div>\n",
       "<style scoped>\n",
       "    .dataframe tbody tr th:only-of-type {\n",
       "        vertical-align: middle;\n",
       "    }\n",
       "\n",
       "    .dataframe tbody tr th {\n",
       "        vertical-align: top;\n",
       "    }\n",
       "\n",
       "    .dataframe thead th {\n",
       "        text-align: right;\n",
       "    }\n",
       "</style>\n",
       "<table border=\"1\" class=\"dataframe\">\n",
       "  <thead>\n",
       "    <tr style=\"text-align: right;\">\n",
       "      <th></th>\n",
       "      <th>S0</th>\n",
       "      <th>S0+fp16</th>\n",
       "      <th>S1</th>\n",
       "      <th>S1+OC</th>\n",
       "      <th>S2+OC</th>\n",
       "      <th>S2+OO+OC</th>\n",
       "      <th>S3+OC</th>\n",
       "      <th>S3+PO+OO+OC</th>\n",
       "    </tr>\n",
       "  </thead>\n",
       "  <tbody>\n",
       "    <tr>\n",
       "      <th>gpu_memory_allocated</th>\n",
       "      <td>2.88</td>\n",
       "      <td>2.88</td>\n",
       "      <td>0.62</td>\n",
       "      <td>0.62</td>\n",
       "      <td>0.62</td>\n",
       "      <td>0.36</td>\n",
       "      <td>1.36</td>\n",
       "      <td>1.00</td>\n",
       "    </tr>\n",
       "    <tr>\n",
       "      <th>gpu_memory_reserved</th>\n",
       "      <td>36.27</td>\n",
       "      <td>20.60</td>\n",
       "      <td>18.19</td>\n",
       "      <td>18.19</td>\n",
       "      <td>19.24</td>\n",
       "      <td>18.90</td>\n",
       "      <td>19.44</td>\n",
       "      <td>19.68</td>\n",
       "    </tr>\n",
       "  </tbody>\n",
       "</table>\n",
       "</div>"
      ],
      "text/plain": [
       "                         S0  S0+fp16     S1  S1+OC  S2+OC  S2+OO+OC  S3+OC  \\\n",
       "gpu_memory_allocated   2.88     2.88   0.62   0.62   0.62      0.36   1.36   \n",
       "gpu_memory_reserved   36.27    20.60  18.19  18.19  19.24     18.90  19.44   \n",
       "\n",
       "                      S3+PO+OO+OC  \n",
       "gpu_memory_allocated         1.00  \n",
       "gpu_memory_reserved         19.68  "
      ]
     },
     "execution_count": 15,
     "metadata": {},
     "output_type": "execute_result"
    }
   ],
   "source": [
    "cuda_memory.compare(save=True, save_dir=\"../outputs/gemnet/is2re/cuda_memory\")"
   ]
  },
  {
   "cell_type": "code",
   "execution_count": 16,
   "metadata": {},
   "outputs": [
    {
     "data": {
      "image/png": "[encoded data removed]",
      "text/plain": [
       "<Figure size 432x288 with 1 Axes>"
      ]
     },
     "metadata": {
      "needs_background": "light"
     },
     "output_type": "display_data"
    }
   ],
   "source": [
    "cuda_memory.compare_plot(\n",
    "    xticks=formatted_run_names_2, \n",
    "    figsize=(6, 4), \n",
    "    title=r\"\\textbf{GPU memory consumption}\", \n",
    "    save=True, \n",
    "    save_dir=\"../outputs/gemnet/is2re/cuda_memory\"\n",
    ")"
   ]
  }
 ],
 "metadata": {
  "kernelspec": {
   "display_name": "Python 3.9.12 ('tum-di-lab')",
   "language": "python",
   "name": "python3"
  },
  "language_info": {
   "codemirror_mode": {
    "name": "ipython",
    "version": 3
   },
   "file_extension": ".py",
   "mimetype": "text/x-python",
   "name": "python",
   "nbconvert_exporter": "python",
   "pygments_lexer": "ipython3",
   "version": "3.9.12"
  },
  "orig_nbformat": 4,
  "vscode": {
   "interpreter": {
    "hash": "119c6c5c0d22922f1de4a43916b405efff0fc16ad72dd0247274e82a6c60783f"
   }
  }
 },
 "nbformat": 4,
 "nbformat_minor": 2
}
