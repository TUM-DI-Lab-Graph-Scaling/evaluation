{
 "cells": [
  {
   "cell_type": "markdown",
   "metadata": {},
   "source": [
    "# Evaluation of GPU memory consumption for CUDA Tensors"
   ]
  },
  {
   "cell_type": "code",
   "execution_count": 1,
   "metadata": {},
   "outputs": [],
   "source": [
    "import os\n",
    "from datetime import datetime\n",
    "\n",
    "import pandas as pd\n",
    "import matplotlib.pyplot as plt"
   ]
  },
  {
   "cell_type": "code",
   "execution_count": 2,
   "metadata": {},
   "outputs": [],
   "source": [
    "# Set LaTeX text for matplotlib\n",
    "plt.rcParams['text.usetex'] = True\n",
    "\n",
    "# TUM colors\n",
    "color_theme = [\n",
    "    (100/255, 160/255, 200/255),\n",
    "    (227/255, 114/255, 34/255),\n",
    "    (112/255, 194/255, 165/255)\n",
    "]"
   ]
  },
  {
   "cell_type": "markdown",
   "metadata": {},
   "source": [
    "## Data loading\n",
    "\n",
    "At first, we specify the paths necessary for evaluation. This includes:\n",
    "- the ocp metrics directory stored in `ocp_metrics_path`\n",
    "- the directory `directory` for the specific model/series of runs we would like to consider\n",
    "- the runs `runs` as a `dict` with shorter name as key and the respective csv filenames without \"_resources/...\" extensions"
   ]
  },
  {
   "cell_type": "code",
   "execution_count": 3,
   "metadata": {},
   "outputs": [],
   "source": [
    "ocp_metrics_path = \"/Users/danielherbst/Desktop/ocp-metrics\"\n",
    "directory = \"s2ef/gemnet_xl/batch_size_2\"\n",
    "runs = {\n",
    "    \"stage0\":                                                   \"1658821209_stage0_8gpus\",\n",
    "    \"stage0_fp16\":                                              \"1658836096_stage0_8gpus_fp16\",\n",
    "    \"stage1\":                                                   \"1658796065_stage1_8gpus\",\n",
    "    \"stage1_ocomm\":                                             \"1658874784_stage1_8gpus\",\n",
    "    \"stage2_ocomm\":                                             \"1658848228_stage2_8gpus\",\n",
    "    \"stage2_offloadOptimizer[cpu]_ocomm\":                       \"1658859227_stage2_8gpus_offloadOptimizer[cpu]\",\n",
    "    \"stage3_ocomm\":                                             \"1658884621_stage3_8gpus\",\n",
    "    \"stage3__offloadOptimizer[cpu]_offloadParam[cpu]_ocomm\":    \"1658898067_stage3_8gpus_offloadOptimizer[cpu]_offloadParam[cpu]\"\n",
    "}"
   ]
  },
  {
   "cell_type": "code",
   "execution_count": 4,
   "metadata": {},
   "outputs": [],
   "source": [
    "def get_paths(runs, csv_type) -> dict:\n",
    "    \"\"\"\n",
    "    runs:       dict of runs with timestamp\n",
    "    directory:  directory in which the runs are stored\n",
    "    sv_type:    [\"resources\"|\"torch_cuda\"] \n",
    "    TODO: add support for runtimes\n",
    "    \"\"\"\n",
    "    if csv_type == \"resources\":\n",
    "        return {key: os.path.join(ocp_metrics_path, directory, f\"{run}_resources.csv\") for key, run in runs.items()}\n",
    "    elif csv_type == \"torch_cuda\":\n",
    "        return {key: os.path.join(ocp_metrics_path, directory, f\"{run}_torch_cuda.csv\") for key, run in runs.items()}\n",
    "    else:\n",
    "        raise ValueError(f\"CSV type {csv_type} is not supported.\")\n",
    "\n",
    "def get_metrics_csv(file_path, csv_type) -> pd.DataFrame:\n",
    "    \"\"\"\n",
    "    file_path:  path to the metrics csv file within the ocp metrics folder\n",
    "    csv_type:   [\"resources\"|\"torch_cuda\"]\n",
    "    TODO: add support for runtimes\n",
    "    \"\"\"\n",
    "    df = pd.read_csv(os.path.join(ocp_metrics_path, file_path))\n",
    "    if csv_type == \"resources\":\n",
    "        for header in [\"memory_used\", \"memory_free\"]:\n",
    "            df[header] = df[header] / 1_000_000\n",
    "    elif csv_type == \"torch_cuda\":\n",
    "        for header in [\"gpu_memory_allocated\", \"gpu_memory_reserved\"]:\n",
    "            df[header] = df[header] / 1_000_000\n",
    "    else:\n",
    "        raise ValueError(f\"CSV type {csv_type} is not supported.\")\n",
    "    return df"
   ]
  },
  {
   "cell_type": "code",
   "execution_count": 5,
   "metadata": {},
   "outputs": [],
   "source": [
    "resources_paths = get_paths(runs, csv_type=\"resources\")\n",
    "torch_cuda_paths = get_paths(runs, csv_type=\"torch_cuda\")"
   ]
  },
  {
   "cell_type": "markdown",
   "metadata": {},
   "source": [
    "## Inspection of a single run\n",
    "\n",
    "At first, we inspect single runs with a set DeepSpeed configuration. We look at statistical summaries of the allocated and reserved memory."
   ]
  },
  {
   "cell_type": "code",
   "execution_count": 6,
   "metadata": {},
   "outputs": [
    {
     "data": {
      "text/html": [
       "<div>\n",
       "<style scoped>\n",
       "    .dataframe tbody tr th:only-of-type {\n",
       "        vertical-align: middle;\n",
       "    }\n",
       "\n",
       "    .dataframe tbody tr th {\n",
       "        vertical-align: top;\n",
       "    }\n",
       "\n",
       "    .dataframe thead th {\n",
       "        text-align: right;\n",
       "    }\n",
       "</style>\n",
       "<table border=\"1\" class=\"dataframe\">\n",
       "  <thead>\n",
       "    <tr style=\"text-align: right;\">\n",
       "      <th></th>\n",
       "      <th>datetime</th>\n",
       "      <th>epoch</th>\n",
       "      <th>rank</th>\n",
       "      <th>gpu_memory_allocated</th>\n",
       "      <th>gpu_memory_reserved</th>\n",
       "    </tr>\n",
       "  </thead>\n",
       "  <tbody>\n",
       "    <tr>\n",
       "      <th>0</th>\n",
       "      <td>2022-07-26 07:40:11.698359</td>\n",
       "      <td>0</td>\n",
       "      <td>0</td>\n",
       "      <td>2367.652864</td>\n",
       "      <td>2562.719744</td>\n",
       "    </tr>\n",
       "    <tr>\n",
       "      <th>1</th>\n",
       "      <td>2022-07-26 07:40:11.699225</td>\n",
       "      <td>0</td>\n",
       "      <td>1</td>\n",
       "      <td>2367.652864</td>\n",
       "      <td>2562.719744</td>\n",
       "    </tr>\n",
       "    <tr>\n",
       "      <th>2</th>\n",
       "      <td>2022-07-26 07:40:11.700212</td>\n",
       "      <td>0</td>\n",
       "      <td>2</td>\n",
       "      <td>2367.652864</td>\n",
       "      <td>2562.719744</td>\n",
       "    </tr>\n",
       "    <tr>\n",
       "      <th>3</th>\n",
       "      <td>2022-07-26 07:40:11.700135</td>\n",
       "      <td>0</td>\n",
       "      <td>7</td>\n",
       "      <td>2367.652864</td>\n",
       "      <td>2562.719744</td>\n",
       "    </tr>\n",
       "    <tr>\n",
       "      <th>4</th>\n",
       "      <td>2022-07-26 07:40:11.699473</td>\n",
       "      <td>0</td>\n",
       "      <td>6</td>\n",
       "      <td>2367.652864</td>\n",
       "      <td>2562.719744</td>\n",
       "    </tr>\n",
       "    <tr>\n",
       "      <th>...</th>\n",
       "      <td>...</td>\n",
       "      <td>...</td>\n",
       "      <td>...</td>\n",
       "      <td>...</td>\n",
       "      <td>...</td>\n",
       "    </tr>\n",
       "    <tr>\n",
       "      <th>199995</th>\n",
       "      <td>2022-07-26 11:47:09.023206</td>\n",
       "      <td>0</td>\n",
       "      <td>5</td>\n",
       "      <td>7142.172160</td>\n",
       "      <td>42440.065024</td>\n",
       "    </tr>\n",
       "    <tr>\n",
       "      <th>199996</th>\n",
       "      <td>2022-07-26 11:47:09.023281</td>\n",
       "      <td>0</td>\n",
       "      <td>2</td>\n",
       "      <td>7092.075520</td>\n",
       "      <td>31929.139200</td>\n",
       "    </tr>\n",
       "    <tr>\n",
       "      <th>199997</th>\n",
       "      <td>2022-07-26 11:47:09.023545</td>\n",
       "      <td>0</td>\n",
       "      <td>4</td>\n",
       "      <td>7103.862272</td>\n",
       "      <td>43186.651136</td>\n",
       "    </tr>\n",
       "    <tr>\n",
       "      <th>199998</th>\n",
       "      <td>2022-07-26 11:47:09.023682</td>\n",
       "      <td>0</td>\n",
       "      <td>3</td>\n",
       "      <td>7103.119360</td>\n",
       "      <td>38767.951872</td>\n",
       "    </tr>\n",
       "    <tr>\n",
       "      <th>199999</th>\n",
       "      <td>2022-07-26 11:47:09.024407</td>\n",
       "      <td>0</td>\n",
       "      <td>0</td>\n",
       "      <td>7106.217984</td>\n",
       "      <td>31069.306880</td>\n",
       "    </tr>\n",
       "  </tbody>\n",
       "</table>\n",
       "<p>200000 rows × 5 columns</p>\n",
       "</div>"
      ],
      "text/plain": [
       "                          datetime  epoch  rank  gpu_memory_allocated  \\\n",
       "0       2022-07-26 07:40:11.698359      0     0           2367.652864   \n",
       "1       2022-07-26 07:40:11.699225      0     1           2367.652864   \n",
       "2       2022-07-26 07:40:11.700212      0     2           2367.652864   \n",
       "3       2022-07-26 07:40:11.700135      0     7           2367.652864   \n",
       "4       2022-07-26 07:40:11.699473      0     6           2367.652864   \n",
       "...                            ...    ...   ...                   ...   \n",
       "199995  2022-07-26 11:47:09.023206      0     5           7142.172160   \n",
       "199996  2022-07-26 11:47:09.023281      0     2           7092.075520   \n",
       "199997  2022-07-26 11:47:09.023545      0     4           7103.862272   \n",
       "199998  2022-07-26 11:47:09.023682      0     3           7103.119360   \n",
       "199999  2022-07-26 11:47:09.024407      0     0           7106.217984   \n",
       "\n",
       "        gpu_memory_reserved  \n",
       "0               2562.719744  \n",
       "1               2562.719744  \n",
       "2               2562.719744  \n",
       "3               2562.719744  \n",
       "4               2562.719744  \n",
       "...                     ...  \n",
       "199995         42440.065024  \n",
       "199996         31929.139200  \n",
       "199997         43186.651136  \n",
       "199998         38767.951872  \n",
       "199999         31069.306880  \n",
       "\n",
       "[200000 rows x 5 columns]"
      ]
     },
     "execution_count": 6,
     "metadata": {},
     "output_type": "execute_result"
    }
   ],
   "source": [
    "cuda_df = get_metrics_csv(torch_cuda_paths[\"stage0\"], csv_type=\"torch_cuda\")\n",
    "cuda_df"
   ]
  },
  {
   "cell_type": "code",
   "execution_count": 7,
   "metadata": {},
   "outputs": [],
   "source": [
    "def cuda_memory_summary_per_gpu(run) -> pd.DataFrame:\n",
    "    \"\"\"\n",
    "    Returns statistical summary of the cuda memory usage per rank.\n",
    "    \"\"\"\n",
    "    cuda_df = get_metrics_csv(torch_cuda_paths[run], csv_type=\"torch_cuda\")\n",
    "    return cuda_df.groupby(\"rank\")[[\"gpu_memory_allocated\", \"gpu_memory_reserved\"]].describe()\n",
    "\n",
    "def cuda_memory_summary_averaged(run) -> pd.DataFrame:\n",
    "    \"\"\"\n",
    "    Returns statistical summary of the cuda memory usage averaged over all ranks.\n",
    "    \"\"\"\n",
    "    cuda_df = get_metrics_csv(torch_cuda_paths[run], csv_type=\"torch_cuda\")\n",
    "    return cuda_df[[\"gpu_memory_allocated\", \"gpu_memory_reserved\"]].describe()"
   ]
  },
  {
   "cell_type": "code",
   "execution_count": 8,
   "metadata": {},
   "outputs": [
    {
     "data": {
      "text/html": [
       "<div>\n",
       "<style scoped>\n",
       "    .dataframe tbody tr th:only-of-type {\n",
       "        vertical-align: middle;\n",
       "    }\n",
       "\n",
       "    .dataframe tbody tr th {\n",
       "        vertical-align: top;\n",
       "    }\n",
       "\n",
       "    .dataframe thead tr th {\n",
       "        text-align: left;\n",
       "    }\n",
       "\n",
       "    .dataframe thead tr:last-of-type th {\n",
       "        text-align: right;\n",
       "    }\n",
       "</style>\n",
       "<table border=\"1\" class=\"dataframe\">\n",
       "  <thead>\n",
       "    <tr>\n",
       "      <th></th>\n",
       "      <th colspan=\"8\" halign=\"left\">gpu_memory_allocated</th>\n",
       "      <th colspan=\"8\" halign=\"left\">gpu_memory_reserved</th>\n",
       "    </tr>\n",
       "    <tr>\n",
       "      <th></th>\n",
       "      <th>count</th>\n",
       "      <th>mean</th>\n",
       "      <th>std</th>\n",
       "      <th>min</th>\n",
       "      <th>25%</th>\n",
       "      <th>50%</th>\n",
       "      <th>75%</th>\n",
       "      <th>max</th>\n",
       "      <th>count</th>\n",
       "      <th>mean</th>\n",
       "      <th>std</th>\n",
       "      <th>min</th>\n",
       "      <th>25%</th>\n",
       "      <th>50%</th>\n",
       "      <th>75%</th>\n",
       "      <th>max</th>\n",
       "    </tr>\n",
       "    <tr>\n",
       "      <th>rank</th>\n",
       "      <th></th>\n",
       "      <th></th>\n",
       "      <th></th>\n",
       "      <th></th>\n",
       "      <th></th>\n",
       "      <th></th>\n",
       "      <th></th>\n",
       "      <th></th>\n",
       "      <th></th>\n",
       "      <th></th>\n",
       "      <th></th>\n",
       "      <th></th>\n",
       "      <th></th>\n",
       "      <th></th>\n",
       "      <th></th>\n",
       "      <th></th>\n",
       "    </tr>\n",
       "  </thead>\n",
       "  <tbody>\n",
       "    <tr>\n",
       "      <th>0</th>\n",
       "      <td>25000.0</td>\n",
       "      <td>7105.915426</td>\n",
       "      <td>29.968638</td>\n",
       "      <td>2367.652864</td>\n",
       "      <td>7106.072064</td>\n",
       "      <td>7106.104320</td>\n",
       "      <td>7106.137088</td>\n",
       "      <td>7106.310144</td>\n",
       "      <td>25000.0</td>\n",
       "      <td>36599.870249</td>\n",
       "      <td>3297.506880</td>\n",
       "      <td>2562.719744</td>\n",
       "      <td>33619.443712</td>\n",
       "      <td>38587.596800</td>\n",
       "      <td>38587.596800</td>\n",
       "      <td>38587.596800</td>\n",
       "    </tr>\n",
       "    <tr>\n",
       "      <th>1</th>\n",
       "      <td>25000.0</td>\n",
       "      <td>7095.922161</td>\n",
       "      <td>29.905436</td>\n",
       "      <td>2367.652864</td>\n",
       "      <td>7096.076288</td>\n",
       "      <td>7096.110592</td>\n",
       "      <td>7096.144896</td>\n",
       "      <td>7096.308736</td>\n",
       "      <td>25000.0</td>\n",
       "      <td>37944.071364</td>\n",
       "      <td>2277.630726</td>\n",
       "      <td>2562.719744</td>\n",
       "      <td>38791.020544</td>\n",
       "      <td>38791.020544</td>\n",
       "      <td>38791.020544</td>\n",
       "      <td>38791.020544</td>\n",
       "    </tr>\n",
       "    <tr>\n",
       "      <th>2</th>\n",
       "      <td>25000.0</td>\n",
       "      <td>7091.805703</td>\n",
       "      <td>29.879399</td>\n",
       "      <td>2367.652864</td>\n",
       "      <td>7091.960832</td>\n",
       "      <td>7091.993088</td>\n",
       "      <td>7092.027392</td>\n",
       "      <td>7092.166656</td>\n",
       "      <td>25000.0</td>\n",
       "      <td>30868.330848</td>\n",
       "      <td>1437.031741</td>\n",
       "      <td>2562.719744</td>\n",
       "      <td>29288.824832</td>\n",
       "      <td>31929.139200</td>\n",
       "      <td>31929.139200</td>\n",
       "      <td>31929.139200</td>\n",
       "    </tr>\n",
       "    <tr>\n",
       "      <th>3</th>\n",
       "      <td>25000.0</td>\n",
       "      <td>7102.993205</td>\n",
       "      <td>29.950163</td>\n",
       "      <td>2367.652864</td>\n",
       "      <td>7103.145472</td>\n",
       "      <td>7103.184384</td>\n",
       "      <td>7103.217664</td>\n",
       "      <td>7103.397376</td>\n",
       "      <td>25000.0</td>\n",
       "      <td>36325.355317</td>\n",
       "      <td>2892.795111</td>\n",
       "      <td>2562.719744</td>\n",
       "      <td>35777.413120</td>\n",
       "      <td>35777.413120</td>\n",
       "      <td>38767.951872</td>\n",
       "      <td>38767.951872</td>\n",
       "    </tr>\n",
       "    <tr>\n",
       "      <th>4</th>\n",
       "      <td>25000.0</td>\n",
       "      <td>7103.675156</td>\n",
       "      <td>29.954507</td>\n",
       "      <td>2367.652864</td>\n",
       "      <td>7103.816704</td>\n",
       "      <td>7103.859712</td>\n",
       "      <td>7103.906304</td>\n",
       "      <td>7104.090624</td>\n",
       "      <td>25000.0</td>\n",
       "      <td>42139.615536</td>\n",
       "      <td>1969.011986</td>\n",
       "      <td>2562.719744</td>\n",
       "      <td>39875.248128</td>\n",
       "      <td>43186.651136</td>\n",
       "      <td>43186.651136</td>\n",
       "      <td>43186.651136</td>\n",
       "    </tr>\n",
       "    <tr>\n",
       "      <th>5</th>\n",
       "      <td>25000.0</td>\n",
       "      <td>7141.955368</td>\n",
       "      <td>30.196596</td>\n",
       "      <td>2367.652864</td>\n",
       "      <td>7142.108160</td>\n",
       "      <td>7142.144000</td>\n",
       "      <td>7142.181888</td>\n",
       "      <td>7142.385152</td>\n",
       "      <td>25000.0</td>\n",
       "      <td>37945.334185</td>\n",
       "      <td>2797.255577</td>\n",
       "      <td>2562.719744</td>\n",
       "      <td>36064.722944</td>\n",
       "      <td>39246.102528</td>\n",
       "      <td>39246.102528</td>\n",
       "      <td>42440.065024</td>\n",
       "    </tr>\n",
       "    <tr>\n",
       "      <th>6</th>\n",
       "      <td>25000.0</td>\n",
       "      <td>7111.461883</td>\n",
       "      <td>30.003724</td>\n",
       "      <td>2367.652864</td>\n",
       "      <td>7111.616000</td>\n",
       "      <td>7111.651328</td>\n",
       "      <td>7111.686784</td>\n",
       "      <td>7111.860736</td>\n",
       "      <td>25000.0</td>\n",
       "      <td>43228.769582</td>\n",
       "      <td>3274.584182</td>\n",
       "      <td>2562.719744</td>\n",
       "      <td>41584.427008</td>\n",
       "      <td>44570.771456</td>\n",
       "      <td>44570.771456</td>\n",
       "      <td>44570.771456</td>\n",
       "    </tr>\n",
       "    <tr>\n",
       "      <th>7</th>\n",
       "      <td>25000.0</td>\n",
       "      <td>7116.190711</td>\n",
       "      <td>30.033638</td>\n",
       "      <td>2367.652864</td>\n",
       "      <td>7116.342272</td>\n",
       "      <td>7116.380672</td>\n",
       "      <td>7116.417024</td>\n",
       "      <td>7116.589056</td>\n",
       "      <td>25000.0</td>\n",
       "      <td>36632.327115</td>\n",
       "      <td>1443.623741</td>\n",
       "      <td>2562.719744</td>\n",
       "      <td>37163.630592</td>\n",
       "      <td>37163.630592</td>\n",
       "      <td>37163.630592</td>\n",
       "      <td>37163.630592</td>\n",
       "    </tr>\n",
       "  </tbody>\n",
       "</table>\n",
       "</div>"
      ],
      "text/plain": [
       "     gpu_memory_allocated                                                    \\\n",
       "                    count         mean        std          min          25%   \n",
       "rank                                                                          \n",
       "0                 25000.0  7105.915426  29.968638  2367.652864  7106.072064   \n",
       "1                 25000.0  7095.922161  29.905436  2367.652864  7096.076288   \n",
       "2                 25000.0  7091.805703  29.879399  2367.652864  7091.960832   \n",
       "3                 25000.0  7102.993205  29.950163  2367.652864  7103.145472   \n",
       "4                 25000.0  7103.675156  29.954507  2367.652864  7103.816704   \n",
       "5                 25000.0  7141.955368  30.196596  2367.652864  7142.108160   \n",
       "6                 25000.0  7111.461883  30.003724  2367.652864  7111.616000   \n",
       "7                 25000.0  7116.190711  30.033638  2367.652864  7116.342272   \n",
       "\n",
       "                                            gpu_memory_reserved                \\\n",
       "              50%          75%          max               count          mean   \n",
       "rank                                                                            \n",
       "0     7106.104320  7106.137088  7106.310144             25000.0  36599.870249   \n",
       "1     7096.110592  7096.144896  7096.308736             25000.0  37944.071364   \n",
       "2     7091.993088  7092.027392  7092.166656             25000.0  30868.330848   \n",
       "3     7103.184384  7103.217664  7103.397376             25000.0  36325.355317   \n",
       "4     7103.859712  7103.906304  7104.090624             25000.0  42139.615536   \n",
       "5     7142.144000  7142.181888  7142.385152             25000.0  37945.334185   \n",
       "6     7111.651328  7111.686784  7111.860736             25000.0  43228.769582   \n",
       "7     7116.380672  7116.417024  7116.589056             25000.0  36632.327115   \n",
       "\n",
       "                                                                          \\\n",
       "              std          min           25%           50%           75%   \n",
       "rank                                                                       \n",
       "0     3297.506880  2562.719744  33619.443712  38587.596800  38587.596800   \n",
       "1     2277.630726  2562.719744  38791.020544  38791.020544  38791.020544   \n",
       "2     1437.031741  2562.719744  29288.824832  31929.139200  31929.139200   \n",
       "3     2892.795111  2562.719744  35777.413120  35777.413120  38767.951872   \n",
       "4     1969.011986  2562.719744  39875.248128  43186.651136  43186.651136   \n",
       "5     2797.255577  2562.719744  36064.722944  39246.102528  39246.102528   \n",
       "6     3274.584182  2562.719744  41584.427008  44570.771456  44570.771456   \n",
       "7     1443.623741  2562.719744  37163.630592  37163.630592  37163.630592   \n",
       "\n",
       "                    \n",
       "               max  \n",
       "rank                \n",
       "0     38587.596800  \n",
       "1     38791.020544  \n",
       "2     31929.139200  \n",
       "3     38767.951872  \n",
       "4     43186.651136  \n",
       "5     42440.065024  \n",
       "6     44570.771456  \n",
       "7     37163.630592  "
      ]
     },
     "execution_count": 8,
     "metadata": {},
     "output_type": "execute_result"
    }
   ],
   "source": [
    "cuda_memory_summary_per_gpu(\"stage0\")"
   ]
  },
  {
   "cell_type": "code",
   "execution_count": 9,
   "metadata": {},
   "outputs": [
    {
     "data": {
      "text/html": [
       "<div>\n",
       "<style scoped>\n",
       "    .dataframe tbody tr th:only-of-type {\n",
       "        vertical-align: middle;\n",
       "    }\n",
       "\n",
       "    .dataframe tbody tr th {\n",
       "        vertical-align: top;\n",
       "    }\n",
       "\n",
       "    .dataframe thead th {\n",
       "        text-align: right;\n",
       "    }\n",
       "</style>\n",
       "<table border=\"1\" class=\"dataframe\">\n",
       "  <thead>\n",
       "    <tr style=\"text-align: right;\">\n",
       "      <th></th>\n",
       "      <th>gpu_memory_allocated</th>\n",
       "      <th>gpu_memory_reserved</th>\n",
       "    </tr>\n",
       "  </thead>\n",
       "  <tbody>\n",
       "    <tr>\n",
       "      <th>count</th>\n",
       "      <td>200000.000000</td>\n",
       "      <td>200000.000000</td>\n",
       "    </tr>\n",
       "    <tr>\n",
       "      <th>mean</th>\n",
       "      <td>7108.739952</td>\n",
       "      <td>37710.459275</td>\n",
       "    </tr>\n",
       "    <tr>\n",
       "      <th>std</th>\n",
       "      <td>33.311518</td>\n",
       "      <td>4363.337636</td>\n",
       "    </tr>\n",
       "    <tr>\n",
       "      <th>min</th>\n",
       "      <td>2367.652864</td>\n",
       "      <td>2562.719744</td>\n",
       "    </tr>\n",
       "    <tr>\n",
       "      <th>25%</th>\n",
       "      <td>7096.283904</td>\n",
       "      <td>35777.413120</td>\n",
       "    </tr>\n",
       "    <tr>\n",
       "      <th>50%</th>\n",
       "      <td>7104.087040</td>\n",
       "      <td>38587.596800</td>\n",
       "    </tr>\n",
       "    <tr>\n",
       "      <th>75%</th>\n",
       "      <td>7111.840128</td>\n",
       "      <td>39873.150976</td>\n",
       "    </tr>\n",
       "    <tr>\n",
       "      <th>max</th>\n",
       "      <td>7142.385152</td>\n",
       "      <td>44570.771456</td>\n",
       "    </tr>\n",
       "  </tbody>\n",
       "</table>\n",
       "</div>"
      ],
      "text/plain": [
       "       gpu_memory_allocated  gpu_memory_reserved\n",
       "count         200000.000000        200000.000000\n",
       "mean            7108.739952         37710.459275\n",
       "std               33.311518          4363.337636\n",
       "min             2367.652864          2562.719744\n",
       "25%             7096.283904         35777.413120\n",
       "50%             7104.087040         38587.596800\n",
       "75%             7111.840128         39873.150976\n",
       "max             7142.385152         44570.771456"
      ]
     },
     "execution_count": 9,
     "metadata": {},
     "output_type": "execute_result"
    }
   ],
   "source": [
    "cuda_memory_summary_averaged(\"stage0\")"
   ]
  },
  {
   "cell_type": "markdown",
   "metadata": {},
   "source": [
    "For a single run, the GPU CUDA torch memory consumption can be plotted versus time, individually on each GPU or averaged/summed across all involved GPUs."
   ]
  },
  {
   "cell_type": "code",
   "execution_count": 10,
   "metadata": {},
   "outputs": [],
   "source": [
    "def plot_cuda_memory(\n",
    "    run, \n",
    "    mode=\"individual\", \n",
    "    show=True,\n",
    "    save=False, \n",
    "    save_dir=\"outputs/cuda_memory\"\n",
    "):\n",
    "    \"\"\"\n",
    "    Plot the GPU memory allocated by or reserved for Cuda tensors over time.\n",
    "\n",
    "    run: run for which the memory over time should be displayed.\n",
    "    mode:\n",
    "        \"individual\":   Plot memory consumption for each rank individually.\n",
    "        \"averaged\":     Plot memory consumption averaged over the GPUs.\n",
    "        \"sum\":          Plot total memory consumption summed up over all GPUs.\n",
    "    show: if the created plot(s) should be shown as output in the notebook.\n",
    "    save: if the created plot(s) should be saved to a pdf file.\n",
    "    save_dir: directory to which the created plots should be saved.\n",
    "    \"\"\"\n",
    "    cuda_df = get_metrics_csv(torch_cuda_paths[run], csv_type=\"torch_cuda\")\n",
    "    if mode == \"individual\":\n",
    "        cuda_plot_df = cuda_df.set_index(\"datetime\")\n",
    "        cuda_plot_df.index = pd.to_datetime(cuda_plot_df.index).strftime(\"%H:%M\")\n",
    "        for rank, group in cuda_plot_df.groupby(\"rank\"):\n",
    "            group[[\"gpu_memory_allocated\", \"gpu_memory_reserved\"]].plot(\n",
    "                xlabel=\"time\", \n",
    "                ylabel=\"memory in MB\",\n",
    "                title=f\"Rank {rank} GPU memory\",\n",
    "                color=color_theme\n",
    "            )\n",
    "            plt.legend([\n",
    "                \"allocated GPU CUDA memory\",\n",
    "                \"reserved GPU CUDA memory\"\n",
    "            ])\n",
    "            if save:\n",
    "                if not os.path.exists(os.path.join(save_dir, run)):\n",
    "                    os.makedirs(os.path.join(save_dir, run))\n",
    "                plt.savefig(os.path.join(save_dir, run, f\"rank{rank}.pdf\"))\n",
    "            if not show:\n",
    "                plt.close()\n",
    "    if mode in [\"averaged\", \"sum\"]:\n",
    "        cuda_df_aggr = sum([\n",
    "            cuda_df[cuda_df[\"rank\"] == rank].reset_index(drop=True)[[\"gpu_memory_allocated\", \"gpu_memory_reserved\"]]\n",
    "            for rank in cuda_df[\"rank\"].unique()\n",
    "        ])\n",
    "        cuda_df_aggr.index = pd.to_datetime(cuda_df[cuda_df[\"rank\"] == 0].set_index(\"datetime\").index).strftime(\"%H:%M\")\n",
    "        if mode == \"averaged\":\n",
    "            cuda_df_aggr = cuda_df_aggr / cuda_df[\"rank\"].nunique()\n",
    "            title = \"Averaged GPU memory\"\n",
    "        elif mode == \"sum\":\n",
    "            title = \"Total GPU memory\"\n",
    "        cuda_df_aggr.plot(\n",
    "            xlabel=\"time\",\n",
    "            ylabel=\"memory in MB\",\n",
    "            title=title,\n",
    "            color=color_theme\n",
    "        )\n",
    "        plt.legend([\n",
    "            \"allocated GPU CUDA memory\",\n",
    "            \"reserved GPU CUDA memory\"\n",
    "        ])\n",
    "        if save:\n",
    "            if not os.path.exists(os.path.join(save_dir, run)):\n",
    "                os.makedirs(os.path.join(save_dir, run))\n",
    "            plt.savefig(os.path.join(save_dir, run, f\"{mode}.pdf\"))\n",
    "        if not show:\n",
    "            plt.close()"
   ]
  },
  {
   "cell_type": "code",
   "execution_count": 11,
   "metadata": {},
   "outputs": [
    {
     "data": {
      "image/png": "[encoded data removed]",
      "text/plain": [
       "<Figure size 432x288 with 1 Axes>"
      ]
     },
     "metadata": {
      "needs_background": "light"
     },
     "output_type": "display_data"
    }
   ],
   "source": [
    "plot_cuda_memory(\"stage0\", mode=\"averaged\")"
   ]
  },
  {
   "cell_type": "code",
   "execution_count": 12,
   "metadata": {},
   "outputs": [
    {
     "data": {
      "image/png": "[encoded data removed]",
      "text/plain": [
       "<Figure size 432x288 with 1 Axes>"
      ]
     },
     "metadata": {
      "needs_background": "light"
     },
     "output_type": "display_data"
    },
    {
     "data": {
      "image/png": "[encoded data removed]",
      "text/plain": [
       "<Figure size 432x288 with 1 Axes>"
      ]
     },
     "metadata": {
      "needs_background": "light"
     },
     "output_type": "display_data"
    },
    {
     "data": {
      "image/png": "[encoded data removed]",
      "text/plain": [
       "<Figure size 432x288 with 1 Axes>"
      ]
     },
     "metadata": {
      "needs_background": "light"
     },
     "output_type": "display_data"
    },
    {
     "data": {
      "image/png": "[encoded data removed]",
      "text/plain": [
       "<Figure size 432x288 with 1 Axes>"
      ]
     },
     "metadata": {
      "needs_background": "light"
     },
     "output_type": "display_data"
    },
    {
     "data": {
      "image/png": "[encoded data removed]",
      "text/plain": [
       "<Figure size 432x288 with 1 Axes>"
      ]
     },
     "metadata": {
      "needs_background": "light"
     },
     "output_type": "display_data"
    },
    {
     "data": {
      "image/png": "[encoded data removed]",
      "text/plain": [
       "<Figure size 432x288 with 1 Axes>"
      ]
     },
     "metadata": {
      "needs_background": "light"
     },
     "output_type": "display_data"
    },
    {
     "data": {
      "image/png": "[encoded data removed]",
      "text/plain": [
       "<Figure size 432x288 with 1 Axes>"
      ]
     },
     "metadata": {
      "needs_background": "light"
     },
     "output_type": "display_data"
    },
    {
     "data": {
      "image/png": "[encoded data removed]",
      "text/plain": [
       "<Figure size 432x288 with 1 Axes>"
      ]
     },
     "metadata": {
      "needs_background": "light"
     },
     "output_type": "display_data"
    }
   ],
   "source": [
    "plot_cuda_memory(\"stage1\", mode=\"individual\")"
   ]
  },
  {
   "cell_type": "markdown",
   "metadata": {},
   "source": [
    "## Comparison of memory for different runs\n",
    "\n",
    "For different runs, the allocated and reserved GPU CUDA memory can be compared using the function below."
   ]
  },
  {
   "cell_type": "code",
   "execution_count": 13,
   "metadata": {},
   "outputs": [],
   "source": [
    "def compare_cuda_memory_along_runs(runs) -> pd.DataFrame:\n",
    "    \"\"\"\n",
    "    Compare cuda memory usage over all runs that are provided.\n",
    "    \"\"\"\n",
    "    torch_cuda_paths = get_paths(runs, csv_type=\"torch_cuda\")\n",
    "    memory_runs = {}\n",
    "    for key, run in runs.items():\n",
    "        cuda_df = get_metrics_csv(torch_cuda_paths[key], csv_type=\"torch_cuda\")\n",
    "        memory_runs[key] = cuda_df[[\"gpu_memory_allocated\", \"gpu_memory_reserved\"]].mean()\n",
    "    return pd.DataFrame(memory_runs)"
   ]
  },
  {
   "cell_type": "code",
   "execution_count": 14,
   "metadata": {},
   "outputs": [
    {
     "data": {
      "text/html": [
       "<div>\n",
       "<style scoped>\n",
       "    .dataframe tbody tr th:only-of-type {\n",
       "        vertical-align: middle;\n",
       "    }\n",
       "\n",
       "    .dataframe tbody tr th {\n",
       "        vertical-align: top;\n",
       "    }\n",
       "\n",
       "    .dataframe thead th {\n",
       "        text-align: right;\n",
       "    }\n",
       "</style>\n",
       "<table border=\"1\" class=\"dataframe\">\n",
       "  <thead>\n",
       "    <tr style=\"text-align: right;\">\n",
       "      <th></th>\n",
       "      <th>stage0</th>\n",
       "      <th>stage0_fp16</th>\n",
       "      <th>stage1</th>\n",
       "      <th>stage1_ocomm</th>\n",
       "      <th>stage2_ocomm</th>\n",
       "      <th>stage2_offloadOptimizer[cpu]_ocomm</th>\n",
       "      <th>stage3_ocomm</th>\n",
       "      <th>stage3__offloadOptimizer[cpu]_offloadParam[cpu]_ocomm</th>\n",
       "    </tr>\n",
       "  </thead>\n",
       "  <tbody>\n",
       "    <tr>\n",
       "      <th>gpu_memory_allocated</th>\n",
       "      <td>7108.739952</td>\n",
       "      <td>7096.134937</td>\n",
       "      <td>2357.129914</td>\n",
       "      <td>2357.129914</td>\n",
       "      <td>2357.129914</td>\n",
       "      <td>1775.432378</td>\n",
       "      <td>3509.752804</td>\n",
       "      <td>2779.867713</td>\n",
       "    </tr>\n",
       "    <tr>\n",
       "      <th>gpu_memory_reserved</th>\n",
       "      <td>37710.459275</td>\n",
       "      <td>24976.606521</td>\n",
       "      <td>18985.168289</td>\n",
       "      <td>18985.183263</td>\n",
       "      <td>20296.181880</td>\n",
       "      <td>19770.469924</td>\n",
       "      <td>21989.350514</td>\n",
       "      <td>21317.812790</td>\n",
       "    </tr>\n",
       "  </tbody>\n",
       "</table>\n",
       "</div>"
      ],
      "text/plain": [
       "                            stage0   stage0_fp16        stage1  stage1_ocomm  \\\n",
       "gpu_memory_allocated   7108.739952   7096.134937   2357.129914   2357.129914   \n",
       "gpu_memory_reserved   37710.459275  24976.606521  18985.168289  18985.183263   \n",
       "\n",
       "                      stage2_ocomm  stage2_offloadOptimizer[cpu]_ocomm  \\\n",
       "gpu_memory_allocated   2357.129914                         1775.432378   \n",
       "gpu_memory_reserved   20296.181880                        19770.469924   \n",
       "\n",
       "                      stage3_ocomm  \\\n",
       "gpu_memory_allocated   3509.752804   \n",
       "gpu_memory_reserved   21989.350514   \n",
       "\n",
       "                      stage3__offloadOptimizer[cpu]_offloadParam[cpu]_ocomm  \n",
       "gpu_memory_allocated                                        2779.867713      \n",
       "gpu_memory_reserved                                        21317.812790      "
      ]
     },
     "execution_count": 14,
     "metadata": {},
     "output_type": "execute_result"
    }
   ],
   "source": [
    "compare_cuda_memory_along_runs(runs)"
   ]
  },
  {
   "cell_type": "code",
   "execution_count": 15,
   "metadata": {},
   "outputs": [],
   "source": [
    "def plot_cuda_memory_along_runs(\n",
    "    runs, \n",
    "    xticks=None, \n",
    "    show=True, \n",
    "    save=False, \n",
    "    save_dir=\"outputs/cuda_memory\"\n",
    "):\n",
    "    \"\"\"\n",
    "    Create bar plot of the allocated and reserved cuda memory usage over\n",
    "    all runs that were concucted.\n",
    "\n",
    "    runs: names of the runs that should be plotted.\n",
    "    xticks: bar names if these should not be the default row names of the runs data frame.\n",
    "    show: if the created plot should be shown as output in the notebook.\n",
    "    save: if the created plot should be saved.\n",
    "    save_path: path to which the figure should be saved.\n",
    "    \"\"\"\n",
    "    runs_df = compare_cuda_memory_along_runs(runs).T\n",
    "    runs_df.plot.bar(\n",
    "        ylabel=\"memory in MB\",\n",
    "        title=r\"\\textbf{GPU CUDA memory averaged among the processes}\",\n",
    "        rot=0,\n",
    "        color=color_theme,\n",
    "        figsize=(15, 7)\n",
    "    )\n",
    "    if xticks:\n",
    "        plt.xticks(range(len(xticks)), xticks)\n",
    "    plt.legend([\n",
    "        \"allocated GPU CUDA memory\",\n",
    "        \"reserved GPU CUDA memory\"\n",
    "    ])\n",
    "    if save:\n",
    "        plt.savefig(os.path.join(save_dir, \"memory_comparison.pdf\"))\n",
    "\n"
   ]
  },
  {
   "cell_type": "code",
   "execution_count": 16,
   "metadata": {},
   "outputs": [
    {
     "data": {
      "image/png": "[encoded data removed]",
      "text/plain": [
       "<Figure size 1080x504 with 1 Axes>"
      ]
     },
     "metadata": {
      "needs_background": "light"
     },
     "output_type": "display_data"
    }
   ],
   "source": [
    "xticks = [\n",
    "    \"Stage 0\",\n",
    "    \"Stage 0\\n\" + r\"\\scriptsize \\textit{fp16}\",\n",
    "    \"Stage 1\",\n",
    "    \"Stage 1\\n\" + r\"\\scriptsize \\textit{overlapping communication}\",\n",
    "    \"Stage 2\\n\" + r\"\\scriptsize \\textit{overlapping communication}\",\n",
    "    \"Stage 2\\n\" + r\"\\scriptsize \\textit{optimizer offloading}\" + \"\\n\" + r\"\\scriptsize \\textit{overlapping communication}\",\n",
    "    \"Stage 3\\n\" + r\"\\scriptsize \\textit{overlapping communication}\",\n",
    "    \"Stage 3\\n\" + r\"\\scriptsize \\textit{optimizer/param. offloading}\" + \"\\n\" + r\"\\scriptsize \\textit{overlapping communication}\"\n",
    "]\n",
    "plot_cuda_memory_along_runs(runs, xticks=xticks)"
   ]
  }
 ],
 "metadata": {
  "kernelspec": {
   "display_name": "Python 3.9.12 ('tum-di-lab')",
   "language": "python",
   "name": "python3"
  },
  "language_info": {
   "codemirror_mode": {
    "name": "ipython",
    "version": 3
   },
   "file_extension": ".py",
   "mimetype": "text/x-python",
   "name": "python",
   "nbconvert_exporter": "python",
   "pygments_lexer": "ipython3",
   "version": "3.9.12"
  },
  "orig_nbformat": 4,
  "vscode": {
   "interpreter": {
    "hash": "119c6c5c0d22922f1de4a43916b405efff0fc16ad72dd0247274e82a6c60783f"
   }
  }
 },
 "nbformat": 4,
 "nbformat_minor": 2
}
