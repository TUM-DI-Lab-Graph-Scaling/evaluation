{
 "cells": [
  {
   "cell_type": "markdown",
   "metadata": {},
   "source": [
    "# Evaluation of GPU memory consumption for CUDA Tensors"
   ]
  },
  {
   "cell_type": "code",
   "execution_count": 1,
   "metadata": {},
   "outputs": [],
   "source": [
    "import os\n",
    "from datetime import datetime\n",
    "\n",
    "import pandas as pd"
   ]
  },
  {
   "cell_type": "markdown",
   "metadata": {},
   "source": [
    "## Data loading\n",
    "\n",
    "At first, we specify the paths necessary for evaluation. This includes:\n",
    "- the ocp metrics directory stored in `ocp_metrics_path`\n",
    "- the directory `directory` for the specific model/series of runs we would like to consider\n",
    "- the runs `runs` as a `dict` with shorter name as key and the respective csv filenames without \"_resources/...\" extensions"
   ]
  },
  {
   "cell_type": "code",
   "execution_count": 2,
   "metadata": {},
   "outputs": [],
   "source": [
    "ocp_metrics_path = \"/Users/danielherbst/Desktop/ocp-metrics\"\n",
    "directory = \"s2ef/gemnet_xl/batch_size_1_grad_acc_2\"\n",
    "runs = {\n",
    "    \"stage0\":                                           \"1658747179_stage0_8gpus\",\n",
    "    \"stage0_fp16\":                                      \"1658781353_stage0_8gpus_fp16\",\n",
    "    \"stage2\":                                           \"1658785954_stage2_8gpus\",\n",
    "    \"stage2_offloadOptimizer[cpu]\":                     \"1658756751_stage2_8gpus_offloadOptimizer[cpu]\",\n",
    "    \"stage3_offloadOptimizer[cpu]_offloadParam[cpu]\":   \"1658805958_stage3_8gpus_offloadOptimizer[cpu]_offloadParam[cpu]\"\n",
    "}"
   ]
  },
  {
   "cell_type": "code",
   "execution_count": 3,
   "metadata": {},
   "outputs": [],
   "source": [
    "def get_paths(runs, csv_type) -> dict:\n",
    "    \"\"\"\n",
    "    runs:       dict of runs with timestamp\n",
    "    directory:  directory in which the runs are stored\n",
    "    sv_type:    [\"resources\"|\"torch_cuda\"] \n",
    "    TODO: add support for runtimes\n",
    "    \"\"\"\n",
    "    if csv_type == \"resources\":\n",
    "        return {key: os.path.join(ocp_metrics_path, directory, f\"{run}_resources.csv\") for key, run in runs.items()}\n",
    "    elif csv_type == \"torch_cuda\":\n",
    "        return {key: os.path.join(ocp_metrics_path, directory, f\"{run}_torch_cuda.csv\") for key, run in runs.items()}\n",
    "    else:\n",
    "        raise ValueError(f\"CSV type {csv_type} is not supported.\")\n",
    "\n",
    "def get_metrics_csv(file_path, csv_type) -> pd.DataFrame:\n",
    "    \"\"\"\n",
    "    file_path:  path to the metrics csv file within the ocp metrics folder\n",
    "    csv_type:   [\"resources\"|\"torch_cuda\"]\n",
    "    TODO: add support for runtimes\n",
    "    \"\"\"\n",
    "    df = pd.read_csv(os.path.join(ocp_metrics_path, file_path))\n",
    "    if csv_type == \"resources\":\n",
    "        for header in [\"memory_used\", \"memory_free\"]:\n",
    "            df[header] = df[header] / 1_000_000\n",
    "    elif csv_type == \"torch_cuda\":\n",
    "        for header in [\"gpu_memory_allocated\", \"gpu_memory_reserved\"]:\n",
    "            df[header] = df[header] / 1_000_000\n",
    "    else:\n",
    "        raise ValueError(f\"CSV type {csv_type} is not supported.\")\n",
    "    return df"
   ]
  },
  {
   "cell_type": "code",
   "execution_count": 4,
   "metadata": {},
   "outputs": [],
   "source": [
    "resources_paths = get_paths(runs, csv_type=\"resources\")\n",
    "torch_cuda_paths = get_paths(runs, csv_type=\"torch_cuda\")"
   ]
  },
  {
   "cell_type": "markdown",
   "metadata": {},
   "source": [
    "## Inspection of a single run\n",
    "\n",
    "At first, we inspect single runs with a set DeepSpeed configuration. We look at statistical summaries of the allocated and reserved memory."
   ]
  },
  {
   "cell_type": "code",
   "execution_count": 5,
   "metadata": {},
   "outputs": [
    {
     "data": {
      "text/html": [
       "<div>\n",
       "<style scoped>\n",
       "    .dataframe tbody tr th:only-of-type {\n",
       "        vertical-align: middle;\n",
       "    }\n",
       "\n",
       "    .dataframe tbody tr th {\n",
       "        vertical-align: top;\n",
       "    }\n",
       "\n",
       "    .dataframe thead th {\n",
       "        text-align: right;\n",
       "    }\n",
       "</style>\n",
       "<table border=\"1\" class=\"dataframe\">\n",
       "  <thead>\n",
       "    <tr style=\"text-align: right;\">\n",
       "      <th></th>\n",
       "      <th>datetime</th>\n",
       "      <th>epoch</th>\n",
       "      <th>rank</th>\n",
       "      <th>gpu_memory_allocated</th>\n",
       "      <th>gpu_memory_reserved</th>\n",
       "    </tr>\n",
       "  </thead>\n",
       "  <tbody>\n",
       "    <tr>\n",
       "      <th>0</th>\n",
       "      <td>2022-07-25 11:06:22.190959</td>\n",
       "      <td>0</td>\n",
       "      <td>4</td>\n",
       "      <td>2367.652864</td>\n",
       "      <td>2562.719744</td>\n",
       "    </tr>\n",
       "    <tr>\n",
       "      <th>1</th>\n",
       "      <td>2022-07-25 11:06:22.191030</td>\n",
       "      <td>0</td>\n",
       "      <td>1</td>\n",
       "      <td>2367.652864</td>\n",
       "      <td>2562.719744</td>\n",
       "    </tr>\n",
       "    <tr>\n",
       "      <th>2</th>\n",
       "      <td>2022-07-25 11:06:22.191408</td>\n",
       "      <td>0</td>\n",
       "      <td>6</td>\n",
       "      <td>2367.652864</td>\n",
       "      <td>2562.719744</td>\n",
       "    </tr>\n",
       "    <tr>\n",
       "      <th>3</th>\n",
       "      <td>2022-07-25 11:06:22.191515</td>\n",
       "      <td>0</td>\n",
       "      <td>7</td>\n",
       "      <td>2367.652864</td>\n",
       "      <td>2562.719744</td>\n",
       "    </tr>\n",
       "    <tr>\n",
       "      <th>4</th>\n",
       "      <td>2022-07-25 11:06:22.191631</td>\n",
       "      <td>0</td>\n",
       "      <td>5</td>\n",
       "      <td>2367.652864</td>\n",
       "      <td>2562.719744</td>\n",
       "    </tr>\n",
       "    <tr>\n",
       "      <th>...</th>\n",
       "      <td>...</td>\n",
       "      <td>...</td>\n",
       "      <td>...</td>\n",
       "      <td>...</td>\n",
       "      <td>...</td>\n",
       "    </tr>\n",
       "    <tr>\n",
       "      <th>199995</th>\n",
       "      <td>2022-07-25 13:21:21.748784</td>\n",
       "      <td>0</td>\n",
       "      <td>7</td>\n",
       "      <td>7116.325888</td>\n",
       "      <td>37163.630592</td>\n",
       "    </tr>\n",
       "    <tr>\n",
       "      <th>199996</th>\n",
       "      <td>2022-07-25 13:21:21.769266</td>\n",
       "      <td>0</td>\n",
       "      <td>4</td>\n",
       "      <td>7103.796736</td>\n",
       "      <td>43171.971072</td>\n",
       "    </tr>\n",
       "    <tr>\n",
       "      <th>199997</th>\n",
       "      <td>2022-07-25 13:21:21.774509</td>\n",
       "      <td>0</td>\n",
       "      <td>5</td>\n",
       "      <td>7142.106624</td>\n",
       "      <td>44044.386304</td>\n",
       "    </tr>\n",
       "    <tr>\n",
       "      <th>199998</th>\n",
       "      <td>2022-07-25 13:21:21.825901</td>\n",
       "      <td>0</td>\n",
       "      <td>2</td>\n",
       "      <td>7092.009984</td>\n",
       "      <td>30643.585024</td>\n",
       "    </tr>\n",
       "    <tr>\n",
       "      <th>199999</th>\n",
       "      <td>2022-07-25 13:21:21.864705</td>\n",
       "      <td>0</td>\n",
       "      <td>0</td>\n",
       "      <td>7106.152448</td>\n",
       "      <td>31069.306880</td>\n",
       "    </tr>\n",
       "  </tbody>\n",
       "</table>\n",
       "<p>200000 rows × 5 columns</p>\n",
       "</div>"
      ],
      "text/plain": [
       "                          datetime  epoch  rank  gpu_memory_allocated  \\\n",
       "0       2022-07-25 11:06:22.190959      0     4           2367.652864   \n",
       "1       2022-07-25 11:06:22.191030      0     1           2367.652864   \n",
       "2       2022-07-25 11:06:22.191408      0     6           2367.652864   \n",
       "3       2022-07-25 11:06:22.191515      0     7           2367.652864   \n",
       "4       2022-07-25 11:06:22.191631      0     5           2367.652864   \n",
       "...                            ...    ...   ...                   ...   \n",
       "199995  2022-07-25 13:21:21.748784      0     7           7116.325888   \n",
       "199996  2022-07-25 13:21:21.769266      0     4           7103.796736   \n",
       "199997  2022-07-25 13:21:21.774509      0     5           7142.106624   \n",
       "199998  2022-07-25 13:21:21.825901      0     2           7092.009984   \n",
       "199999  2022-07-25 13:21:21.864705      0     0           7106.152448   \n",
       "\n",
       "        gpu_memory_reserved  \n",
       "0               2562.719744  \n",
       "1               2562.719744  \n",
       "2               2562.719744  \n",
       "3               2562.719744  \n",
       "4               2562.719744  \n",
       "...                     ...  \n",
       "199995         37163.630592  \n",
       "199996         43171.971072  \n",
       "199997         44044.386304  \n",
       "199998         30643.585024  \n",
       "199999         31069.306880  \n",
       "\n",
       "[200000 rows x 5 columns]"
      ]
     },
     "execution_count": 5,
     "metadata": {},
     "output_type": "execute_result"
    }
   ],
   "source": [
    "cuda_df = get_metrics_csv(torch_cuda_paths[\"stage0\"], csv_type=\"torch_cuda\")\n",
    "cuda_df"
   ]
  },
  {
   "cell_type": "code",
   "execution_count": 6,
   "metadata": {},
   "outputs": [],
   "source": [
    "def cuda_memory_summary_per_gpu(cuda_df) -> pd.DataFrame:\n",
    "    \"\"\"\n",
    "    Returns statistical summary of the cuda memory usage per rank.\n",
    "    \"\"\"\n",
    "    return cuda_df.groupby(\"rank\")[[\"gpu_memory_allocated\", \"gpu_memory_reserved\"]].describe()\n",
    "\n",
    "def cuda_memory_summary_averaged(cuda_df) -> pd.DataFrame:\n",
    "    \"\"\"\n",
    "    Returns statistical summary of the cuda memory usage averaged over all ranks.\n",
    "    \"\"\"\n",
    "    return cuda_df[[\"gpu_memory_allocated\", \"gpu_memory_reserved\"]].describe()"
   ]
  },
  {
   "cell_type": "code",
   "execution_count": 7,
   "metadata": {},
   "outputs": [
    {
     "data": {
      "text/html": [
       "<div>\n",
       "<style scoped>\n",
       "    .dataframe tbody tr th:only-of-type {\n",
       "        vertical-align: middle;\n",
       "    }\n",
       "\n",
       "    .dataframe tbody tr th {\n",
       "        vertical-align: top;\n",
       "    }\n",
       "\n",
       "    .dataframe thead tr th {\n",
       "        text-align: left;\n",
       "    }\n",
       "\n",
       "    .dataframe thead tr:last-of-type th {\n",
       "        text-align: right;\n",
       "    }\n",
       "</style>\n",
       "<table border=\"1\" class=\"dataframe\">\n",
       "  <thead>\n",
       "    <tr>\n",
       "      <th></th>\n",
       "      <th colspan=\"8\" halign=\"left\">gpu_memory_allocated</th>\n",
       "      <th colspan=\"8\" halign=\"left\">gpu_memory_reserved</th>\n",
       "    </tr>\n",
       "    <tr>\n",
       "      <th></th>\n",
       "      <th>count</th>\n",
       "      <th>mean</th>\n",
       "      <th>std</th>\n",
       "      <th>min</th>\n",
       "      <th>25%</th>\n",
       "      <th>50%</th>\n",
       "      <th>75%</th>\n",
       "      <th>max</th>\n",
       "      <th>count</th>\n",
       "      <th>mean</th>\n",
       "      <th>std</th>\n",
       "      <th>min</th>\n",
       "      <th>25%</th>\n",
       "      <th>50%</th>\n",
       "      <th>75%</th>\n",
       "      <th>max</th>\n",
       "    </tr>\n",
       "    <tr>\n",
       "      <th>rank</th>\n",
       "      <th></th>\n",
       "      <th></th>\n",
       "      <th></th>\n",
       "      <th></th>\n",
       "      <th></th>\n",
       "      <th></th>\n",
       "      <th></th>\n",
       "      <th></th>\n",
       "      <th></th>\n",
       "      <th></th>\n",
       "      <th></th>\n",
       "      <th></th>\n",
       "      <th></th>\n",
       "      <th></th>\n",
       "      <th></th>\n",
       "      <th></th>\n",
       "    </tr>\n",
       "  </thead>\n",
       "  <tbody>\n",
       "    <tr>\n",
       "      <th>0</th>\n",
       "      <td>25000.0</td>\n",
       "      <td>7105.849893</td>\n",
       "      <td>29.968224</td>\n",
       "      <td>2367.652864</td>\n",
       "      <td>7106.006528</td>\n",
       "      <td>7106.038784</td>\n",
       "      <td>7106.071552</td>\n",
       "      <td>7106.244608</td>\n",
       "      <td>25000.0</td>\n",
       "      <td>36599.870249</td>\n",
       "      <td>3297.506880</td>\n",
       "      <td>2562.719744</td>\n",
       "      <td>33619.443712</td>\n",
       "      <td>38587.596800</td>\n",
       "      <td>38587.596800</td>\n",
       "      <td>38587.596800</td>\n",
       "    </tr>\n",
       "    <tr>\n",
       "      <th>1</th>\n",
       "      <td>25000.0</td>\n",
       "      <td>7095.856627</td>\n",
       "      <td>29.905022</td>\n",
       "      <td>2367.652864</td>\n",
       "      <td>7096.010752</td>\n",
       "      <td>7096.045056</td>\n",
       "      <td>7096.079360</td>\n",
       "      <td>7096.243200</td>\n",
       "      <td>25000.0</td>\n",
       "      <td>37944.071364</td>\n",
       "      <td>2277.630726</td>\n",
       "      <td>2562.719744</td>\n",
       "      <td>38791.020544</td>\n",
       "      <td>38791.020544</td>\n",
       "      <td>38791.020544</td>\n",
       "      <td>38791.020544</td>\n",
       "    </tr>\n",
       "    <tr>\n",
       "      <th>2</th>\n",
       "      <td>25000.0</td>\n",
       "      <td>7091.740169</td>\n",
       "      <td>29.878985</td>\n",
       "      <td>2367.652864</td>\n",
       "      <td>7091.895296</td>\n",
       "      <td>7091.927552</td>\n",
       "      <td>7091.961856</td>\n",
       "      <td>7092.101120</td>\n",
       "      <td>25000.0</td>\n",
       "      <td>29599.837675</td>\n",
       "      <td>1366.070744</td>\n",
       "      <td>2562.719744</td>\n",
       "      <td>28003.270656</td>\n",
       "      <td>30643.585024</td>\n",
       "      <td>30643.585024</td>\n",
       "      <td>30643.585024</td>\n",
       "    </tr>\n",
       "    <tr>\n",
       "      <th>3</th>\n",
       "      <td>25000.0</td>\n",
       "      <td>7102.927672</td>\n",
       "      <td>29.949748</td>\n",
       "      <td>2367.652864</td>\n",
       "      <td>7103.079936</td>\n",
       "      <td>7103.118848</td>\n",
       "      <td>7103.152128</td>\n",
       "      <td>7103.331840</td>\n",
       "      <td>25000.0</td>\n",
       "      <td>36205.738213</td>\n",
       "      <td>2893.505504</td>\n",
       "      <td>2562.719744</td>\n",
       "      <td>35657.875456</td>\n",
       "      <td>35657.875456</td>\n",
       "      <td>38648.414208</td>\n",
       "      <td>38648.414208</td>\n",
       "    </tr>\n",
       "    <tr>\n",
       "      <th>4</th>\n",
       "      <td>25000.0</td>\n",
       "      <td>7103.609622</td>\n",
       "      <td>29.954092</td>\n",
       "      <td>2367.652864</td>\n",
       "      <td>7103.751168</td>\n",
       "      <td>7103.794176</td>\n",
       "      <td>7103.840768</td>\n",
       "      <td>7104.025088</td>\n",
       "      <td>25000.0</td>\n",
       "      <td>42124.843449</td>\n",
       "      <td>1970.505347</td>\n",
       "      <td>2562.719744</td>\n",
       "      <td>39860.568064</td>\n",
       "      <td>43171.971072</td>\n",
       "      <td>43171.971072</td>\n",
       "      <td>43171.971072</td>\n",
       "    </tr>\n",
       "    <tr>\n",
       "      <th>5</th>\n",
       "      <td>25000.0</td>\n",
       "      <td>7141.889834</td>\n",
       "      <td>30.196182</td>\n",
       "      <td>2367.652864</td>\n",
       "      <td>7142.042624</td>\n",
       "      <td>7142.078464</td>\n",
       "      <td>7142.116352</td>\n",
       "      <td>7142.319616</td>\n",
       "      <td>25000.0</td>\n",
       "      <td>39549.244843</td>\n",
       "      <td>2801.401910</td>\n",
       "      <td>2562.719744</td>\n",
       "      <td>37669.044224</td>\n",
       "      <td>40850.423808</td>\n",
       "      <td>40850.423808</td>\n",
       "      <td>44044.386304</td>\n",
       "    </tr>\n",
       "    <tr>\n",
       "      <th>6</th>\n",
       "      <td>25000.0</td>\n",
       "      <td>7111.396349</td>\n",
       "      <td>30.003309</td>\n",
       "      <td>2367.652864</td>\n",
       "      <td>7111.550464</td>\n",
       "      <td>7111.585792</td>\n",
       "      <td>7111.621248</td>\n",
       "      <td>7111.795200</td>\n",
       "      <td>25000.0</td>\n",
       "      <td>44723.314098</td>\n",
       "      <td>3280.865130</td>\n",
       "      <td>2562.719744</td>\n",
       "      <td>43079.696384</td>\n",
       "      <td>46066.040832</td>\n",
       "      <td>46066.040832</td>\n",
       "      <td>46066.040832</td>\n",
       "    </tr>\n",
       "    <tr>\n",
       "      <th>7</th>\n",
       "      <td>25000.0</td>\n",
       "      <td>7116.125178</td>\n",
       "      <td>30.033224</td>\n",
       "      <td>2367.652864</td>\n",
       "      <td>7116.276736</td>\n",
       "      <td>7116.315136</td>\n",
       "      <td>7116.351488</td>\n",
       "      <td>7116.523520</td>\n",
       "      <td>25000.0</td>\n",
       "      <td>36632.327115</td>\n",
       "      <td>1443.623741</td>\n",
       "      <td>2562.719744</td>\n",
       "      <td>37163.630592</td>\n",
       "      <td>37163.630592</td>\n",
       "      <td>37163.630592</td>\n",
       "      <td>37163.630592</td>\n",
       "    </tr>\n",
       "  </tbody>\n",
       "</table>\n",
       "</div>"
      ],
      "text/plain": [
       "     gpu_memory_allocated                                                    \\\n",
       "                    count         mean        std          min          25%   \n",
       "rank                                                                          \n",
       "0                 25000.0  7105.849893  29.968224  2367.652864  7106.006528   \n",
       "1                 25000.0  7095.856627  29.905022  2367.652864  7096.010752   \n",
       "2                 25000.0  7091.740169  29.878985  2367.652864  7091.895296   \n",
       "3                 25000.0  7102.927672  29.949748  2367.652864  7103.079936   \n",
       "4                 25000.0  7103.609622  29.954092  2367.652864  7103.751168   \n",
       "5                 25000.0  7141.889834  30.196182  2367.652864  7142.042624   \n",
       "6                 25000.0  7111.396349  30.003309  2367.652864  7111.550464   \n",
       "7                 25000.0  7116.125178  30.033224  2367.652864  7116.276736   \n",
       "\n",
       "                                            gpu_memory_reserved                \\\n",
       "              50%          75%          max               count          mean   \n",
       "rank                                                                            \n",
       "0     7106.038784  7106.071552  7106.244608             25000.0  36599.870249   \n",
       "1     7096.045056  7096.079360  7096.243200             25000.0  37944.071364   \n",
       "2     7091.927552  7091.961856  7092.101120             25000.0  29599.837675   \n",
       "3     7103.118848  7103.152128  7103.331840             25000.0  36205.738213   \n",
       "4     7103.794176  7103.840768  7104.025088             25000.0  42124.843449   \n",
       "5     7142.078464  7142.116352  7142.319616             25000.0  39549.244843   \n",
       "6     7111.585792  7111.621248  7111.795200             25000.0  44723.314098   \n",
       "7     7116.315136  7116.351488  7116.523520             25000.0  36632.327115   \n",
       "\n",
       "                                                                          \\\n",
       "              std          min           25%           50%           75%   \n",
       "rank                                                                       \n",
       "0     3297.506880  2562.719744  33619.443712  38587.596800  38587.596800   \n",
       "1     2277.630726  2562.719744  38791.020544  38791.020544  38791.020544   \n",
       "2     1366.070744  2562.719744  28003.270656  30643.585024  30643.585024   \n",
       "3     2893.505504  2562.719744  35657.875456  35657.875456  38648.414208   \n",
       "4     1970.505347  2562.719744  39860.568064  43171.971072  43171.971072   \n",
       "5     2801.401910  2562.719744  37669.044224  40850.423808  40850.423808   \n",
       "6     3280.865130  2562.719744  43079.696384  46066.040832  46066.040832   \n",
       "7     1443.623741  2562.719744  37163.630592  37163.630592  37163.630592   \n",
       "\n",
       "                    \n",
       "               max  \n",
       "rank                \n",
       "0     38587.596800  \n",
       "1     38791.020544  \n",
       "2     30643.585024  \n",
       "3     38648.414208  \n",
       "4     43171.971072  \n",
       "5     44044.386304  \n",
       "6     46066.040832  \n",
       "7     37163.630592  "
      ]
     },
     "execution_count": 7,
     "metadata": {},
     "output_type": "execute_result"
    }
   ],
   "source": [
    "cuda_memory_summary_per_gpu(cuda_df)"
   ]
  },
  {
   "cell_type": "code",
   "execution_count": 8,
   "metadata": {},
   "outputs": [
    {
     "data": {
      "text/html": [
       "<div>\n",
       "<style scoped>\n",
       "    .dataframe tbody tr th:only-of-type {\n",
       "        vertical-align: middle;\n",
       "    }\n",
       "\n",
       "    .dataframe tbody tr th {\n",
       "        vertical-align: top;\n",
       "    }\n",
       "\n",
       "    .dataframe thead th {\n",
       "        text-align: right;\n",
       "    }\n",
       "</style>\n",
       "<table border=\"1\" class=\"dataframe\">\n",
       "  <thead>\n",
       "    <tr style=\"text-align: right;\">\n",
       "      <th></th>\n",
       "      <th>gpu_memory_allocated</th>\n",
       "      <th>gpu_memory_reserved</th>\n",
       "    </tr>\n",
       "  </thead>\n",
       "  <tbody>\n",
       "    <tr>\n",
       "      <th>count</th>\n",
       "      <td>200000.000000</td>\n",
       "      <td>200000.000000</td>\n",
       "    </tr>\n",
       "    <tr>\n",
       "      <th>mean</th>\n",
       "      <td>7108.674418</td>\n",
       "      <td>37922.405876</td>\n",
       "    </tr>\n",
       "    <tr>\n",
       "      <th>std</th>\n",
       "      <td>33.311145</td>\n",
       "      <td>4912.520713</td>\n",
       "    </tr>\n",
       "    <tr>\n",
       "      <th>min</th>\n",
       "      <td>2367.652864</td>\n",
       "      <td>2562.719744</td>\n",
       "    </tr>\n",
       "    <tr>\n",
       "      <th>25%</th>\n",
       "      <td>7096.218368</td>\n",
       "      <td>35657.875456</td>\n",
       "    </tr>\n",
       "    <tr>\n",
       "      <th>50%</th>\n",
       "      <td>7104.021504</td>\n",
       "      <td>38587.596800</td>\n",
       "    </tr>\n",
       "    <tr>\n",
       "      <th>75%</th>\n",
       "      <td>7111.774592</td>\n",
       "      <td>40850.423808</td>\n",
       "    </tr>\n",
       "    <tr>\n",
       "      <th>max</th>\n",
       "      <td>7142.319616</td>\n",
       "      <td>46066.040832</td>\n",
       "    </tr>\n",
       "  </tbody>\n",
       "</table>\n",
       "</div>"
      ],
      "text/plain": [
       "       gpu_memory_allocated  gpu_memory_reserved\n",
       "count         200000.000000        200000.000000\n",
       "mean            7108.674418         37922.405876\n",
       "std               33.311145          4912.520713\n",
       "min             2367.652864          2562.719744\n",
       "25%             7096.218368         35657.875456\n",
       "50%             7104.021504         38587.596800\n",
       "75%             7111.774592         40850.423808\n",
       "max             7142.319616         46066.040832"
      ]
     },
     "execution_count": 8,
     "metadata": {},
     "output_type": "execute_result"
    }
   ],
   "source": [
    "cuda_memory_summary_averaged(cuda_df)"
   ]
  },
  {
   "cell_type": "markdown",
   "metadata": {},
   "source": [
    "For a single run, the GPU CUDA torch memory consumption can be plotted versus time, individually on each GPU or averaged/summed across all involved GPUs."
   ]
  },
  {
   "cell_type": "code",
   "execution_count": 9,
   "metadata": {},
   "outputs": [],
   "source": [
    "def plot_cuda_memory(cuda_df, mode=\"individual\"):\n",
    "    \"\"\"\n",
    "    Plot the GPU memory allocated by or reserved for Cuda tensors over time.\n",
    "\n",
    "    mode:\n",
    "        \"individual\":   Plot memory consumption for each rank individually.\n",
    "        \"averaged\":     Plot memory consumption averaged over the GPUs.\n",
    "        \"sum\":          Plot total memory consumption summed up over all GPUs.\n",
    "    \"\"\"\n",
    "    if mode == \"individual\":\n",
    "        cuda_plot_df = cuda_df.set_index(\"datetime\")\n",
    "        cuda_plot_df.index = pd.to_datetime(cuda_plot_df.index).strftime(\"%H:%M\")\n",
    "        for rank, group in cuda_plot_df.groupby(\"rank\"):\n",
    "            group[[\"gpu_memory_allocated\", \"gpu_memory_reserved\"]].plot(\n",
    "                xlabel=\"time\", \n",
    "                ylabel=\"memory in MB\",\n",
    "                title=f\"Rank {rank} GPU memory\"\n",
    "            )\n",
    "    if mode in [\"averaged\", \"sum\"]:\n",
    "        cuda_df_aggr = sum([\n",
    "            cuda_df[cuda_df[\"rank\"] == rank].reset_index(drop=True)[[\"gpu_memory_allocated\", \"gpu_memory_reserved\"]]\n",
    "            for rank in cuda_df[\"rank\"].unique()\n",
    "        ])\n",
    "        cuda_df_aggr.index = pd.to_datetime(cuda_df[cuda_df[\"rank\"] == 0].set_index(\"datetime\").index).strftime(\"%H:%M\")\n",
    "        if mode == \"averaged\":\n",
    "            cuda_df_aggr = cuda_df_aggr / cuda_df[\"rank\"].nunique()\n",
    "            title = \"Averaged GPU memory\"\n",
    "        elif mode == \"sum\":\n",
    "            title = \"Total GPU memory\"\n",
    "        cuda_df_aggr.plot(\n",
    "            xlabel=\"time\",\n",
    "            ylabel=\"memory in MB\",\n",
    "            title=title\n",
    "        )"
   ]
  },
  {
   "cell_type": "code",
   "execution_count": 10,
   "metadata": {},
   "outputs": [
    {
     "data": {
      "image/png": "[encoded data removed]",
      "text/plain": [
       "<Figure size 432x288 with 1 Axes>"
      ]
     },
     "metadata": {
      "needs_background": "light"
     },
     "output_type": "display_data"
    }
   ],
   "source": [
    "plot_cuda_memory(cuda_df, mode=\"averaged\")"
   ]
  },
  {
   "cell_type": "code",
   "execution_count": 11,
   "metadata": {},
   "outputs": [
    {
     "data": {
      "image/png": "[encoded data removed]",
      "text/plain": [
       "<Figure size 432x288 with 1 Axes>"
      ]
     },
     "metadata": {
      "needs_background": "light"
     },
     "output_type": "display_data"
    },
    {
     "data": {
      "image/png": "[encoded data removed]",
      "text/plain": [
       "<Figure size 432x288 with 1 Axes>"
      ]
     },
     "metadata": {
      "needs_background": "light"
     },
     "output_type": "display_data"
    },
    {
     "data": {
      "image/png": "[encoded data removed]",
      "text/plain": [
       "<Figure size 432x288 with 1 Axes>"
      ]
     },
     "metadata": {
      "needs_background": "light"
     },
     "output_type": "display_data"
    },
    {
     "data": {
      "image/png": "[encoded data removed]",
      "text/plain": [
       "<Figure size 432x288 with 1 Axes>"
      ]
     },
     "metadata": {
      "needs_background": "light"
     },
     "output_type": "display_data"
    },
    {
     "data": {
      "image/png": "[encoded data removed]",
      "text/plain": [
       "<Figure size 432x288 with 1 Axes>"
      ]
     },
     "metadata": {
      "needs_background": "light"
     },
     "output_type": "display_data"
    },
    {
     "data": {
      "image/png": "[encoded data removed]",
      "text/plain": [
       "<Figure size 432x288 with 1 Axes>"
      ]
     },
     "metadata": {
      "needs_background": "light"
     },
     "output_type": "display_data"
    },
    {
     "data": {
      "image/png": "[encoded data removed]",
      "text/plain": [
       "<Figure size 432x288 with 1 Axes>"
      ]
     },
     "metadata": {
      "needs_background": "light"
     },
     "output_type": "display_data"
    },
    {
     "data": {
      "image/png": "[encoded data removed]",
      "text/plain": [
       "<Figure size 432x288 with 1 Axes>"
      ]
     },
     "metadata": {
      "needs_background": "light"
     },
     "output_type": "display_data"
    }
   ],
   "source": [
    "plot_cuda_memory(cuda_df, mode=\"individual\")"
   ]
  },
  {
   "cell_type": "markdown",
   "metadata": {},
   "source": [
    "## Comparison of different runs\n",
    "\n",
    "For different runs, the allocated and reserved GPU CUDA memory can be compared using the function below."
   ]
  },
  {
   "cell_type": "code",
   "execution_count": 12,
   "metadata": {},
   "outputs": [],
   "source": [
    "def compare_cuda_memory_along_runs(runs) -> pd.DataFrame:\n",
    "    \"\"\"\n",
    "    Compare cuda memory usage over all runs that are provided.\n",
    "    \"\"\"\n",
    "    torch_cuda_paths = get_paths(runs, csv_type=\"torch_cuda\")\n",
    "    memory_runs = {}\n",
    "    for key, run in runs.items():\n",
    "        cuda_df = get_metrics_csv(torch_cuda_paths[key], csv_type=\"torch_cuda\")\n",
    "        memory_runs[key] = cuda_df[[\"gpu_memory_allocated\", \"gpu_memory_reserved\"]].mean()\n",
    "    return pd.DataFrame(memory_runs)"
   ]
  },
  {
   "cell_type": "code",
   "execution_count": 13,
   "metadata": {},
   "outputs": [
    {
     "data": {
      "text/html": [
       "<div>\n",
       "<style scoped>\n",
       "    .dataframe tbody tr th:only-of-type {\n",
       "        vertical-align: middle;\n",
       "    }\n",
       "\n",
       "    .dataframe tbody tr th {\n",
       "        vertical-align: top;\n",
       "    }\n",
       "\n",
       "    .dataframe thead th {\n",
       "        text-align: right;\n",
       "    }\n",
       "</style>\n",
       "<table border=\"1\" class=\"dataframe\">\n",
       "  <thead>\n",
       "    <tr style=\"text-align: right;\">\n",
       "      <th></th>\n",
       "      <th>stage0</th>\n",
       "      <th>stage0_fp16</th>\n",
       "      <th>stage2</th>\n",
       "      <th>stage2_offloadOptimizer[cpu]</th>\n",
       "      <th>stage3_offloadOptimizer[cpu]_offloadParam[cpu]</th>\n",
       "    </tr>\n",
       "  </thead>\n",
       "  <tbody>\n",
       "    <tr>\n",
       "      <th>gpu_memory_allocated</th>\n",
       "      <td>7108.674418</td>\n",
       "      <td>7096.125152</td>\n",
       "      <td>2357.129914</td>\n",
       "      <td>1775.432378</td>\n",
       "      <td>2779.855518</td>\n",
       "    </tr>\n",
       "    <tr>\n",
       "      <th>gpu_memory_reserved</th>\n",
       "      <td>37922.405876</td>\n",
       "      <td>24924.734819</td>\n",
       "      <td>19214.518631</td>\n",
       "      <td>18713.886893</td>\n",
       "      <td>20971.450917</td>\n",
       "    </tr>\n",
       "  </tbody>\n",
       "</table>\n",
       "</div>"
      ],
      "text/plain": [
       "                            stage0   stage0_fp16        stage2  \\\n",
       "gpu_memory_allocated   7108.674418   7096.125152   2357.129914   \n",
       "gpu_memory_reserved   37922.405876  24924.734819  19214.518631   \n",
       "\n",
       "                      stage2_offloadOptimizer[cpu]  \\\n",
       "gpu_memory_allocated                   1775.432378   \n",
       "gpu_memory_reserved                   18713.886893   \n",
       "\n",
       "                      stage3_offloadOptimizer[cpu]_offloadParam[cpu]  \n",
       "gpu_memory_allocated                                     2779.855518  \n",
       "gpu_memory_reserved                                     20971.450917  "
      ]
     },
     "execution_count": 13,
     "metadata": {},
     "output_type": "execute_result"
    }
   ],
   "source": [
    "compare_cuda_memory_along_runs(runs)"
   ]
  }
 ],
 "metadata": {
  "kernelspec": {
   "display_name": "Python 3.9.12 ('tum-di-lab')",
   "language": "python",
   "name": "python3"
  },
  "language_info": {
   "codemirror_mode": {
    "name": "ipython",
    "version": 3
   },
   "file_extension": ".py",
   "mimetype": "text/x-python",
   "name": "python",
   "nbconvert_exporter": "python",
   "pygments_lexer": "ipython3",
   "version": "3.9.12"
  },
  "orig_nbformat": 4,
  "vscode": {
   "interpreter": {
    "hash": "119c6c5c0d22922f1de4a43916b405efff0fc16ad72dd0247274e82a6c60783f"
   }
  }
 },
 "nbformat": 4,
 "nbformat_minor": 2
}
