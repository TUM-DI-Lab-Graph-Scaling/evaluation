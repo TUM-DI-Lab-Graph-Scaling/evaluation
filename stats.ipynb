{
 "cells": [
  {
   "cell_type": "markdown",
   "metadata": {
    "collapsed": false,
    "pycharm": {
     "name": "#%% md\n"
    }
   },
   "source": [
    "# Dataloading Example\n",
    "\n",
    "This notebook shows how to load `_resource.csv` and `_runtimes.csv` files from `/data`"
   ]
  },
  {
   "cell_type": "code",
   "execution_count": 1,
   "metadata": {
    "collapsed": false,
    "pycharm": {
     "name": "#%%\n"
    }
   },
   "outputs": [],
   "source": [
    "import pandas as pd\n",
    "import itertools"
   ]
  },
  {
   "cell_type": "markdown",
   "metadata": {
    "collapsed": false,
    "pycharm": {
     "name": "#%% md\n"
    }
   },
   "source": [
    "## Read resource files\n",
    "\n",
    "Resource files have the following structure:\n",
    "\n",
    "- _datetime_: Timestamp when the resource snapshot was taken\n",
    "- _epoch_: Current epoch of the trainer\n",
    "- _memory\\_used_: (CPU-)RAM used\n",
    "- _memory\\_free_: (CPU-)RAM available\n",
    "\n",
    "<code>for i in number_of_gpus:</code>\n",
    "- _gpu\\_{i}\\_memory\\_used_: VRAM of GPU i used\n",
    "- _gpu\\_{i}\\_memory\\_free_: VRAM of GPU i available"
   ]
  },
  {
   "cell_type": "code",
   "execution_count": 2,
   "metadata": {
    "collapsed": false,
    "pycharm": {
     "name": "#%%\n"
    }
   },
   "outputs": [],
   "source": [
    "def read_resources(file= 'ocp-metrics/s2ef/gemnet_t/1658534487_stage2_8gpus__resources.csv'):\n",
    "    num_gpus = 8\n",
    "    gpu_headers = list(itertools.chain.from_iterable([[f\"gpu_{i}_memory_used\", f\"gpu_{i}_memory_free\"] for i in range(num_gpus)]))\n",
    "\n",
    "    resources = pd.read_csv(file,\n",
    "                            header=None,\n",
    "                            names=[\n",
    "                                \"datetime\",\n",
    "                                \"epoch\",\n",
    "                                \"memory_used\",\n",
    "                                \"memory_free\"\n",
    "                            ] + gpu_headers)\n",
    "\n",
    "    return resources"
   ]
  },
  {
   "cell_type": "markdown",
   "metadata": {
    "collapsed": false,
    "pycharm": {
     "name": "#%% md\n"
    }
   },
   "source": [
    "## Read runtime files\n",
    "\n",
    "Runtime files have the following structure:\n",
    "\n",
    "- _rank_: Rank of device (=GPU)\n",
    "- _epoch_: Current epoch of the trainer\n",
    "- _epoch\\_time_: Total time of epoch (in s)\n",
    "- _dataloading\\_time_: Time spend during dataloading (in s)\n",
    "- _forward\\_time_: Time spend during forward pass (in s)\n",
    "- _backward\\_time_: Time spend during backward pass (in s)"
   ]
  },
  {
   "cell_type": "code",
   "execution_count": 3,
   "metadata": {
    "collapsed": false,
    "pycharm": {
     "name": "#%%\n"
    }
   },
   "outputs": [],
   "source": [
    "def read_runtimes(file = \"ocp-metrics/s2ef/gemnet_t/1658138522_stage1_8gpus_runtimes.csv\"):\n",
    "    runtimes = pd.read_csv(file,\n",
    "                            header=None,\n",
    "                            names=[\n",
    "                                \"rank\",\n",
    "                                \"epoch\",\n",
    "                                \"epoch_time\",\n",
    "                                \"dataloading_time\",\n",
    "                                \"forward_time\",\n",
    "                                \"backward_time\"\n",
    "                            ])\n",
    "\n",
    "    return runtimes"
   ]
  },
  {
   "cell_type": "code",
   "execution_count": 4,
   "metadata": {},
   "outputs": [],
   "source": [
    "def stats_resources(file = 'ocp-metrics/s2ef/gemnet_t/1658534487_stage2_8gpus__resources.csv'):\n",
    "    resources = read_resources(file)\n",
    "    drop = [x for x in resources.columns if x.endswith('free')] + [\"datetime\",\"epoch\"]\n",
    "    resources = resources.drop(columns = drop)\n",
    "    resources[\"gpu_memory\"] = resources[resources.columns[1:]].sum(axis = 1)\n",
    "    resources[\"cpu_memory\"] = resources[\"memory_used\"]\n",
    "    return resources[[\"gpu_memory\",\"cpu_memory\"]].apply(['mean','std'])\n",
    "    \n"
   ]
  },
  {
   "cell_type": "code",
   "execution_count": 37,
   "metadata": {},
   "outputs": [],
   "source": [
    "\n",
    "def stats_runtimes(file = \"ocp-metrics/s2ef/gemnet_t/1658138522_stage1_8gpus_runtimes.csv\"):\n",
    "    runtimes = read_runtimes(file)\n",
    "    stats = pd.concat([runtimes.groupby(\"epoch\").max()[['epoch_time']],runtimes.groupby(\"epoch\").std()[['epoch_time']].rename(columns = {\"epoch_time\":\"std_per_gpu\"})],axis = 1)\n",
    "    runtimes = runtimes.groupby(\"epoch\").mean()\n",
    "    runtimes[\"rest_time\"] = runtimes['epoch_time'] - runtimes['dataloading_time'] - runtimes['forward_time'] - runtimes['backward_time']\n",
    "    for col in [\"dataloading_time\",\"forward_time\",\"backward_time\",\"rest_time\"]:\n",
    "        runtimes[col+\"_percentage\"] = runtimes[col]/runtimes['epoch_time']\n",
    "    runtimes = runtimes[[x +\"_percentage\" for x in [\"dataloading_time\",\"forward_time\",\"backward_time\",\"rest_time\"] ]]\n",
    "    return pd.concat([stats,runtimes],axis = 1).mean() \n"
   ]
  },
  {
   "cell_type": "code",
   "execution_count": 38,
   "metadata": {},
   "outputs": [
    {
     "data": {
      "text/plain": [
       "epoch_time                     5157.134857\n",
       "std_per_gpu                       0.102046\n",
       "dataloading_time_percentage       0.000473\n",
       "forward_time_percentage           0.441708\n",
       "backward_time_percentage          0.449657\n",
       "rest_time_percentage              0.108162\n",
       "dtype: float64"
      ]
     },
     "execution_count": 38,
     "metadata": {},
     "output_type": "execute_result"
    }
   ],
   "source": [
    "stats_runtimes()"
   ]
  },
  {
   "cell_type": "code",
   "execution_count": 39,
   "metadata": {},
   "outputs": [
    {
     "data": {
      "text/html": [
       "<div>\n",
       "<style scoped>\n",
       "    .dataframe tbody tr th:only-of-type {\n",
       "        vertical-align: middle;\n",
       "    }\n",
       "\n",
       "    .dataframe tbody tr th {\n",
       "        vertical-align: top;\n",
       "    }\n",
       "\n",
       "    .dataframe thead th {\n",
       "        text-align: right;\n",
       "    }\n",
       "</style>\n",
       "<table border=\"1\" class=\"dataframe\">\n",
       "  <thead>\n",
       "    <tr style=\"text-align: right;\">\n",
       "      <th></th>\n",
       "      <th>gpu_memory</th>\n",
       "      <th>cpu_memory</th>\n",
       "    </tr>\n",
       "  </thead>\n",
       "  <tbody>\n",
       "    <tr>\n",
       "      <th>mean</th>\n",
       "      <td>293040.601449</td>\n",
       "      <td>4.787700e+10</td>\n",
       "    </tr>\n",
       "    <tr>\n",
       "      <th>std</th>\n",
       "      <td>7005.278007</td>\n",
       "      <td>2.493555e+09</td>\n",
       "    </tr>\n",
       "  </tbody>\n",
       "</table>\n",
       "</div>"
      ],
      "text/plain": [
       "         gpu_memory    cpu_memory\n",
       "mean  293040.601449  4.787700e+10\n",
       "std     7005.278007  2.493555e+09"
      ]
     },
     "execution_count": 39,
     "metadata": {},
     "output_type": "execute_result"
    }
   ],
   "source": [
    "stats_resources()"
   ]
  },
  {
   "cell_type": "code",
   "execution_count": null,
   "metadata": {},
   "outputs": [],
   "source": []
  }
 ],
 "metadata": {
  "kernelspec": {
   "display_name": "Python 3.9.13 ('ocp-models': conda)",
   "language": "python",
   "name": "python3"
  },
  "language_info": {
   "codemirror_mode": {
    "name": "ipython",
    "version": 3
   },
   "file_extension": ".py",
   "mimetype": "text/x-python",
   "name": "python",
   "nbconvert_exporter": "python",
   "pygments_lexer": "ipython3",
   "version": "3.9.12"
  },
  "vscode": {
   "interpreter": {
    "hash": "145b470786bc0495727482db7f2648377d682a3c44b8aeeaf7f5c7877a01c138"
   }
  }
 },
 "nbformat": 4,
 "nbformat_minor": 0
}
